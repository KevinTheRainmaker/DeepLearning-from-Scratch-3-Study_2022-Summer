{
 "cells": [
  {
   "cell_type": "markdown",
   "id": "af1b7122",
   "metadata": {},
   "source": [
    "# Step 7 Automation of Back Propagation\n"
   ]
  },
  {
   "cell_type": "markdown",
   "id": "78973fb3",
   "metadata": {},
   "source": [
    "## 7.1 Premise"
   ]
  },
  {
   "cell_type": "markdown",
   "id": "a1035cf3",
   "metadata": {},
   "source": [
    "If we have to write the code for bp everytime there is a new calculation, it would be bothering us. Therefore, the automation of the process is inevitable.  "
   ]
  },
  {
   "cell_type": "markdown",
   "id": "d5319ad0",
   "metadata": {},
   "source": [
    "**Define-by-Run** would be explained in the further steps. \n",
    "\n"
   ]
  },
  {
   "cell_type": "markdown",
   "id": "5e2af21e",
   "metadata": {},
   "source": [
    "**Relationship** between function and variable\n",
    "1. function -> variable : exists as an **input** and **output**\n",
    "2. variable -> function : can be called parents or **creator**"
   ]
  },
  {
   "cell_type": "code",
   "execution_count": 1,
   "id": "f0ee4468",
   "metadata": {},
   "outputs": [],
   "source": [
    "class Variable:\n",
    "    def __init__(self, data):\n",
    "        self.data=data\n",
    "        self.grad=None\n",
    "        self.creator=None\n",
    "    \n",
    "    def set_creator(self, func):\n",
    "        self.creator=func\n",
    "        \n",
    "class Function:\n",
    "    \n",
    "    def __call__(self, input):\n",
    "        x=input.data\n",
    "        y=self.forward(x)\n",
    "        output=Variable(y)\n",
    "        output.set_creator(self) #set creator for the output variable\n",
    "        \n",
    "        self.input=input #remember the input variable\n",
    "        self.output=output #also save the output\n",
    "        return output\n",
    "    \n",
    "    def forward(self, x):\n",
    "        raise NotImplementedError()\n",
    "    \n",
    "    def backward(self, x):\n",
    "        raise NotImplementedError()"
   ]
  },
  {
   "cell_type": "code",
   "execution_count": 5,
   "id": "4cce8d67",
   "metadata": {},
   "outputs": [],
   "source": [
    "import numpy as np\n",
    "\n",
    "class Square(Function):\n",
    "    def forward(self, x):\n",
    "        y=x**2\n",
    "        return y\n",
    "    def backward(self, gy):\n",
    "        x=self.input.data\n",
    "        gx=gy*2*x\n",
    "        return gx\n",
    "\n",
    "class Exp(Function):\n",
    "    def forward(self, x):\n",
    "        y=np.exp(x)\n",
    "        return y\n",
    "    def backward(self, gy):\n",
    "        x=self.input.data\n",
    "        gx=np.exp(x)*gy\n",
    "        return gx\n",
    "\n",
    "A= Square()\n",
    "B= Exp()\n",
    "C= Square()\n",
    "\n",
    "x=Variable(np.array(0.5))\n",
    "\n",
    "a=A(x)\n",
    "b=B(a)\n",
    "y=C(b)\n",
    "\n",
    "assert y.creator==C\n",
    "assert y.creator.input==b\n",
    "assert y.creator.input.creator==B\n",
    "assert y.creator.input.creator.input==a\n",
    "assert y.creator.input.creator.input.creator==A\n",
    "assert y.creator.input.creator.input.creator.input==x"
   ]
  },
  {
   "cell_type": "markdown",
   "id": "8a616500",
   "metadata": {},
   "source": [
    "## 7.3 Adding backward method"
   ]
  },
  {
   "cell_type": "code",
   "execution_count": 9,
   "id": "a9f959d0",
   "metadata": {},
   "outputs": [],
   "source": [
    "import numpy as np\n",
    "\n",
    "class Variable:\n",
    "    def __init__(self, data):\n",
    "        self.data=data\n",
    "        self.grad=None\n",
    "        self.creator=None\n",
    "    \n",
    "    def set_creator(self, func):\n",
    "        self.creator=func\n",
    "    \n",
    "    def backward(self):\n",
    "        f = self.creator\n",
    "        if f is not None:\n",
    "            x = f.input\n",
    "            x.grad=f.backward(self.grad)\n",
    "            x.backward()\n",
    "\n",
    "        \n",
    "class Function:\n",
    "    def __call__(self, input):\n",
    "        x=input.data\n",
    "        y=self.forward(x)\n",
    "        output=Variable(y)\n",
    "        output.set_creator(self) #set creator for the output variable   \n",
    "        self.input=input #remember the input variable\n",
    "        self.output=output #also save the output\n",
    "        return output\n",
    "\n",
    "class Square(Function):\n",
    "    def forward(self, x):\n",
    "        y=x**2\n",
    "        return y\n",
    "    \n",
    "    def backward(self, gy):\n",
    "        x=self.input.data\n",
    "        gx=gy*2*x\n",
    "        return gx\n",
    "        \n",
    "class Exp(Function):\n",
    "    def forward(self, x):\n",
    "        y=np.exp(x)\n",
    "        return y\n",
    "   \n",
    "    def backward(self, gy):\n",
    "        x=self.input.data\n",
    "        gx=np.exp(x)*gy\n",
    "        return gx\n",
    "\n",
    "\n",
    "\n"
   ]
  },
  {
   "cell_type": "code",
   "execution_count": 10,
   "id": "9b862f17",
   "metadata": {},
   "outputs": [
    {
     "name": "stdout",
     "output_type": "stream",
     "text": [
      "3.297442541400256\n"
     ]
    }
   ],
   "source": [
    "A= Square()\n",
    "B= Exp()\n",
    "C= Square()\n",
    "\n",
    "x=Variable(np.array(0.5))\n",
    "a=A(x)\n",
    "b=B(a)\n",
    "y=C(b)\n",
    "\n",
    "y.grad=np.array(1.0)\n",
    "y.backward()\n",
    "print(x.grad)"
   ]
  }
 ],
 "metadata": {
  "kernelspec": {
   "display_name": "Python 3 (ipykernel)",
   "language": "python",
   "name": "python3"
  },
  "language_info": {
   "codemirror_mode": {
    "name": "ipython",
    "version": 3
   },
   "file_extension": ".py",
   "mimetype": "text/x-python",
   "name": "python",
   "nbconvert_exporter": "python",
   "pygments_lexer": "ipython3",
   "version": "3.10.1"
  }
 },
 "nbformat": 4,
 "nbformat_minor": 5
}
