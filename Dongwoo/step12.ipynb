{
 "cells": [
  {
   "cell_type": "markdown",
   "id": "67110acb",
   "metadata": {},
   "source": [
    "# Step12 Variable Length Variable"
   ]
  },
  {
   "cell_type": "markdown",
   "id": "551a0cdf",
   "metadata": {},
   "source": [
    "## 12.1 First Improvement: Usage of function"
   ]
  },
  {
   "cell_type": "code",
   "execution_count": 2,
   "id": "6a13aba9",
   "metadata": {},
   "outputs": [
    {
     "name": "stdout",
     "output_type": "stream",
     "text": [
      "importing Jupyter notebook from /Users/dongwookim/DeepLearning-from-Scratch-3-Study_2022-Summer/Dongwoo/Codes/step1_10.ipynb\n"
     ]
    }
   ],
   "source": [
    "import import_ipynb\n",
    "from Codes.step1_10 import Variable"
   ]
  },
  {
   "cell_type": "markdown",
   "id": "d8e26085",
   "metadata": {},
   "source": [
    "Putting * in front of __inputs__ allows the __Function__ class to deal with the variable length variables. "
   ]
  },
  {
   "cell_type": "code",
   "execution_count": 3,
   "id": "a87fbe00",
   "metadata": {},
   "outputs": [],
   "source": [
    "class Function:\n",
    "    def __call__(self, *inputs):\n",
    "        xs=[x.data for x in inputs]\n",
    "        ys=self.forward(xs)\n",
    "        outputs=[Variable(as_array(y)) for y in ys]\n",
    "        \n",
    "        for output in outputs:\n",
    "            output.set_creator(self)\n",
    "        self.inputs=inputs\n",
    "        self.outputs=outputs\n",
    "        \n",
    "        return outputs if len(outputs)>1 else outputs[0]"
   ]
  },
  {
   "cell_type": "code",
   "execution_count": 6,
   "id": "fddfae07",
   "metadata": {},
   "outputs": [],
   "source": [
    "def f(*x):\n",
    "    print(x)"
   ]
  },
  {
   "cell_type": "code",
   "execution_count": 7,
   "id": "fdb8c147",
   "metadata": {},
   "outputs": [
    {
     "name": "stdout",
     "output_type": "stream",
     "text": [
      "(1, 2, 3)\n"
     ]
    }
   ],
   "source": [
    "f(1,2,3)"
   ]
  },
  {
   "cell_type": "code",
   "execution_count": 8,
   "id": "fa53d951",
   "metadata": {
    "scrolled": true
   },
   "outputs": [
    {
     "name": "stdout",
     "output_type": "stream",
     "text": [
      "(1, 2, 3, 4, 5, 6)\n"
     ]
    }
   ],
   "source": [
    "f(1,2,3,4,5,6)"
   ]
  },
  {
   "cell_type": "code",
   "execution_count": 16,
   "id": "daeac8bf",
   "metadata": {},
   "outputs": [
    {
     "ename": "TypeError",
     "evalue": "Add.forward() missing 1 required positional argument: 'x1'",
     "output_type": "error",
     "traceback": [
      "\u001b[0;31m---------------------------------------------------------------------------\u001b[0m",
      "\u001b[0;31mTypeError\u001b[0m                                 Traceback (most recent call last)",
      "Input \u001b[0;32mIn [16]\u001b[0m, in \u001b[0;36m<module>\u001b[0;34m\u001b[0m\n\u001b[1;32m      2\u001b[0m x1\u001b[38;5;241m=\u001b[39mVariable(np\u001b[38;5;241m.\u001b[39marray(\u001b[38;5;241m3\u001b[39m))\n\u001b[1;32m      3\u001b[0m f\u001b[38;5;241m=\u001b[39mAdd()\n\u001b[0;32m----> 4\u001b[0m y\u001b[38;5;241m=\u001b[39m\u001b[43mf\u001b[49m\u001b[43m(\u001b[49m\u001b[43mx0\u001b[49m\u001b[43m,\u001b[49m\u001b[43mx1\u001b[49m\u001b[43m)\u001b[49m\n\u001b[1;32m      5\u001b[0m \u001b[38;5;28mprint\u001b[39m(y\u001b[38;5;241m.\u001b[39mdata)\n",
      "Input \u001b[0;32mIn [9]\u001b[0m, in \u001b[0;36mFunction.__call__\u001b[0;34m(self, *inputs)\u001b[0m\n\u001b[1;32m      2\u001b[0m \u001b[38;5;28;01mdef\u001b[39;00m \u001b[38;5;21m__call__\u001b[39m(\u001b[38;5;28mself\u001b[39m, \u001b[38;5;241m*\u001b[39minputs):\n\u001b[1;32m      3\u001b[0m     xs\u001b[38;5;241m=\u001b[39m[x\u001b[38;5;241m.\u001b[39mdata \u001b[38;5;28;01mfor\u001b[39;00m x \u001b[38;5;129;01min\u001b[39;00m inputs]\n\u001b[0;32m----> 4\u001b[0m     ys\u001b[38;5;241m=\u001b[39m\u001b[38;5;28;43mself\u001b[39;49m\u001b[38;5;241;43m.\u001b[39;49m\u001b[43mforward\u001b[49m\u001b[43m(\u001b[49m\u001b[43mxs\u001b[49m\u001b[43m)\u001b[49m\n\u001b[1;32m      5\u001b[0m     \u001b[38;5;28;01mif\u001b[39;00m \u001b[38;5;129;01mnot\u001b[39;00m \u001b[38;5;28misinstance\u001b[39m(ys, \u001b[38;5;28mtuple\u001b[39m):\n\u001b[1;32m      6\u001b[0m         ys\u001b[38;5;241m=\u001b[39m(ys,)\n",
      "\u001b[0;31mTypeError\u001b[0m: Add.forward() missing 1 required positional argument: 'x1'"
     ]
    }
   ],
   "source": [
    "x0=Variable(np.array(2))\n",
    "x1=Variable(np.array(3))\n",
    "f=Add()\n",
    "y=f(x0,x1)\n",
    "print(y.data)"
   ]
  },
  {
   "cell_type": "markdown",
   "id": "40aa59df",
   "metadata": {},
   "source": [
    "## 12.2 Second Improvement : For the sake of better implementation... "
   ]
  },
  {
   "cell_type": "markdown",
   "id": "d134d941",
   "metadata": {},
   "source": [
    "self.forward(*xs) is __unpacking the list__.<br>\n",
    "__Unpacking the list__ is passing the arguements by elements."
   ]
  },
  {
   "cell_type": "code",
   "execution_count": 18,
   "id": "be305c2c",
   "metadata": {},
   "outputs": [],
   "source": [
    "class Function:\n",
    "    def __call__(self, *inputs):\n",
    "        xs=[x.data for x in inputs]\n",
    "        ys=self.forward(*xs)\n",
    "        if not isinstance(ys, tuple):\n",
    "            ys=(ys,)\n",
    "        outputs=[Variable(as_array(y)) for y in ys]\n",
    "        \n",
    "        for output in outputs:\n",
    "            output.set_creator(self)\n",
    "        self.inputs=inputs\n",
    "        self.outputs=outputs\n",
    "        \n",
    "        return outputs if len(outputs)>1 else outputs[0]\n",
    "    def forward(self, xs):\n",
    "        raise NotImplementedError()\n",
    "\n",
    "    def backward(self, gys):\n",
    "        raise NotImplementedError()"
   ]
  },
  {
   "cell_type": "code",
   "execution_count": 19,
   "id": "cf58c6c0",
   "metadata": {},
   "outputs": [],
   "source": [
    "class Add(Function):\n",
    "    def forward(self, x0, x1):\n",
    "        y=x0+x1\n",
    "        return y"
   ]
  },
  {
   "cell_type": "markdown",
   "id": "658d97b4",
   "metadata": {},
   "source": [
    "## 12.3 Implementing add function"
   ]
  },
  {
   "cell_type": "code",
   "execution_count": 20,
   "id": "3ca96de6",
   "metadata": {},
   "outputs": [],
   "source": [
    "def add(x0, x1):\n",
    "    return Add()(x0, x1)"
   ]
  },
  {
   "cell_type": "code",
   "execution_count": 21,
   "id": "257e2d3a",
   "metadata": {},
   "outputs": [
    {
     "name": "stdout",
     "output_type": "stream",
     "text": [
      "5\n"
     ]
    }
   ],
   "source": [
    "import numpy as np\n",
    "x0=Variable(np.array(2))\n",
    "x1=Variable(np.array(3))\n",
    "y=add(x0,x1)\n",
    "print(y.data)"
   ]
  }
 ],
 "metadata": {
  "kernelspec": {
   "display_name": "Python 3 (ipykernel)",
   "language": "python",
   "name": "python3"
  },
  "language_info": {
   "codemirror_mode": {
    "name": "ipython",
    "version": 3
   },
   "file_extension": ".py",
   "mimetype": "text/x-python",
   "name": "python",
   "nbconvert_exporter": "python",
   "pygments_lexer": "ipython3",
   "version": "3.10.1"
  }
 },
 "nbformat": 4,
 "nbformat_minor": 5
}
