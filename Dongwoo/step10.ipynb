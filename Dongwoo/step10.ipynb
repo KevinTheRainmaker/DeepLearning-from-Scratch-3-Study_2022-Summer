{
 "cells": [
  {
   "cell_type": "markdown",
   "id": "db07a196",
   "metadata": {},
   "source": [
    "# Step 10 Test"
   ]
  },
  {
   "cell_type": "markdown",
   "id": "931a0cc7",
   "metadata": {},
   "source": [
    "This chapter is about testing the deep learning framework. Testing the framework is necessary in order to prevent the bugs and maintain the quality of the product. "
   ]
  },
  {
   "cell_type": "markdown",
   "id": "29e7817e",
   "metadata": {},
   "source": [
    "## 10.1 Python Unit Test"
   ]
  },
  {
   "cell_type": "code",
   "execution_count": 22,
   "id": "a4982f2d",
   "metadata": {},
   "outputs": [],
   "source": [
    "import numpy as np\n",
    "\n",
    "class Variable:\n",
    "\n",
    "    def __init__(self, data):\n",
    "        \n",
    "        if data is not None:\n",
    "            if not isinstance(data, np.ndarray):\n",
    "                raise TypeError('{} is not supported'.format(type(data)))\n",
    "        self.data=data\n",
    "        self.grad=None\n",
    "        self.creator=None\n",
    "    \n",
    "    def set_creator(self, func):\n",
    "        self.creator=func\n",
    "    \n",
    "    def backward(self):\n",
    "\n",
    "        if self.grad is None:\n",
    "           self.grad=np.ones_like(self.data) #if grad is None, automatically generate the gradient\n",
    "\n",
    "        funcs = [self.creator]\n",
    "        while funcs:\n",
    "            f = funcs.pop()\n",
    "            x,y=f.input, f.output\n",
    "            x.grad= f.backward(y.grad)\n",
    "\n",
    "            if x.creator is not None:\n",
    "                funcs.append(x.creator)\n",
    "                \n",
    "class Function:\n",
    "    def __call__(self, input):\n",
    "        x=input.data\n",
    "        y=self.forward(x)\n",
    "        output=Variable(as_array(y))\n",
    "        output.set_creator(self) #set creator for the output variable   \n",
    "        self.input=input #remember the input variable\n",
    "        self.output=output #also save the output\n",
    "        return output"
   ]
  },
  {
   "cell_type": "code",
   "execution_count": 23,
   "id": "506af959",
   "metadata": {},
   "outputs": [],
   "source": [
    "import unittest\n",
    "class SquareTest(unittest.TestCase):\n",
    "    def test_forward(self):\n",
    "        x= Variable(np.array(2.0))\n",
    "        y= square(x)\n",
    "        expected=np.array(4.0)\n",
    "        self.assertEqual(y.data, expected)"
   ]
  },
  {
   "cell_type": "code",
   "execution_count": 24,
   "id": "65c85aa2",
   "metadata": {},
   "outputs": [
    {
     "ename": "TypeError",
     "evalue": "<class 'numpy.float64'> is not supported",
     "output_type": "error",
     "traceback": [
      "\u001b[0;31m---------------------------------------------------------------------------\u001b[0m",
      "\u001b[0;31mTypeError\u001b[0m                                 Traceback (most recent call last)",
      "Input \u001b[0;32mIn [24]\u001b[0m, in \u001b[0;36m<module>\u001b[0;34m\u001b[0m\n\u001b[1;32m      1\u001b[0m \u001b[38;5;28;01mimport\u001b[39;00m \u001b[38;5;21;01mnumpy\u001b[39;00m \u001b[38;5;28;01mas\u001b[39;00m \u001b[38;5;21;01mnp\u001b[39;00m\n\u001b[1;32m      2\u001b[0m x\u001b[38;5;241m=\u001b[39mVariable(np\u001b[38;5;241m.\u001b[39marray(\u001b[38;5;241m0.5\u001b[39m))\n\u001b[0;32m----> 3\u001b[0m a\u001b[38;5;241m=\u001b[39m\u001b[43msquare\u001b[49m\u001b[43m(\u001b[49m\u001b[43mx\u001b[49m\u001b[43m)\u001b[49m\n\u001b[1;32m      4\u001b[0m b\u001b[38;5;241m=\u001b[39mexp(a)\n\u001b[1;32m      5\u001b[0m y\u001b[38;5;241m=\u001b[39msquare(b)\n",
      "File \u001b[0;32m<string>:2\u001b[0m, in \u001b[0;36msquare\u001b[0;34m(x)\u001b[0m\n",
      "File \u001b[0;32m<string>:27\u001b[0m, in \u001b[0;36m__call__\u001b[0;34m(self, input)\u001b[0m\n",
      "File \u001b[0;32m<string>:9\u001b[0m, in \u001b[0;36m__init__\u001b[0;34m(self, data)\u001b[0m\n",
      "\u001b[0;31mTypeError\u001b[0m: <class 'numpy.float64'> is not supported"
     ]
    }
   ],
   "source": [
    "import numpy as np\n",
    "x=Variable(np.array(0.5))\n",
    "a=square(x)\n",
    "b=exp(a)\n",
    "y=square(b)\n",
    "\n",
    "y.grad=np.array(1.0)\n",
    "y.backward()\n",
    "print(x.grad)"
   ]
  },
  {
   "cell_type": "code",
   "execution_count": null,
   "id": "548b0d73",
   "metadata": {},
   "outputs": [],
   "source": []
  }
 ],
 "metadata": {
  "kernelspec": {
   "display_name": "Python 3 (ipykernel)",
   "language": "python",
   "name": "python3"
  },
  "language_info": {
   "codemirror_mode": {
    "name": "ipython",
    "version": 3
   },
   "file_extension": ".py",
   "mimetype": "text/x-python",
   "name": "python",
   "nbconvert_exporter": "python",
   "pygments_lexer": "ipython3",
   "version": "3.10.1"
  }
 },
 "nbformat": 4,
 "nbformat_minor": 5
}
