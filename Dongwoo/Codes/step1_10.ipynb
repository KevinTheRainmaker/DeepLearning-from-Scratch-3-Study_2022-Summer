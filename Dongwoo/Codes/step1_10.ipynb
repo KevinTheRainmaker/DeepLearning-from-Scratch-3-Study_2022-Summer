{
 "cells": [
  {
   "cell_type": "code",
   "execution_count": 3,
   "id": "69751df2",
   "metadata": {},
   "outputs": [],
   "source": [
    "import numpy as np\n",
    "\n",
    "class Variable:\n",
    "\n",
    "    def __init__(self, data):\n",
    "        \n",
    "        if data is not None:\n",
    "            if not isinstance(data, np.ndarray):\n",
    "                raise TypeError('{} is not supported'.format(type(data)))\n",
    "        self.data=data\n",
    "        self.grad=None\n",
    "        self.creator=None\n",
    "    \n",
    "    def set_creator(self, func):\n",
    "        self.creator=func\n",
    "    \n",
    "    def backward(self):\n",
    "\n",
    "        if self.grad is None:\n",
    "           self.grad=np.ones_like(self.data) #if grad is None, automatically generate the gradient\n",
    "\n",
    "        funcs = [self.creator]\n",
    "        while funcs:\n",
    "            f = funcs.pop()\n",
    "            x,y=f.input, f.output\n",
    "            x.grad= f.backward(y.grad)\n",
    "\n",
    "            if x.creator is not None:\n",
    "                funcs.append(x.creator)\n",
    "    def as_array(x):\n",
    "        if np.isscalar(x):\n",
    "            return np.array(x)\n",
    "        return x\n",
    "\n",
    "class Function:\n",
    "    def __call__(self, input):\n",
    "        x=input.data\n",
    "        y=self.forward(x)\n",
    "        output=Variable(as_array(y))\n",
    "        output.set_creator(self) #set creator for the output variable   \n",
    "        self.input=input #remember the input variable\n",
    "        self.output=output #also save the output\n",
    "        return output\n",
    "    \n"
   ]
  },
  {
   "cell_type": "code",
   "execution_count": null,
   "id": "b5bf1941",
   "metadata": {},
   "outputs": [],
   "source": []
  }
 ],
 "metadata": {
  "kernelspec": {
   "display_name": "Python 3 (ipykernel)",
   "language": "python",
   "name": "python3"
  },
  "language_info": {
   "codemirror_mode": {
    "name": "ipython",
    "version": 3
   },
   "file_extension": ".py",
   "mimetype": "text/x-python",
   "name": "python",
   "nbconvert_exporter": "python",
   "pygments_lexer": "ipython3",
   "version": "3.10.1"
  }
 },
 "nbformat": 4,
 "nbformat_minor": 5
}
