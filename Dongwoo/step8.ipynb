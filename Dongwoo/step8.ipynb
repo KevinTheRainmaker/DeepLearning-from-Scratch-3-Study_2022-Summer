{
 "cells": [
  {
   "cell_type": "markdown",
   "metadata": {},
   "source": [
    "# Step 8 From Recursive to Iterative"
   ]
  },
  {
   "cell_type": "markdown",
   "metadata": {},
   "source": [
    "## 8.1 Class Variable (Present state)"
   ]
  },
  {
   "cell_type": "markdown",
   "metadata": {},
   "source": [
    "Backward function is called inside the backward function **recursively** until it reaches the variable whose creator function does not exist. (self.creator==None)"
   ]
  },
  {
   "cell_type": "code",
   "execution_count": null,
   "metadata": {},
   "outputs": [],
   "source": [
    "class Variable:\n",
    "    \n",
    "    def backward(self):\n",
    "        f = self.creator\n",
    "        if  f is not None:\n",
    "            x = f.input\n",
    "            x.grad = f.backward(self.grad)\n",
    "            x.backward()"
   ]
  },
  {
   "cell_type": "markdown",
   "metadata": {},
   "source": [
    "## 8.2 Implementing with iterative instead of Recursive"
   ]
  },
  {
   "cell_type": "markdown",
   "metadata": {},
   "source": [
    "1. call the functions and put them in the list **funcs**\n",
    "2. if the elements exist in **funcs**, pop out the last element and declare it as f\n",
    "3. call the input and output of the function and call the backward function\n",
    "4. if creator exists, put the previous function(creator) inside the list **funcs**. "
   ]
  },
  {
   "cell_type": "code",
   "execution_count": null,
   "metadata": {},
   "outputs": [],
   "source": [
    "class Variable:\n",
    "    \n",
    "    def backward(self):\n",
    "       funcs = [self.creator]\n",
    "       while funcs:\n",
    "           f = funcs.pop()\n",
    "           x,y=f.input, f.output\n",
    "           x.grad= f.backward(y.grad)\n",
    "\n",
    "           if x.creator is not None:\n",
    "               funcs.append(x.creator)"
   ]
  },
  {
   "cell_type": "markdown",
   "metadata": {},
   "source": [
    "## 8.3 Testing the code"
   ]
  },
  {
   "cell_type": "code",
   "execution_count": 2,
   "metadata": {},
   "outputs": [],
   "source": [
    "class Variable:\n",
    "    \n",
    "    def __init__(self, data):\n",
    "        self.data=data\n",
    "        self.grad=None\n",
    "        self.creator=None\n",
    "    \n",
    "    def set_creator(self, func):\n",
    "        self.creator=func\n",
    "    \n",
    "    def backward(self):\n",
    "       funcs = [self.creator]\n",
    "       while funcs:\n",
    "           f = funcs.pop()\n",
    "           x,y=f.input, f.output\n",
    "           x.grad= f.backward(y.grad)\n",
    "\n",
    "           if x.creator is not None:\n",
    "               funcs.append(x.creator)\n",
    "\n",
    "class Function:\n",
    "    def __call__(self, input):\n",
    "        x=input.data\n",
    "        y=self.forward(x)\n",
    "        output=Variable(y)\n",
    "        output.set_creator(self) #set creator for the output variable   \n",
    "        self.input=input #remember the input variable\n",
    "        self.output=output #also save the output\n",
    "        return output\n",
    "\n",
    "class Square(Function):\n",
    "    def forward(self, x):\n",
    "        y=x**2\n",
    "        return y\n",
    "    \n",
    "    def backward(self, gy):\n",
    "        x=self.input.data\n",
    "        gx=gy*2*x\n",
    "        return gx\n",
    "        \n",
    "class Exp(Function):\n",
    "    def forward(self, x):\n",
    "        y=np.exp(x)\n",
    "        return y\n",
    "   \n",
    "    def backward(self, gy):\n",
    "        x=self.input.data\n",
    "        gx=np.exp(x)*gy\n",
    "        return gx"
   ]
  },
  {
   "cell_type": "code",
   "execution_count": 4,
   "metadata": {},
   "outputs": [
    {
     "name": "stdout",
     "output_type": "stream",
     "text": [
      "3.297442541400256\n"
     ]
    }
   ],
   "source": [
    "import numpy as np\n",
    "\n",
    "A= Square()\n",
    "B= Exp()\n",
    "C= Square()\n",
    "\n",
    "x=Variable(np.array(0.5))\n",
    "a=A(x)\n",
    "b=B(a)\n",
    "y=C(b)\n",
    "\n",
    "y.grad=np.array(1.0)\n",
    "y.backward()\n",
    "print(x.grad)"
   ]
  }
 ],
 "metadata": {
  "interpreter": {
   "hash": "aee8b7b246df8f9039afb4144a1f6fd8d2ca17a180786b69acc140d282b71a49"
  },
  "kernelspec": {
   "display_name": "Python 3.10.1 64-bit",
   "language": "python",
   "name": "python3"
  },
  "language_info": {
   "codemirror_mode": {
    "name": "ipython",
    "version": 3
   },
   "file_extension": ".py",
   "mimetype": "text/x-python",
   "name": "python",
   "nbconvert_exporter": "python",
   "pygments_lexer": "ipython3",
   "version": "3.10.1"
  },
  "orig_nbformat": 4
 },
 "nbformat": 4,
 "nbformat_minor": 2
}
