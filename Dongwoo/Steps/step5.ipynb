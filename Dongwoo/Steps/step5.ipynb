{
 "cells": [
  {
   "cell_type": "markdown",
   "id": "af1b7122",
   "metadata": {},
   "source": [
    "# Step 5 Back Propagation\n",
    "## 5.1 Chain Rule"
   ]
  },
  {
   "cell_type": "markdown",
   "id": "79eb153b",
   "metadata": {},
   "source": [
    "According to chain rule, <br>\n",
    "<img src=\"image/5_1.webp\">"
   ]
  },
  {
   "cell_type": "markdown",
   "id": "8a616500",
   "metadata": {},
   "source": [
    "## 5.2 Principle of Back Propagation"
   ]
  },
  {
   "cell_type": "markdown",
   "id": "6d265d05",
   "metadata": {},
   "source": [
    "<img src=\"image/bp3.jpeg\">"
   ]
  },
  {
   "cell_type": "markdown",
   "id": "61358c25",
   "metadata": {},
   "source": [
    "<img src=\"image/bp2.jpeg\">"
   ]
  },
  {
   "cell_type": "markdown",
   "id": "b9e9a57c",
   "metadata": {},
   "source": [
    "<img src=\"image/bp1.jpeg\">"
   ]
  },
  {
   "cell_type": "markdown",
   "id": "75b076c4",
   "metadata": {},
   "source": [
    "__Key points about Back propagation__<br>\n",
    "1. Machine learning is usually proceeded by having several parameters as input, and passing through loss function, printing out the result. The output of loss function is in general, scalar value, and parameters in the loss function has to be back propagated.\n",
    "2. In order to do so, we have to calculate the derivatives for each parameter. "
   ]
  },
  {
   "cell_type": "markdown",
   "id": "e7b2a959",
   "metadata": {},
   "source": [
    "Before reversing the order of calculation, the input variables used in the feed forward process has to be remembered. "
   ]
  }
 ],
 "metadata": {
  "kernelspec": {
   "display_name": "Python 3 (ipykernel)",
   "language": "python",
   "name": "python3"
  },
  "language_info": {
   "codemirror_mode": {
    "name": "ipython",
    "version": 3
   },
   "file_extension": ".py",
   "mimetype": "text/x-python",
   "name": "python",
   "nbconvert_exporter": "python",
   "pygments_lexer": "ipython3",
   "version": "3.10.1"
  }
 },
 "nbformat": 4,
 "nbformat_minor": 5
}
