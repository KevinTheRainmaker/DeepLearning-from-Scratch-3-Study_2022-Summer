{
 "cells": [
  {
   "cell_type": "markdown",
   "id": "e4ca516b",
   "metadata": {},
   "source": [
    "# Step 18 Memory Saving mode"
   ]
  },
  {
   "cell_type": "markdown",
   "id": "4e9f3405",
   "metadata": {},
   "source": [
    "## 18.1 Deleting Unnecessary Gradient"
   ]
  },
  {
   "cell_type": "code",
   "execution_count": 25,
   "id": "f7a73872",
   "metadata": {},
   "outputs": [],
   "source": [
    "%run Codes/step17.ipynb"
   ]
  },
  {
   "cell_type": "code",
   "execution_count": 26,
   "id": "fafd33e5",
   "metadata": {},
   "outputs": [
    {
     "name": "stdout",
     "output_type": "stream",
     "text": [
      "1.0 1.0\n",
      "2.0 1.0\n"
     ]
    }
   ],
   "source": [
    "x0=Variable(np.array(1.0))\n",
    "x1=Variable(np.array(1.0))\n",
    "t=add(x0,x1)\n",
    "y=add(x0,t)\n",
    "y.backward()\n",
    "\n",
    "print(y.grad, t.grad)\n",
    "print(x0.grad, x1.grad)"
   ]
  },
  {
   "cell_type": "markdown",
   "id": "e64c2b66",
   "metadata": {},
   "source": [
    "Gradients of __t__ and __y__ are unnecessary, so we add __retain_grad__ to initialize it to False"
   ]
  },
  {
   "cell_type": "code",
   "execution_count": 27,
   "id": "3d17c0f0",
   "metadata": {},
   "outputs": [],
   "source": [
    "\n",
    "import numpy as np\n",
    "import weakref\n",
    "\n",
    "class Variable:\n",
    "    def __init__(self, data):\n",
    "        if data is not None:\n",
    "            if not isinstance(data, np.ndarray):\n",
    "                raise TypeError('{} is not supported'.format(type(data)))\n",
    "\n",
    "        self.data = data\n",
    "        self.grad = None\n",
    "        self.creator = None\n",
    "        self.generation=0 #number of generations\n",
    "\n",
    "    def set_creator(self, func): #everytime the set_creator function is called, +1 to the num. of gen.\n",
    "        self.creator = func\n",
    "        self.generation= func.generation+1 #parent_generation+1\n",
    "\n",
    "    def backward(self, retain_grad=False):\n",
    "        if self.grad is None:\n",
    "            self.grad = np.ones_like(self.data)\n",
    "\n",
    "        funcs = []\n",
    "        seen_set=set()\n",
    "        \n",
    "        def add_func(f):\n",
    "            if f not in seen_set:\n",
    "                funcs.append(f)\n",
    "                seen_set.add(f)\n",
    "                funcs.sort(key=lambda x: x.generation)\n",
    "        add_func(self.creator)\n",
    "        \n",
    "        while funcs:\n",
    "            f = funcs.pop()\n",
    "            gys = [output().grad for output in f.outputs] #prev: gys = [output.grad for output in f.outputs] \n",
    "            gxs = f.backward(*gys) \n",
    "            if not isinstance(gxs, tuple): \n",
    "                gxs=(gxs, )\n",
    "            for x, gx in zip(f.inputs, gxs): \n",
    "                if x.grad is None:\n",
    "                    x.grad=gx\n",
    "                else:\n",
    "                    x.grad=x.grad+gx \n",
    "            \n",
    "                if x.creator is not None:\n",
    "                    add_func(x.creator)\n",
    "            \n",
    "            if not retain_grad:\n",
    "                for y in f.outputs:\n",
    "                    y().grad=None #y is weakref\n",
    "    def cleargrad(self):\n",
    "        self.grad=None\n",
    "\n",
    "def as_array(x):\n",
    "    if np.isscalar(x):\n",
    "        return np.array(x)\n",
    "    return x\n",
    "\n",
    "class Function:\n",
    "    def __call__(self, *inputs):\n",
    "        xs = [x.data for x in inputs]\n",
    "        ys = self.forward(*xs)\n",
    "        if not isinstance(ys, tuple):\n",
    "            ys = (ys,)\n",
    "        outputs = [Variable(as_array(y)) for y in ys]\n",
    "        \n",
    "        self.generation=max([x.generation for x in inputs]) \n",
    "\n",
    "        \n",
    "        for output in outputs:\n",
    "            output.set_creator(self)\n",
    "        self.inputs = inputs\n",
    "        self.outputs = outputs\n",
    "        self.outputs=[weakref.ref(output) for output in outputs] #added\n",
    "        return outputs if len(outputs) > 1 else outputs[0]\n",
    "\n",
    "    def forward(self, xs):\n",
    "        raise NotImplementedError()\n",
    "\n",
    "    def backward(self, gys):\n",
    "        raise NotImplementedError()\n",
    "        \n",
    "class Add(Function):\n",
    "    def forward(self, x0, x1):\n",
    "        y=x0+x1\n",
    "        return y\n",
    "    def backward(self, gy):\n",
    "        return gy, gy\n",
    "\n",
    "def add(x0, x1):\n",
    "    return Add()(x0, x1)    \n",
    "    \n",
    "class Square(Function):\n",
    "    def forward(self, x):\n",
    "        y=x**2\n",
    "        return y\n",
    "    def backward(self, gy):\n",
    "        x=self.inputs[0].data # prev: x=self.input.data\n",
    "        gx=2*x*gy\n",
    "        return gx\n",
    "    \n",
    "\n",
    "def square(x):\n",
    "    return Square()(x)"
   ]
  },
  {
   "cell_type": "code",
   "execution_count": 28,
   "id": "e55f99c0",
   "metadata": {},
   "outputs": [
    {
     "name": "stdout",
     "output_type": "stream",
     "text": [
      "None None\n",
      "2.0 1.0\n"
     ]
    }
   ],
   "source": [
    "x0=Variable(np.array(1.0))\n",
    "x1=Variable(np.array(1.0))\n",
    "t=add(x0,x1)\n",
    "y=add(x0,t)\n",
    "y.backward()\n",
    "\n",
    "print(y.grad, t.grad)\n",
    "print(x0.grad, x1.grad)"
   ]
  },
  {
   "cell_type": "markdown",
   "id": "61cb3bec",
   "metadata": {},
   "source": [
    "## 18.2 Function class"
   ]
  },
  {
   "cell_type": "markdown",
   "id": "17fe4087",
   "metadata": {},
   "source": [
    "__inputs__ is used in the back propagation. However, since the inference process only includes feed-forward, the gradient is not necessary in this case. This can also save the memory. "
   ]
  },
  {
   "cell_type": "code",
   "execution_count": 29,
   "id": "04fcc22f",
   "metadata": {},
   "outputs": [],
   "source": [
    "class Function:\n",
    "    def __call__(self, *inputs):\n",
    "        xs = [x.data for x in inputs]\n",
    "        ys = self.forward(*xs)\n",
    "        if not isinstance(ys, tuple):\n",
    "            ys = (ys,)\n",
    "        outputs = [Variable(as_array(y)) for y in ys]\n",
    "        self.generation=max([x.generation for x in inputs])         \n",
    "        for output in outputs:\n",
    "            output.set_creator(self)\n",
    "        self.inputs = inputs\n",
    "        self.outputs=[weakref.ref(output) for output in outputs] \n",
    "        return outputs if len(outputs) > 1 else outputs[0]"
   ]
  },
  {
   "cell_type": "markdown",
   "id": "61826a86",
   "metadata": {},
   "source": [
    "## 18.3 Mode Change using Config Class"
   ]
  },
  {
   "cell_type": "code",
   "execution_count": 30,
   "id": "c78671b1",
   "metadata": {},
   "outputs": [],
   "source": [
    "class Config:\n",
    "    enable_backprop=True"
   ]
  },
  {
   "cell_type": "markdown",
   "id": "a9d127d2",
   "metadata": {},
   "source": [
    "Backpropagation is activated only when __enable_backprop__ is true."
   ]
  },
  {
   "cell_type": "code",
   "execution_count": 31,
   "id": "352ec805",
   "metadata": {},
   "outputs": [],
   "source": [
    "class Function:\n",
    "    def __call__(self, *inputs):\n",
    "        xs = [x.data for x in inputs]\n",
    "        ys = self.forward(*xs)\n",
    "        if not isinstance(ys, tuple):\n",
    "            ys = (ys,)\n",
    "        outputs = [Variable(as_array(y)) for y in ys]\n",
    "        \n",
    "        if Config.enable_backprop:\n",
    "            self.generation=max([x.generation for x in inputs])         \n",
    "            for output in outputs:\n",
    "                output.set_creator(self)\n",
    "            self.inputs = inputs\n",
    "            self.outputs=[weakref.ref(output) for output in outputs] \n",
    "        return outputs if len(outputs) > 1 else outputs[0]"
   ]
  },
  {
   "cell_type": "markdown",
   "id": "2e520c7d",
   "metadata": {},
   "source": [
    "## 18.4 Mode Change"
   ]
  },
  {
   "cell_type": "code",
   "execution_count": 32,
   "id": "16aee411",
   "metadata": {},
   "outputs": [],
   "source": [
    "Config.enable_backprop=True\n",
    "x=Variable(np.ones((100,100,100)))\n",
    "y=square(square(square(x)))\n",
    "y.backward()\n",
    "\n",
    "Config.enable_backprop=False\n",
    "x=Variable(np.ones((100,100,100)))\n",
    "y=square(square(square(x)))"
   ]
  },
  {
   "cell_type": "markdown",
   "id": "45cad287",
   "metadata": {},
   "source": [
    "## 18.5 Mode Change using __with__"
   ]
  },
  {
   "cell_type": "code",
   "execution_count": 39,
   "id": "ccd72d48",
   "metadata": {},
   "outputs": [
    {
     "name": "stdout",
     "output_type": "stream",
     "text": [
      "start\n",
      "process...\n",
      "done\n"
     ]
    }
   ],
   "source": [
    "import contextlib\n",
    "\n",
    "@contextlib.contextmanager #decorator to understand the context\n",
    "def config_test():\n",
    "    print('start')\n",
    "    try:\n",
    "        yield \n",
    "    finally:\n",
    "        print('done')\n",
    "with config_test():\n",
    "    print('process...')\n"
   ]
  },
  {
   "cell_type": "markdown",
   "id": "e2f1bc45",
   "metadata": {},
   "source": [
    "__name__ is string type, indicating the name of the Config attribute class.<br>\n",
    "__getattr__ calls the attribute from the Config class.\n",
    "__setattr__ sets the new value."
   ]
  },
  {
   "cell_type": "code",
   "execution_count": 1,
   "id": "c8157784",
   "metadata": {},
   "outputs": [],
   "source": [
    "    \n",
    "def using_config(name, value):\n",
    "    old_value=getattr(Config, name)\n",
    "    setattr(Config, name, value)\n",
    "    try:\n",
    "        yield\n",
    "    finally:\n",
    "        setattr(Config, name, old_value)\n"
   ]
  },
  {
   "cell_type": "code",
   "execution_count": 2,
   "id": "8b85e2b5",
   "metadata": {},
   "outputs": [
    {
     "ename": "AttributeError",
     "evalue": "__enter__",
     "output_type": "error",
     "traceback": [
      "\u001b[0;31m---------------------------------------------------------------------------\u001b[0m",
      "\u001b[0;31mAttributeError\u001b[0m                            Traceback (most recent call last)",
      "Input \u001b[0;32mIn [2]\u001b[0m, in \u001b[0;36m<module>\u001b[0;34m\u001b[0m\n\u001b[0;32m----> 1\u001b[0m \u001b[38;5;28;01mwith\u001b[39;00m using_config(\u001b[38;5;124m'\u001b[39m\u001b[38;5;124menable_backprop\u001b[39m\u001b[38;5;124m'\u001b[39m,\u001b[38;5;28;01mFalse\u001b[39;00m):\n\u001b[1;32m      2\u001b[0m     x\u001b[38;5;241m=\u001b[39mVariable(np\u001b[38;5;241m.\u001b[39marray(\u001b[38;5;241m2.0\u001b[39m))\n\u001b[1;32m      3\u001b[0m     y\u001b[38;5;241m=\u001b[39msquare(x)\n",
      "\u001b[0;31mAttributeError\u001b[0m: __enter__"
     ]
    }
   ],
   "source": [
    "with using_config('enable_backprop',False):\n",
    "    x=Variable(np.array(2.0))\n",
    "    y=square(x)\n",
    "    "
   ]
  },
  {
   "cell_type": "code",
   "execution_count": 3,
   "id": "39333c22",
   "metadata": {},
   "outputs": [
    {
     "ename": "AttributeError",
     "evalue": "__enter__",
     "output_type": "error",
     "traceback": [
      "\u001b[0;31m---------------------------------------------------------------------------\u001b[0m",
      "\u001b[0;31mAttributeError\u001b[0m                            Traceback (most recent call last)",
      "Input \u001b[0;32mIn [3]\u001b[0m, in \u001b[0;36m<module>\u001b[0;34m\u001b[0m\n\u001b[1;32m      1\u001b[0m \u001b[38;5;28;01mdef\u001b[39;00m \u001b[38;5;21mno_grad\u001b[39m():\n\u001b[1;32m      2\u001b[0m     \u001b[38;5;28;01mreturn\u001b[39;00m using_config(\u001b[38;5;124m'\u001b[39m\u001b[38;5;124menable_backprop\u001b[39m\u001b[38;5;124m'\u001b[39m, \u001b[38;5;28;01mFalse\u001b[39;00m)\n\u001b[0;32m----> 3\u001b[0m \u001b[38;5;28;01mwith\u001b[39;00m no_grad():\n\u001b[1;32m      4\u001b[0m     x\u001b[38;5;241m=\u001b[39mVariable(np\u001b[38;5;241m.\u001b[39marray(\u001b[38;5;241m2.0\u001b[39m))\n\u001b[1;32m      5\u001b[0m     y\u001b[38;5;241m=\u001b[39msquare(x)\n",
      "\u001b[0;31mAttributeError\u001b[0m: __enter__"
     ]
    }
   ],
   "source": [
    "def no_grad():\n",
    "    return using_config('enable_backprop', False)\n",
    "with no_grad():\n",
    "    x=Variable(np.array(2.0))\n",
    "    y=square(x)"
   ]
  },
  {
   "cell_type": "code",
   "execution_count": null,
   "id": "24b8e02c",
   "metadata": {},
   "outputs": [],
   "source": []
  }
 ],
 "metadata": {
  "kernelspec": {
   "display_name": "Python 3 (ipykernel)",
   "language": "python",
   "name": "python3"
  },
  "language_info": {
   "codemirror_mode": {
    "name": "ipython",
    "version": 3
   },
   "file_extension": ".py",
   "mimetype": "text/x-python",
   "name": "python",
   "nbconvert_exporter": "python",
   "pygments_lexer": "ipython3",
   "version": "3.10.1"
  }
 },
 "nbformat": 4,
 "nbformat_minor": 5
}
