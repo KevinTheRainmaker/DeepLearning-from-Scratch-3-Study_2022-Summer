{
 "cells": [
  {
   "cell_type": "markdown",
   "id": "a25be1f3",
   "metadata": {},
   "source": [
    "# Step 15 Complex Computation Graph(Theory)"
   ]
  },
  {
   "cell_type": "markdown",
   "id": "e92a6328",
   "metadata": {},
   "source": [
    "## 15.1 Order of Back propagation"
   ]
  },
  {
   "cell_type": "markdown",
   "id": "6aa6507b",
   "metadata": {},
   "source": [
    "<img src=\"image/step15_1.jpeg\">"
   ]
  },
  {
   "cell_type": "markdown",
   "id": "a7542088",
   "metadata": {},
   "source": [
    "## 15.3 Priority of Functions"
   ]
  },
  {
   "cell_type": "markdown",
   "id": "c67ba86a",
   "metadata": {},
   "source": [
    "### Methods to set priority"
   ]
  },
  {
   "cell_type": "markdown",
   "id": "ac797208",
   "metadata": {},
   "source": [
    "1. Analyze Computational Graph e.g.Topological Sort\n",
    "2. Use the concept of Generation"
   ]
  }
 ],
 "metadata": {
  "kernelspec": {
   "display_name": "Python 3 (ipykernel)",
   "language": "python",
   "name": "python3"
  },
  "language_info": {
   "codemirror_mode": {
    "name": "ipython",
    "version": 3
   },
   "file_extension": ".py",
   "mimetype": "text/x-python",
   "name": "python",
   "nbconvert_exporter": "python",
   "pygments_lexer": "ipython3",
   "version": "3.10.1"
  }
 },
 "nbformat": 4,
 "nbformat_minor": 5
}
