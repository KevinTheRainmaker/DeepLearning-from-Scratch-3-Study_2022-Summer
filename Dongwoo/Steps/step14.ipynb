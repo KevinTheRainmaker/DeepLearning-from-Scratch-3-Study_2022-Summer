{
 "cells": [
  {
   "cell_type": "markdown",
   "id": "fa901abc",
   "metadata": {},
   "source": [
    "# Step 14 Using the Same Variable"
   ]
  },
  {
   "cell_type": "markdown",
   "id": "130e961c",
   "metadata": {},
   "source": [
    "If the same variable is used in the addition, it cannot get the gradient properly."
   ]
  },
  {
   "cell_type": "code",
   "execution_count": 50,
   "id": "ac8eacec",
   "metadata": {},
   "outputs": [],
   "source": [
    "import numpy as np\n",
    "import import_ipynb\n",
    "from Codes.step13 import Variable, Function\n",
    "\n",
    "%run Codes/step13.ipynb"
   ]
  },
  {
   "cell_type": "code",
   "execution_count": 52,
   "id": "0101ccef",
   "metadata": {},
   "outputs": [
    {
     "name": "stdout",
     "output_type": "stream",
     "text": [
      "y 6.0\n",
      "x.grad 1.0\n"
     ]
    }
   ],
   "source": [
    "x=Variable(np.array(3.0))\n",
    "y=add(x,x)\n",
    "print('y',y.data)\n",
    "\n",
    "y.backward()\n",
    "print('x.grad', x.grad)"
   ]
  },
  {
   "cell_type": "markdown",
   "id": "6fb9eead",
   "metadata": {},
   "source": [
    "Gradient of x has to be 2, not 1. "
   ]
  },
  {
   "cell_type": "markdown",
   "id": "f9dde5be",
   "metadata": {},
   "source": [
    "## 14.1 What caused the error?"
   ]
  },
  {
   "cell_type": "markdown",
   "id": "e4b05b61",
   "metadata": {},
   "source": [
    "x.grad=gx"
   ]
  },
  {
   "cell_type": "markdown",
   "id": "1d0087b5",
   "metadata": {},
   "source": [
    "The implementation that we made so far is only inserting the gradient, so when the same variable is used more than once, it is overlaying the value. "
   ]
  },
  {
   "cell_type": "markdown",
   "id": "a5aa33b3",
   "metadata": {},
   "source": [
    "<img src=\"image/step14_1.jpeg\">"
   ]
  },
  {
   "cell_type": "markdown",
   "id": "db21da48",
   "metadata": {},
   "source": [
    "Gradient of x has to be 1+1=2. In other words, it has to __sum up__ the gradient values. "
   ]
  },
  {
   "cell_type": "markdown",
   "id": "d90f9f97",
   "metadata": {},
   "source": [
    "## 14.2 Solution"
   ]
  },
  {
   "cell_type": "code",
   "execution_count": 53,
   "id": "613d7bc6",
   "metadata": {},
   "outputs": [],
   "source": [
    "class Variable:\n",
    "    def __init__(self, data):\n",
    "        if data is not None:\n",
    "            if not isinstance(data, np.ndarray):\n",
    "                raise TypeError('{} is not supported'.format(type(data)))\n",
    "\n",
    "        self.data = data\n",
    "        self.grad = None\n",
    "        self.creator = None\n",
    "\n",
    "    def set_creator(self, func):\n",
    "        self.creator = func\n",
    "\n",
    "    def backward(self):\n",
    "        if self.grad is None:\n",
    "            self.grad = np.ones_like(self.data)\n",
    "\n",
    "        funcs = [self.creator]\n",
    "        while funcs:\n",
    "            f = funcs.pop()\n",
    "            gys = [output.grad for output in f.outputs] \n",
    "            gxs = f.backward(*gys) \n",
    "            if not isinstance(gxs, tuple): \n",
    "                gxs=(gxs, )\n",
    "            for x, gx in zip(f.inputs, gxs): \n",
    "                if x.grad is None:\n",
    "                    x.grad=gx\n",
    "                else:\n",
    "                    x.grad=x.grad+gx #sum up the gradient value \n",
    "            \n",
    "                if x.creator is not None:\n",
    "                    funcs.append(x.creator)"
   ]
  },
  {
   "cell_type": "code",
   "execution_count": 54,
   "id": "fa0250cf",
   "metadata": {},
   "outputs": [
    {
     "name": "stdout",
     "output_type": "stream",
     "text": [
      "2.0\n"
     ]
    }
   ],
   "source": [
    "x=Variable(np.array(3.0))\n",
    "y=add(x,x)\n",
    "y.backward()\n",
    "print(x.grad)"
   ]
  },
  {
   "cell_type": "code",
   "execution_count": 56,
   "id": "2026fd9f",
   "metadata": {},
   "outputs": [
    {
     "name": "stdout",
     "output_type": "stream",
     "text": [
      "3.0\n"
     ]
    }
   ],
   "source": [
    "x=Variable(np.array(3.0))\n",
    "y=add(add(x,x),x)\n",
    "y.backward()\n",
    "print(x.grad)"
   ]
  },
  {
   "cell_type": "markdown",
   "id": "a83f021f",
   "metadata": {},
   "source": [
    "## 14.3 Resetting the Gradient"
   ]
  },
  {
   "cell_type": "code",
   "execution_count": 57,
   "id": "e3757c20",
   "metadata": {},
   "outputs": [
    {
     "name": "stdout",
     "output_type": "stream",
     "text": [
      "2.0\n",
      "5.0\n"
     ]
    }
   ],
   "source": [
    "x=Variable(np.array(3.0))\n",
    "y=add(x,x)\n",
    "y.backward()\n",
    "print(x.grad)\n",
    "\n",
    "y=add(add(x,x),x)\n",
    "y.backward()\n",
    "print(x.grad)"
   ]
  },
  {
   "cell_type": "code",
   "execution_count": 58,
   "id": "f2ad8cfa",
   "metadata": {},
   "outputs": [],
   "source": [
    "class Variable:\n",
    "    def __init__(self, data):\n",
    "        if data is not None:\n",
    "            if not isinstance(data, np.ndarray):\n",
    "                raise TypeError('{} is not supported'.format(type(data)))\n",
    "\n",
    "        self.data = data\n",
    "        self.grad = None\n",
    "        self.creator = None\n",
    "\n",
    "    def set_creator(self, func):\n",
    "        self.creator = func\n",
    "\n",
    "    def backward(self):\n",
    "        if self.grad is None:\n",
    "            self.grad = np.ones_like(self.data)\n",
    "\n",
    "        funcs = [self.creator]\n",
    "        while funcs:\n",
    "            f = funcs.pop()\n",
    "            gys = [output.grad for output in f.outputs] \n",
    "            gxs = f.backward(*gys) \n",
    "            if not isinstance(gxs, tuple): \n",
    "                gxs=(gxs, )\n",
    "            for x, gx in zip(f.inputs, gxs): \n",
    "                if x.grad is None:\n",
    "                    x.grad=gx\n",
    "                else:\n",
    "                    x.grad=x.grad+gx #sum up the gradient value \n",
    "            \n",
    "                if x.creator is not None:\n",
    "                    funcs.append(x.creator)\n",
    "    def cleargrad(self):\n",
    "        self.grad=None"
   ]
  },
  {
   "cell_type": "code",
   "execution_count": 59,
   "id": "e327f2b2",
   "metadata": {},
   "outputs": [
    {
     "name": "stdout",
     "output_type": "stream",
     "text": [
      "2.0\n",
      "3.0\n"
     ]
    }
   ],
   "source": [
    "x=Variable(np.array(3.0))\n",
    "y=add(x,x)\n",
    "y.backward()\n",
    "print(x.grad)\n",
    "\n",
    "x.cleargrad()\n",
    "y=add(add(x,x),x)\n",
    "y.backward()\n",
    "print(x.grad)"
   ]
  },
  {
   "cell_type": "markdown",
   "id": "d2ba194d",
   "metadata": {},
   "source": [
    "__x.cleargrad()__ : Initializing gradient"
   ]
  }
 ],
 "metadata": {
  "kernelspec": {
   "display_name": "Python 3 (ipykernel)",
   "language": "python",
   "name": "python3"
  },
  "language_info": {
   "codemirror_mode": {
    "name": "ipython",
    "version": 3
   },
   "file_extension": ".py",
   "mimetype": "text/x-python",
   "name": "python",
   "nbconvert_exporter": "python",
   "pygments_lexer": "ipython3",
   "version": "3.10.1"
  }
 },
 "nbformat": 4,
 "nbformat_minor": 5
}
