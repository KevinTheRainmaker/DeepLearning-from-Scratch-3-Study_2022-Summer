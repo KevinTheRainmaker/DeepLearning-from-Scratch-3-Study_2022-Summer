{
 "cells": [
  {
   "cell_type": "markdown",
   "id": "af1b7122",
   "metadata": {},
   "source": [
    "# Step 6 Back Propagation by hand\n",
    "## 6.1 Variable class with grad"
   ]
  },
  {
   "cell_type": "markdown",
   "id": "a1035cf3",
   "metadata": {},
   "source": [
    "Say that data and grad variables are two numpy multidimensional arrays. Variable grad is initialized to None, and gradient values are going to be applied afterward. "
   ]
  },
  {
   "cell_type": "code",
   "execution_count": 6,
   "id": "c7aaacdd",
   "metadata": {},
   "outputs": [],
   "source": [
    "class Variable:\n",
    "    def __init__(self, data):\n",
    "        self.data=data\n",
    "        self.grad=None"
   ]
  },
  {
   "cell_type": "markdown",
   "id": "8a616500",
   "metadata": {},
   "source": [
    "## 6.2 Function class with backward method"
   ]
  },
  {
   "cell_type": "code",
   "execution_count": 13,
   "id": "a9f959d0",
   "metadata": {},
   "outputs": [],
   "source": [
    "class Function:\n",
    "    \n",
    "    def __call__(self, input):\n",
    "        x=input.data\n",
    "        y=self.forward(x)\n",
    "        output=Variable(y)\n",
    "        self.input=input #remember the input variable\n",
    "        return output\n",
    "    \n",
    "    def forward(self, x):\n",
    "        raise NotImplementedError()\n",
    "    \n",
    "    def backward(self, x):\n",
    "        raise NotImplementedError()"
   ]
  },
  {
   "cell_type": "markdown",
   "id": "e7b2a959",
   "metadata": {},
   "source": [
    "## 6.3 Back propagation of Square and Exp function"
   ]
  },
  {
   "cell_type": "code",
   "execution_count": 14,
   "id": "6a6020e0",
   "metadata": {},
   "outputs": [],
   "source": [
    "class Square(Function):\n",
    "    def forward(self, x):\n",
    "        y=x**2\n",
    "        return y\n",
    "    def backward(self, gy):\n",
    "        x=self.input.data\n",
    "        gx=gy*2*x\n",
    "        return gx\n",
    "        \n",
    "class Exp(Function):\n",
    "    def forward(self, x):\n",
    "        y=np.exp(x)\n",
    "        return y\n",
    "    def backward(self, gy):\n",
    "        x=self.input.data\n",
    "        gx=np.exp(x)*gy\n",
    "        return gx"
   ]
  },
  {
   "cell_type": "markdown",
   "id": "ca548bb2",
   "metadata": {},
   "source": [
    "## 6.4 Implementing back propagation"
   ]
  },
  {
   "cell_type": "code",
   "execution_count": 15,
   "id": "81e60aed",
   "metadata": {},
   "outputs": [
    {
     "name": "stdout",
     "output_type": "stream",
     "text": [
      "3.297442541400256\n"
     ]
    }
   ],
   "source": [
    "import numpy as np\n",
    "\n",
    "A= Square()\n",
    "B= Exp()\n",
    "C= Square()\n",
    "\n",
    "x=Variable(np.array(0.5))\n",
    "a=A(x)\n",
    "b=B(a)\n",
    "y=C(b)\n",
    "\n",
    "y.grad=np.array(1.0)\n",
    "b.grad=C.backward(y.grad)\n",
    "a.grad=B.backward(b.grad)\n",
    "x.grad=A.backward(a.grad)\n",
    "\n",
    "print(x.grad)\n"
   ]
  },
  {
   "cell_type": "code",
   "execution_count": null,
   "id": "254c1574",
   "metadata": {},
   "outputs": [],
   "source": []
  }
 ],
 "metadata": {
  "kernelspec": {
   "display_name": "Python 3 (ipykernel)",
   "language": "python",
   "name": "python3"
  },
  "language_info": {
   "codemirror_mode": {
    "name": "ipython",
    "version": 3
   },
   "file_extension": ".py",
   "mimetype": "text/x-python",
   "name": "python",
   "nbconvert_exporter": "python",
   "pygments_lexer": "ipython3",
   "version": "3.10.1"
  }
 },
 "nbformat": 4,
 "nbformat_minor": 5
}
