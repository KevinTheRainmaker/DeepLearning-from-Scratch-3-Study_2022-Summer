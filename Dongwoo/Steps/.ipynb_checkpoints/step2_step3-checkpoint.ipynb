{
 "cells": [
  {
   "cell_type": "markdown",
   "id": "af1b7122",
   "metadata": {},
   "source": [
    "# Step 2\n",
    "## 2.2 How to implement Function Class"
   ]
  },
  {
   "cell_type": "markdown",
   "id": "3c264bf5",
   "metadata": {},
   "source": [
    "____call____ method's arguement, input is the instance of Variable<br>\n",
    "--> the real data is inside the input.data"
   ]
  },
  {
   "cell_type": "markdown",
   "id": "7edb0a20",
   "metadata": {},
   "source": [
    "call method can be called by f=Function(), then f()"
   ]
  },
  {
   "cell_type": "code",
   "execution_count": 6,
   "id": "204a55d2",
   "metadata": {},
   "outputs": [],
   "source": [
    "class Variable:\n",
    "    def __init__(self, data):\n",
    "        self.data=data\n",
    "        \n",
    "class Function:\n",
    "    def __call__(self, input):\n",
    "        x=input.data\n",
    "        y=x**2\n",
    "        output=Variable(y)\n",
    "        return output\n",
    "    \n",
    "    \n",
    "    "
   ]
  },
  {
   "cell_type": "markdown",
   "id": "b9e9a57c",
   "metadata": {},
   "source": [
    "## 2.3 Using Function Class"
   ]
  },
  {
   "cell_type": "markdown",
   "id": "42ab754d",
   "metadata": {},
   "source": [
    "y's class: Variable<br>\n",
    "data saved in y.data"
   ]
  },
  {
   "cell_type": "code",
   "execution_count": 5,
   "id": "79f44dd6",
   "metadata": {},
   "outputs": [
    {
     "name": "stdout",
     "output_type": "stream",
     "text": [
      "<class '__main__.Variable'>\n",
      "100\n"
     ]
    }
   ],
   "source": [
    "import numpy as np\n",
    "\n",
    "x=Variable(np.array(10))\n",
    "f=Function()\n",
    "y=f(x)\n",
    "\n",
    "print(type(y))\n",
    "print(y.data)\n"
   ]
  },
  {
   "cell_type": "markdown",
   "id": "2c877366",
   "metadata": {},
   "source": [
    "Square, Exp are functional inheritance of Function"
   ]
  },
  {
   "cell_type": "code",
   "execution_count": 9,
   "id": "dbabf845",
   "metadata": {},
   "outputs": [],
   "source": [
    "class Variable:\n",
    "    def __init__(self, data):\n",
    "        self.data=data\n",
    "        \n",
    "class Function:\n",
    "    def __call__(self, input):\n",
    "        x=input.data\n",
    "        y=self.forward(x)\n",
    "        output=Variable(y)\n",
    "        return output\n",
    "    \n",
    "    def forward(self, x):\n",
    "        raise NotImplementedError()\n",
    "\n",
    "class Square(Function):\n",
    "    def forward(self, x):\n",
    "        return x**2\n",
    "    \n",
    "class Exp(Function):\n",
    "    def forward(self, x):\n",
    "        return np.exp(x)\n",
    "    "
   ]
  },
  {
   "cell_type": "markdown",
   "id": "047e2a70",
   "metadata": {},
   "source": [
    "# Step 3\n",
    "## 3.2 Connecting the function"
   ]
  },
  {
   "cell_type": "markdown",
   "id": "0ce491f9",
   "metadata": {},
   "source": [
    "Calculating y=$(e^{x^{2}})^{2}$ is as done following."
   ]
  },
  {
   "cell_type": "code",
   "execution_count": 11,
   "id": "09ed23c8",
   "metadata": {},
   "outputs": [
    {
     "name": "stdout",
     "output_type": "stream",
     "text": [
      "1.648721270700128\n"
     ]
    }
   ],
   "source": [
    "A=Square()\n",
    "B=Exp()\n",
    "C=Sqaure()\n",
    "\n",
    "x=Variable(np.array(0.5))\n",
    "a=A(x)\n",
    "b=B(a)\n",
    "y=C(b)\n",
    "\n",
    "print(y.data)"
   ]
  },
  {
   "cell_type": "code",
   "execution_count": null,
   "id": "ac46a2a9",
   "metadata": {},
   "outputs": [],
   "source": []
  }
 ],
 "metadata": {
  "kernelspec": {
   "display_name": "Python 3 (ipykernel)",
   "language": "python",
   "name": "python3"
  },
  "language_info": {
   "codemirror_mode": {
    "name": "ipython",
    "version": 3
   },
   "file_extension": ".py",
   "mimetype": "text/x-python",
   "name": "python",
   "nbconvert_exporter": "python",
   "pygments_lexer": "ipython3",
   "version": "3.10.1"
  }
 },
 "nbformat": 4,
 "nbformat_minor": 5
}
