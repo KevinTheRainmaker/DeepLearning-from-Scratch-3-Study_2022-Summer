{
 "cells": [
  {
   "cell_type": "markdown",
   "id": "af1b7122",
   "metadata": {},
   "source": [
    "# Step 1\n",
    "## 1.2 How to implement Variable Class"
   ]
  },
  {
   "cell_type": "code",
   "execution_count": 6,
   "id": "204a55d2",
   "metadata": {},
   "outputs": [],
   "source": [
    "class Variable:\n",
    "    def __init__(self, data):\n",
    "        self.data=data"
   ]
  },
  {
   "cell_type": "markdown",
   "id": "79eb153b",
   "metadata": {},
   "source": [
    "Numpy array is used as data and x is an instance <br>\n",
    "Machine learning system deals with 'multidimensional arrays' as a basic data structure. "
   ]
  },
  {
   "cell_type": "code",
   "execution_count": 7,
   "id": "f6bac934",
   "metadata": {},
   "outputs": [
    {
     "name": "stdout",
     "output_type": "stream",
     "text": [
      "1.0\n"
     ]
    }
   ],
   "source": [
    "import numpy as np\n",
    "\n",
    "data=np.array(1.0)\n",
    "x=Variable(data)\n",
    "print(x.data)"
   ]
  },
  {
   "cell_type": "markdown",
   "id": "b9e9a57c",
   "metadata": {},
   "source": [
    "## 1.3 Multidimensional arrays of Numpy\n",
    "Dimension(axis): Order of elements in these arrays have 'directions', and they are called dimension<br>\n",
    "Tensor: Multidimensional arrays are also called tensors<br>\n",
    "\n",
    "**Caution**<br>\n",
    "There is a big difference in concept of 'dimensions' between vector and tensor. <br>\n",
    "Say, np.array([1,2,3]) is an array, but also a vector.<br> \n",
    "When it is called 3-dim vector, it means that there are 3 elements alligned in the vector. <br>\n",
    "However, it is 1 dimension tensor, since the dim indicates axis!"
   ]
  },
  {
   "cell_type": "code",
   "execution_count": 9,
   "id": "79f44dd6",
   "metadata": {},
   "outputs": [
    {
     "name": "stdout",
     "output_type": "stream",
     "text": [
      "2\n"
     ]
    }
   ],
   "source": [
    "x=np.array([[1,2,3],\n",
    "          [4,5,6]])\n",
    "print(x.ndim)"
   ]
  },
  {
   "cell_type": "code",
   "execution_count": null,
   "id": "dbabf845",
   "metadata": {},
   "outputs": [],
   "source": []
  }
 ],
 "metadata": {
  "kernelspec": {
   "display_name": "Python 3 (ipykernel)",
   "language": "python",
   "name": "python3"
  },
  "language_info": {
   "codemirror_mode": {
    "name": "ipython",
    "version": 3
   },
   "file_extension": ".py",
   "mimetype": "text/x-python",
   "name": "python",
   "nbconvert_exporter": "python",
   "pygments_lexer": "ipython3",
   "version": "3.10.1"
  }
 },
 "nbformat": 4,
 "nbformat_minor": 5
}
