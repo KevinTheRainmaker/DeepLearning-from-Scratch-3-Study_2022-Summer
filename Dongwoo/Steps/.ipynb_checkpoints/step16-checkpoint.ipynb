{
 "cells": [
  {
   "cell_type": "markdown",
   "id": "41d6d78f",
   "metadata": {},
   "source": [
    "# Step16 Complex Computation Graph(Implementation)"
   ]
  },
  {
   "cell_type": "markdown",
   "id": "95d6f1df",
   "metadata": {},
   "source": [
    "## 16.1 Add Generation"
   ]
  },
  {
   "cell_type": "code",
   "execution_count": 20,
   "id": "e264ed27",
   "metadata": {},
   "outputs": [],
   "source": [
    "import numpy as np\n",
    "\n",
    "class Variable:\n",
    "    def __init__(self, data):\n",
    "        if data is not None:\n",
    "            if not isinstance(data, np.ndarray):\n",
    "                raise TypeError('{} is not supported'.format(type(data)))\n",
    "\n",
    "        self.data = data\n",
    "        self.grad = None\n",
    "        self.creator = None\n",
    "        self.generation=0 #number of generations\n",
    "\n",
    "    def set_creator(self, func): #everytime the set_creator function is called, +1 to the num. of gen.\n",
    "        self.creator = func\n",
    "        self.generation= func.generation+1 #parent_generation+1\n",
    "\n",
    "    def backward(self):\n",
    "        if self.grad is None:\n",
    "            self.grad = np.ones_like(self.data)\n",
    "\n",
    "        funcs = [self.creator]\n",
    "        while funcs:\n",
    "            f = funcs.pop()\n",
    "            gys = [output.grad for output in f.outputs] \n",
    "            gxs = f.backward(*gys) \n",
    "            if not isinstance(gxs, tuple): \n",
    "                gxs=(gxs, )\n",
    "            for x, gx in zip(f.inputs, gxs): \n",
    "                if x.grad is None:\n",
    "                    x.grad=gx\n",
    "                else:\n",
    "                    x.grad=x.grad+gx \n",
    "            \n",
    "                if x.creator is not None:\n",
    "                    funcs.append(x.creator)\n",
    "    def cleargrad(self):\n",
    "        self.grad=None\n",
    "\n",
    "def as_array(x):\n",
    "    if np.isscalar(x):\n",
    "        return np.array(x)\n",
    "    return x"
   ]
  },
  {
   "cell_type": "code",
   "execution_count": 21,
   "id": "fe2ac3c4",
   "metadata": {},
   "outputs": [],
   "source": [
    "class Function:\n",
    "    def __call__(self, *inputs):\n",
    "        xs = [x.data for x in inputs]\n",
    "        ys = self.forward(*xs)\n",
    "        if not isinstance(ys, tuple):\n",
    "            ys = (ys,)\n",
    "        outputs = [Variable(as_array(y)) for y in ys]\n",
    "        \n",
    "        self.generation=max([x.generation for x in inputs]) \n",
    "        #among the inputs, choose one that has the largest value of gen. \n",
    "        \n",
    "        for output in outputs:\n",
    "            output.set_creator(self)\n",
    "        self.inputs = inputs\n",
    "        self.outputs = outputs\n",
    "        return outputs if len(outputs) > 1 else outputs[0]\n",
    "\n",
    "    def forward(self, xs):\n",
    "        raise NotImplementedError()\n",
    "\n",
    "    def backward(self, gys):\n",
    "        raise NotImplementedError()"
   ]
  },
  {
   "cell_type": "markdown",
   "id": "e1ce3ed3",
   "metadata": {},
   "source": [
    "## 16.2 In the order of Generation"
   ]
  },
  {
   "cell_type": "code",
   "execution_count": 22,
   "id": "cef32f62",
   "metadata": {},
   "outputs": [
    {
     "data": {
      "text/plain": [
       "[2, 0, 1, 6, 2]"
      ]
     },
     "execution_count": 22,
     "metadata": {},
     "output_type": "execute_result"
    }
   ],
   "source": [
    "generations=[2,0,1,6,2]\n",
    "funcs=[]\n",
    "\n",
    "for g in generations:\n",
    "    f=Function()\n",
    "    f.generation=g\n",
    "    funcs.append(f)\n",
    "[f.generation for f in funcs]"
   ]
  },
  {
   "cell_type": "code",
   "execution_count": 23,
   "id": "a5595f33",
   "metadata": {},
   "outputs": [
    {
     "data": {
      "text/plain": [
       "[0, 1, 2, 2, 6]"
      ]
     },
     "execution_count": 23,
     "metadata": {},
     "output_type": "execute_result"
    }
   ],
   "source": [
    "funcs.sort(key=lambda x: x.generation)\n",
    "[f.generation for f in funcs]"
   ]
  },
  {
   "cell_type": "code",
   "execution_count": 24,
   "id": "c4a030fa",
   "metadata": {},
   "outputs": [
    {
     "data": {
      "text/plain": [
       "6"
      ]
     },
     "execution_count": 24,
     "metadata": {},
     "output_type": "execute_result"
    }
   ],
   "source": [
    "f=funcs.pop()\n",
    "f.generation"
   ]
  },
  {
   "cell_type": "markdown",
   "id": "92958381",
   "metadata": {},
   "source": [
    "## 16.3 Backward function of Variable Class"
   ]
  },
  {
   "cell_type": "code",
   "execution_count": 25,
   "id": "de1a61da",
   "metadata": {},
   "outputs": [],
   "source": [
    "class Variable:\n",
    "    def __init__(self, data):\n",
    "        if data is not None:\n",
    "            if not isinstance(data, np.ndarray):\n",
    "                raise TypeError('{} is not supported'.format(type(data)))\n",
    "\n",
    "        self.data = data\n",
    "        self.grad = None\n",
    "        self.creator = None\n",
    "        self.generation=0 #number of generations\n",
    "\n",
    "    def set_creator(self, func): #everytime the set_creator function is called, +1 to the num. of gen.\n",
    "        self.creator = func\n",
    "        self.generation= func.generation+1 #parent_generation+1\n",
    "\n",
    "    def backward(self):\n",
    "        if self.grad is None:\n",
    "            self.grad = np.ones_like(self.data)\n",
    "\n",
    "        funcs = []\n",
    "        seen_set=set()\n",
    "        \n",
    "        def add_func(f):\n",
    "            if f not in seen_set:\n",
    "                funcs.append(f)\n",
    "                seen_set.add(f)\n",
    "                funcs.sort(key=lambda x: x.generation)\n",
    "        add_func(self.creator)\n",
    "        \n",
    "        while funcs:\n",
    "            f = funcs.pop()\n",
    "            gys = [output.grad for output in f.outputs] \n",
    "            gxs = f.backward(*gys) \n",
    "            if not isinstance(gxs, tuple): \n",
    "                gxs=(gxs, )\n",
    "            for x, gx in zip(f.inputs, gxs): \n",
    "                if x.grad is None:\n",
    "                    x.grad=gx\n",
    "                else:\n",
    "                    x.grad=x.grad+gx \n",
    "            \n",
    "                if x.creator is not None:\n",
    "                    add_func(x.creator)\n",
    "    def cleargrad(self):\n",
    "        self.grad=None\n",
    "\n",
    "def as_array(x):\n",
    "    if np.isscalar(x):\n",
    "        return np.array(x)\n",
    "    return x"
   ]
  },
  {
   "cell_type": "code",
   "execution_count": 26,
   "id": "a982a03e",
   "metadata": {},
   "outputs": [],
   "source": [
    "%run Codes/step16.ipynb"
   ]
  },
  {
   "cell_type": "code",
   "execution_count": 27,
   "id": "0cf54091",
   "metadata": {},
   "outputs": [
    {
     "ename": "TypeError",
     "evalue": "Square() takes no arguments",
     "output_type": "error",
     "traceback": [
      "\u001b[0;31m---------------------------------------------------------------------------\u001b[0m",
      "\u001b[0;31mTypeError\u001b[0m                                 Traceback (most recent call last)",
      "Input \u001b[0;32mIn [27]\u001b[0m, in \u001b[0;36m<module>\u001b[0;34m\u001b[0m\n\u001b[1;32m      1\u001b[0m x\u001b[38;5;241m=\u001b[39mVariable(np\u001b[38;5;241m.\u001b[39marray(\u001b[38;5;241m2.0\u001b[39m))\n\u001b[0;32m----> 2\u001b[0m a\u001b[38;5;241m=\u001b[39m\u001b[43mSquare\u001b[49m\u001b[43m(\u001b[49m\u001b[43mx\u001b[49m\u001b[43m)\u001b[49m\n\u001b[1;32m      3\u001b[0m y\u001b[38;5;241m=\u001b[39madd(square(a),square(a))\n\u001b[1;32m      4\u001b[0m y\u001b[38;5;241m.\u001b[39mbackward()\n",
      "\u001b[0;31mTypeError\u001b[0m: Square() takes no arguments"
     ]
    }
   ],
   "source": [
    "x=Variable(np.array(2.0))\n",
    "a=Square(x)\n",
    "y=add(square(a),square(a))\n",
    "y.backward()\n",
    "\n",
    "print(y.data)\n",
    "print(x.grad)"
   ]
  },
  {
   "cell_type": "code",
   "execution_count": null,
   "id": "ce747e3e",
   "metadata": {},
   "outputs": [],
   "source": []
  }
 ],
 "metadata": {
  "kernelspec": {
   "display_name": "Python 3 (ipykernel)",
   "language": "python",
   "name": "python3"
  },
  "language_info": {
   "codemirror_mode": {
    "name": "ipython",
    "version": 3
   },
   "file_extension": ".py",
   "mimetype": "text/x-python",
   "name": "python",
   "nbconvert_exporter": "python",
   "pygments_lexer": "ipython3",
   "version": "3.10.1"
  }
 },
 "nbformat": 4,
 "nbformat_minor": 5
}
