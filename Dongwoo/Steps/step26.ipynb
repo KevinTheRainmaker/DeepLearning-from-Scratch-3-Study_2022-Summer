{
 "cells": [
  {
   "cell_type": "markdown",
   "id": "0cd28366",
   "metadata": {},
   "source": [
    "# Step 26 Visualizing Computational Graph"
   ]
  },
  {
   "cell_type": "markdown",
   "id": "e63e34df",
   "metadata": {},
   "source": [
    "## 26.1 Example for visualizing code"
   ]
  },
  {
   "cell_type": "code",
   "execution_count": 5,
   "id": "88339a64",
   "metadata": {},
   "outputs": [
    {
     "ename": "SyntaxError",
     "evalue": "invalid syntax (416269257.py, line 6)",
     "output_type": "error",
     "traceback": [
      "\u001b[0;36m  Input \u001b[0;32mIn [5]\u001b[0;36m\u001b[0m\n\u001b[0;31m    from ../dezero import as_variable\u001b[0m\n\u001b[0m           ^\u001b[0m\n\u001b[0;31mSyntaxError\u001b[0m\u001b[0;31m:\u001b[0m invalid syntax\n"
     ]
    }
   ],
   "source": [
    "#utils.py\n",
    "\n",
    "import os\n",
    "import subprocess\n",
    "import numpy as np\n",
    "from dezero import as_variable\n",
    "from dezero import Variable\n",
    "\n",
    "def _dot_var(v, verbose=False): # underbar in the function name indicates that the function is only used locally(inside another function)\n",
    "    dot_var='{} [label=\"{}\", color=orange, style=filled]\\n'\n",
    "    \n",
    "    name='' if v.name is None else v.name\n",
    "    if verbose and v.data is not None:\n",
    "        if v.name is not None:\n",
    "            name+=': '\n",
    "        name+= str(v.shape)+' '+str(v.dtype)\n",
    "    return dot_var.format(id(v),name)"
   ]
  },
  {
   "cell_type": "code",
   "execution_count": null,
   "id": "8b8edca2",
   "metadata": {},
   "outputs": [],
   "source": []
  }
 ],
 "metadata": {
  "kernelspec": {
   "display_name": "Python 3 (ipykernel)",
   "language": "python",
   "name": "python3"
  },
  "language_info": {
   "codemirror_mode": {
    "name": "ipython",
    "version": 3
   },
   "file_extension": ".py",
   "mimetype": "text/x-python",
   "name": "python",
   "nbconvert_exporter": "python",
   "pygments_lexer": "ipython3",
   "version": "3.10.1"
  }
 },
 "nbformat": 4,
 "nbformat_minor": 5
}
