{
 "cells": [
  {
   "cell_type": "markdown",
   "id": "3306db54",
   "metadata": {},
   "source": [
    "# Step 13 Variable Length Variable (Back Propagation)"
   ]
  },
  {
   "cell_type": "markdown",
   "id": "cf5efff0",
   "metadata": {},
   "source": [
    "## 13.1 Back Propagation of Add class (Variable Length applied)"
   ]
  },
  {
   "cell_type": "code",
   "execution_count": 16,
   "id": "d78c6f6b",
   "metadata": {},
   "outputs": [],
   "source": [
    "import numpy as np\n",
    "import import_ipynb\n",
    "from Codes.step12 import Function\n",
    "\n",
    "class Add(Function):\n",
    "    def forward(self, x0, x1):\n",
    "        y=x0+x1\n",
    "        return y\n",
    "    def backward(self, gy):\n",
    "        return gy, gy"
   ]
  },
  {
   "cell_type": "markdown",
   "id": "76c841fe",
   "metadata": {},
   "source": [
    "## 13.2 Change in Variable Function"
   ]
  },
  {
   "cell_type": "markdown",
   "id": "9f731bc9",
   "metadata": {},
   "source": [
    "Four Changes in __backward()__ function in class __Variable__\n",
    "1. Gradients of outputs are put into list\n",
    "2. Call the __backward__ function (List unpack)\n",
    "3. If __gxs__ is not tuple, change it into tuple. \n",
    "4. W.R.T ith element, gradient of f.inputs[i] corresponds to gxs[i]"
   ]
  },
  {
   "cell_type": "code",
   "execution_count": 25,
   "id": "9de2103c",
   "metadata": {},
   "outputs": [],
   "source": [
    "class Variable:\n",
    "    def __init__(self, data):\n",
    "        if data is not None:\n",
    "            if not isinstance(data, np.ndarray):\n",
    "                raise TypeError('{} is not supported'.format(type(data)))\n",
    "\n",
    "        self.data = data\n",
    "        self.grad = None\n",
    "        self.creator = None\n",
    "\n",
    "    def set_creator(self, func):\n",
    "        self.creator = func\n",
    "\n",
    "    def backward(self):\n",
    "        if self.grad is None:\n",
    "            self.grad = np.ones_like(self.data)\n",
    "\n",
    "        funcs = [self.creator]\n",
    "        while funcs:\n",
    "            f = funcs.pop()\n",
    "            gys = [output.grad for output in f.outputs] #1\n",
    "            gxs = f.backward(*gys) #2\n",
    "            if not isinstance(gxs, tuple): #3\n",
    "                gxs=(gxs, ) \n",
    "            for x, gx in zip(f.inputs, gxs): #4\n",
    "                x.grad=gx\n",
    "            \n",
    "                if x.creator is not None:\n",
    "                    funcs.append(x.creator)\n",
    "\n",
    "\n",
    "def as_array(x):\n",
    "    if np.isscalar(x):\n",
    "        return np.array(x)\n",
    "    return x"
   ]
  },
  {
   "cell_type": "markdown",
   "id": "b617cc71",
   "metadata": {},
   "source": [
    "Warning for myself: At line 24, you have to be careful not to forget about space bar inside the bracket, or else the compiler would think that you forgot the attribute for the input."
   ]
  },
  {
   "cell_type": "markdown",
   "id": "5a7bccb4",
   "metadata": {},
   "source": [
    "## 13.3 Implementing Square class"
   ]
  },
  {
   "cell_type": "code",
   "execution_count": 26,
   "id": "7d9418eb",
   "metadata": {},
   "outputs": [],
   "source": [
    "class Square(Function):\n",
    "    def forward(self, x):\n",
    "        y=x**2\n",
    "        return y\n",
    "    def backward(self, gy):\n",
    "        x=self.inputs[0].data # prev: x=self.input.data\n",
    "        gx=2*x*gy\n",
    "        return gx\n",
    "\n",
    "def add(x0, x1):\n",
    "    \n",
    "    return Add()(x0, x1)\n",
    "def square(x):\n",
    "    f=Square()\n",
    "    return f(x)"
   ]
  },
  {
   "cell_type": "code",
   "execution_count": 28,
   "id": "078eba80",
   "metadata": {},
   "outputs": [
    {
     "name": "stdout",
     "output_type": "stream",
     "text": [
      "13.0\n",
      "4.0\n",
      "6.0\n"
     ]
    }
   ],
   "source": [
    "x=Variable(np.array(2.0))\n",
    "y=Variable(np.array(3.0))\n",
    "\n",
    "z=add(square(x), square(y))\n",
    "z.backward()\n",
    "print(z.data)\n",
    "print(x.grad)\n",
    "print(y.grad)"
   ]
  }
 ],
 "metadata": {
  "kernelspec": {
   "display_name": "Python 3 (ipykernel)",
   "language": "python",
   "name": "python3"
  },
  "language_info": {
   "codemirror_mode": {
    "name": "ipython",
    "version": 3
   },
   "file_extension": ".py",
   "mimetype": "text/x-python",
   "name": "python",
   "nbconvert_exporter": "python",
   "pygments_lexer": "ipython3",
   "version": "3.10.1"
  }
 },
 "nbformat": 4,
 "nbformat_minor": 5
}
