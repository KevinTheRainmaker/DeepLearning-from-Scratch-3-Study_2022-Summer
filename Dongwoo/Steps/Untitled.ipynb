{
 "cells": [
  {
   "cell_type": "markdown",
   "id": "82b0d503",
   "metadata": {},
   "source": [
    "# Step 23 Rearranging in Package"
   ]
  },
  {
   "cell_type": "markdown",
   "id": "b9f7553f",
   "metadata": {},
   "source": [
    "## Basic Concepts in Python"
   ]
  },
  {
   "cell_type": "markdown",
   "id": "bb81d89a",
   "metadata": {},
   "source": [
    "1. Module : Python file that you can __import__\n",
    "2. Package : Bundle of Modules\n",
    "3. Library : Bundle of Packages, consists of one or more directories <br>\n",
    "Sometimes Packages are called Library"
   ]
  },
  {
   "cell_type": "code",
   "execution_count": 3,
   "id": "73b1d28b",
   "metadata": {},
   "outputs": [
    {
     "ename": "ModuleNotFoundError",
     "evalue": "No module named 'dezero'",
     "output_type": "error",
     "traceback": [
      "\u001b[0;31m---------------------------------------------------------------------------\u001b[0m",
      "\u001b[0;31mModuleNotFoundError\u001b[0m                       Traceback (most recent call last)",
      "Input \u001b[0;32mIn [3]\u001b[0m, in \u001b[0;36m<module>\u001b[0;34m\u001b[0m\n\u001b[1;32m      1\u001b[0m \u001b[38;5;28;01mimport\u001b[39;00m \u001b[38;5;21;01mnumpy\u001b[39;00m \u001b[38;5;28;01mas\u001b[39;00m \u001b[38;5;21;01mnp\u001b[39;00m\n\u001b[0;32m----> 2\u001b[0m \u001b[38;5;28;01mfrom\u001b[39;00m \u001b[38;5;21;01mdezero\u001b[39;00m\u001b[38;5;21;01m.\u001b[39;00m\u001b[38;5;21;01mcore_simple\u001b[39;00m \u001b[38;5;28;01mimport\u001b[39;00m Variable\n",
      "\u001b[0;31mModuleNotFoundError\u001b[0m: No module named 'dezero'"
     ]
    }
   ],
   "source": [
    "import numpy as np\n",
    "from dezero.core_simple import Variable"
   ]
  },
  {
   "cell_type": "code",
   "execution_count": null,
   "id": "1c425e00",
   "metadata": {},
   "outputs": [],
   "source": []
  }
 ],
 "metadata": {
  "kernelspec": {
   "display_name": "Python 3 (ipykernel)",
   "language": "python",
   "name": "python3"
  },
  "language_info": {
   "codemirror_mode": {
    "name": "ipython",
    "version": 3
   },
   "file_extension": ".py",
   "mimetype": "text/x-python",
   "name": "python",
   "nbconvert_exporter": "python",
   "pygments_lexer": "ipython3",
   "version": "3.10.1"
  }
 },
 "nbformat": 4,
 "nbformat_minor": 5
}
