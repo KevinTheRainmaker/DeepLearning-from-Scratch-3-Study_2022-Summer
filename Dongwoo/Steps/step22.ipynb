{
 "cells": [
  {
   "cell_type": "markdown",
   "id": "1283cd2d",
   "metadata": {},
   "source": [
    "# Step 22 Operator Overloading(3)"
   ]
  },
  {
   "cell_type": "markdown",
   "id": "4f1f89f3",
   "metadata": {},
   "source": [
    "## 22.1 Negative Value"
   ]
  },
  {
   "cell_type": "markdown",
   "id": "3b02489b",
   "metadata": {},
   "source": [
    "For the back propagation of y=-x, we multiply by -1."
   ]
  },
  {
   "cell_type": "code",
   "execution_count": 1,
   "id": "3578424a",
   "metadata": {},
   "outputs": [],
   "source": [
    "%run ../Codes/step21.ipynb"
   ]
  },
  {
   "cell_type": "code",
   "execution_count": 2,
   "id": "ac6d1e58",
   "metadata": {},
   "outputs": [],
   "source": [
    "class Neg(Function):\n",
    "    \n",
    "    def forward(self, x):\n",
    "        return -x\n",
    "    \n",
    "    def backward(self, gy):\n",
    "        return -gy\n",
    "\n",
    "def neg(x):\n",
    "    return Neg()(x)\n",
    "\n",
    "Variable.__neg__=neg"
   ]
  },
  {
   "cell_type": "code",
   "execution_count": 3,
   "id": "a93efb19",
   "metadata": {},
   "outputs": [
    {
     "name": "stdout",
     "output_type": "stream",
     "text": [
      "variable(-2.0)\n"
     ]
    }
   ],
   "source": [
    "x=Variable(np.array(2.0))\n",
    "y=-x\n",
    "print(y)"
   ]
  },
  {
   "cell_type": "markdown",
   "id": "058ba236",
   "metadata": {},
   "source": [
    "## 22.2 Subtraction"
   ]
  },
  {
   "cell_type": "code",
   "execution_count": 4,
   "id": "57f20bcb",
   "metadata": {},
   "outputs": [],
   "source": [
    "class Sub(Function):\n",
    "    def forward(self, x0, x1):\n",
    "        y=x0-x1\n",
    "        return y\n",
    "    def backward(self, gy):\n",
    "        return gy, -gy\n",
    "def sub(x0,x1):\n",
    "    x1=as_array(x1)\n",
    "    return Sub()(x0,x1)\n",
    "\n",
    "Variable.__sub__=sub"
   ]
  },
  {
   "cell_type": "code",
   "execution_count": 5,
   "id": "1695fe7b",
   "metadata": {},
   "outputs": [],
   "source": [
    "def rsub(x0,x1):\n",
    "    x1=as_array(x1)\n",
    "    return Sub()(x1,x0)\n",
    "\n",
    "Variable.__rsub__=rsub"
   ]
  },
  {
   "cell_type": "code",
   "execution_count": 6,
   "id": "bfb0b42e",
   "metadata": {},
   "outputs": [
    {
     "name": "stdout",
     "output_type": "stream",
     "text": [
      "variable(0.0)\n",
      "variable(1.0)\n"
     ]
    }
   ],
   "source": [
    "x=Variable(np.array(2.0))\n",
    "y1=2.0-x\n",
    "y2=x-1.0\n",
    "print(y1)\n",
    "print(y2)"
   ]
  },
  {
   "cell_type": "markdown",
   "id": "57e6fb02",
   "metadata": {},
   "source": [
    "## 22.3 Division"
   ]
  },
  {
   "cell_type": "code",
   "execution_count": 8,
   "id": "ca33f9cb",
   "metadata": {},
   "outputs": [],
   "source": [
    "class Div(Function):\n",
    "    def forward(self, x0,x1):\n",
    "        y=x0/x1\n",
    "        return y\n",
    "    \n",
    "    def backward(self, gy):\n",
    "        x0,x1=self.inputs[0].data, self.inputs[1].data\n",
    "        gx0=gy/x1\n",
    "        gx1=gy*(-x0/x1**2)\n",
    "        return gx0, gx1\n",
    "    \n",
    "def div(x0,x1):\n",
    "    x1=as_array(x1)\n",
    "    return Div()(x1,x0)\n",
    "\n",
    "def rdiv(x0,x1):\n",
    "    x1=as_array(x1)\n",
    "    return Div()(x1,x0)\n",
    "\n",
    "Variable.__truediv__=div\n",
    "Variable.__rtruediv__=rdiv"
   ]
  },
  {
   "cell_type": "markdown",
   "id": "b8aebac2",
   "metadata": {},
   "source": [
    "## 22.4 Power"
   ]
  },
  {
   "cell_type": "code",
   "execution_count": 9,
   "id": "a59339b9",
   "metadata": {},
   "outputs": [],
   "source": [
    "class Pow(Function):\n",
    "    def __init__(self, c):\n",
    "        self.c=c\n",
    "    def forward(self, x):\n",
    "        y=x**self.c\n",
    "        return y\n",
    "    def backward(self, gy):\n",
    "        x=self.inputs[0].data\n",
    "        c=self.c\n",
    "        gx=c*x**(c-1)*gy\n",
    "        return gx\n",
    "\n",
    "def pow(x,c):\n",
    "    return Pow(c)(x)\n",
    "\n",
    "Variable.__pow__=pow"
   ]
  },
  {
   "cell_type": "code",
   "execution_count": 10,
   "id": "bb4d9521",
   "metadata": {},
   "outputs": [
    {
     "name": "stdout",
     "output_type": "stream",
     "text": [
      "variable(8.0)\n"
     ]
    }
   ],
   "source": [
    "x=Variable(np.array(2.0))\n",
    "y=x**3\n",
    "print(y)"
   ]
  }
 ],
 "metadata": {
  "kernelspec": {
   "display_name": "Python 3 (ipykernel)",
   "language": "python",
   "name": "python3"
  },
  "language_info": {
   "codemirror_mode": {
    "name": "ipython",
    "version": 3
   },
   "file_extension": ".py",
   "mimetype": "text/x-python",
   "name": "python",
   "nbconvert_exporter": "python",
   "pygments_lexer": "ipython3",
   "version": "3.10.1"
  }
 },
 "nbformat": 4,
 "nbformat_minor": 5
}
