{
 "cells": [
  {
   "cell_type": "markdown",
   "id": "82b0d503",
   "metadata": {},
   "source": [
    "# Step 23 Rearranging in Package"
   ]
  },
  {
   "cell_type": "markdown",
   "id": "b9f7553f",
   "metadata": {},
   "source": [
    "## Basic Concepts in Python"
   ]
  },
  {
   "cell_type": "markdown",
   "id": "bb81d89a",
   "metadata": {},
   "source": [
    "1. Module : Python file that you can __import__\n",
    "2. Package : Bundle of Modules\n",
    "3. Library : Bundle of Packages, consists of one or more directories <br>\n",
    "Sometimes Packages are called Library"
   ]
  },
  {
   "cell_type": "code",
   "execution_count": null,
   "id": "1c425e00",
   "metadata": {},
   "outputs": [],
   "source": []
  }
 ],
 "metadata": {
  "kernelspec": {
   "display_name": "Python 3 (ipykernel)",
   "language": "python",
   "name": "python3"
  },
  "language_info": {
   "codemirror_mode": {
    "name": "ipython",
    "version": 3
   },
   "file_extension": ".py",
   "mimetype": "text/x-python",
   "name": "python",
   "nbconvert_exporter": "python",
   "pygments_lexer": "ipython3",
   "version": "3.10.1"
  }
 },
 "nbformat": 4,
 "nbformat_minor": 5
}
