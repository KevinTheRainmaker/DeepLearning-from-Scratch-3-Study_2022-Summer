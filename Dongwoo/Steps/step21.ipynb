{
 "cells": [
  {
   "cell_type": "markdown",
   "id": "1283cd2d",
   "metadata": {},
   "source": [
    "# Step 21 Operator Overloading(2)"
   ]
  },
  {
   "cell_type": "markdown",
   "id": "4f1f89f3",
   "metadata": {},
   "source": [
    "## 21.1 Using with ndarray"
   ]
  },
  {
   "cell_type": "markdown",
   "id": "3b02489b",
   "metadata": {},
   "source": [
    "If __obj__ is the instance of Variable, then leave it as it is. <br>\n",
    "If __obj__ is not the instance of Variable, then assume that it is Variable."
   ]
  },
  {
   "cell_type": "code",
   "execution_count": 28,
   "id": "ac6d1e58",
   "metadata": {},
   "outputs": [],
   "source": [
    "def as_variable(obj):\n",
    "    if isinstance(obj, Variable):\n",
    "        return obj\n",
    "    return Variable(obj)\n"
   ]
  },
  {
   "cell_type": "markdown",
   "id": "2650fa4e",
   "metadata": {},
   "source": [
    "Convert all elements(x) in inputs to Variable instance. "
   ]
  },
  {
   "cell_type": "code",
   "execution_count": 29,
   "id": "a93efb19",
   "metadata": {},
   "outputs": [],
   "source": [
    "class Function:\n",
    "    def __call__(self, *inputs):\n",
    "        inputs=[as_variable(x) for x in inputs] #added\n",
    "        xs = [x.data for x in inputs]\n",
    "        ys = self.forward(*xs)\n",
    "        if not isinstance(ys, tuple):\n",
    "            ys = (ys,)\n",
    "        outputs = [Variable(as_array(y)) for y in ys]\n",
    "        \n",
    "        if Config.enable_backprop:\n",
    "            self.generation=max([x.generation for x in inputs])         \n",
    "            for output in outputs:\n",
    "                output.set_creator(self)\n",
    "            self.inputs = inputs\n",
    "            self.outputs=[weakref.ref(output) for output in outputs] \n",
    "        return outputs if len(outputs) > 1 else outputs[0]\n",
    "\n",
    "    def forward(self, xs):\n",
    "        raise NotImplementedError()\n",
    "\n",
    "    def backward(self, gys):\n",
    "        raise NotImplementedError()"
   ]
  },
  {
   "cell_type": "code",
   "execution_count": 50,
   "id": "3d08fe46",
   "metadata": {},
   "outputs": [],
   "source": [
    "%run ../Codes/step21.ipynb"
   ]
  },
  {
   "cell_type": "code",
   "execution_count": 51,
   "id": "2b203fdf",
   "metadata": {},
   "outputs": [
    {
     "name": "stdout",
     "output_type": "stream",
     "text": [
      "variable(5.0)\n"
     ]
    }
   ],
   "source": [
    "x=Variable(np.array(2.0))\n",
    "y=x+np.array(3.0)\n",
    "print(y)"
   ]
  },
  {
   "cell_type": "markdown",
   "id": "058ba236",
   "metadata": {},
   "source": [
    "## 21.2 Using with float, int"
   ]
  },
  {
   "cell_type": "code",
   "execution_count": 52,
   "id": "57f20bcb",
   "metadata": {},
   "outputs": [],
   "source": [
    "def add(x0, x1):\n",
    "    x1=as_array(x1)\n",
    "    return Add()(x0,x1)"
   ]
  },
  {
   "cell_type": "code",
   "execution_count": 53,
   "id": "1695fe7b",
   "metadata": {},
   "outputs": [
    {
     "name": "stdout",
     "output_type": "stream",
     "text": [
      "variable(5.0)\n"
     ]
    }
   ],
   "source": [
    "x=Variable(np.array(2.0))\n",
    "y=x+3.0\n",
    "print(y)"
   ]
  },
  {
   "cell_type": "markdown",
   "id": "8cc3cd86",
   "metadata": {},
   "source": [
    "Now operation between float and Variable can be done. "
   ]
  },
  {
   "cell_type": "markdown",
   "id": "57e6fb02",
   "metadata": {},
   "source": [
    "## 21.3 Problem 1: First arguement is float or int"
   ]
  },
  {
   "cell_type": "markdown",
   "id": "92229921",
   "metadata": {},
   "source": [
    "Since the Variable is the second arguement, we have to implement the __rmul__ method."
   ]
  },
  {
   "cell_type": "code",
   "execution_count": 55,
   "id": "ca33f9cb",
   "metadata": {},
   "outputs": [
    {
     "name": "stdout",
     "output_type": "stream",
     "text": [
      "variable(7.0)\n"
     ]
    }
   ],
   "source": [
    "x=Variable(np.array(2.0))\n",
    "y=3.0*x+1.0\n",
    "print(y)"
   ]
  },
  {
   "cell_type": "markdown",
   "id": "b8aebac2",
   "metadata": {},
   "source": [
    "## 21.4 Problem 2: First arguement is ndarray and second is Variable"
   ]
  },
  {
   "cell_type": "code",
   "execution_count": 56,
   "id": "a59339b9",
   "metadata": {},
   "outputs": [],
   "source": [
    "x=Variable(np.array([1.0]))\n",
    "y=np.array([2.0])+x"
   ]
  },
  {
   "cell_type": "markdown",
   "id": "f2036228",
   "metadata": {},
   "source": [
    "We have to set the priority so that __radd__ method of __Variable__ is called instead of __add__ method of ndarray instance. "
   ]
  },
  {
   "cell_type": "code",
   "execution_count": null,
   "id": "bd06594a",
   "metadata": {},
   "outputs": [],
   "source": []
  }
 ],
 "metadata": {
  "kernelspec": {
   "display_name": "Python 3 (ipykernel)",
   "language": "python",
   "name": "python3"
  },
  "language_info": {
   "codemirror_mode": {
    "name": "ipython",
    "version": 3
   },
   "file_extension": ".py",
   "mimetype": "text/x-python",
   "name": "python",
   "nbconvert_exporter": "python",
   "pygments_lexer": "ipython3",
   "version": "3.10.1"
  }
 },
 "nbformat": 4,
 "nbformat_minor": 5
}
