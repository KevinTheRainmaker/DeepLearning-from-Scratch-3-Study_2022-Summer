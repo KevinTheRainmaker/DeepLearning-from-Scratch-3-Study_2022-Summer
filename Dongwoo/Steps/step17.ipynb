{
 "cells": [
  {
   "cell_type": "markdown",
   "id": "ae43c220",
   "metadata": {},
   "source": [
    "# Step 17"
   ]
  },
  {
   "cell_type": "markdown",
   "id": "7830f90b",
   "metadata": {},
   "source": [
    "## 17.1 Memory Management"
   ]
  },
  {
   "cell_type": "markdown",
   "id": "f4df2145",
   "metadata": {},
   "source": [
    "Dealing with neural network, we often face the situation where it takes extremely long execution time (even with GPU) because the massive data is not well managed. "
   ]
  },
  {
   "cell_type": "markdown",
   "id": "bbcca758",
   "metadata": {},
   "source": [
    "### How does Python(CPython) manage the memory?"
   ]
  },
  {
   "cell_type": "markdown",
   "id": "ff9630bd",
   "metadata": {},
   "source": [
    "1. Reference Counting\n",
    "2. Garbage Collection"
   ]
  },
  {
   "cell_type": "markdown",
   "id": "2173bd87",
   "metadata": {},
   "source": [
    "## 17.2 Reference Counting"
   ]
  },
  {
   "cell_type": "markdown",
   "id": "15b0ec59",
   "metadata": {},
   "source": [
    "1. Simple Structure, fast\n",
    "2. All objects are generated with 0 reference counts\n",
    "3. When another object use it as a reference, the count increments. \n",
    "4. When the object is stop being assigned, the count decreases. When hitting 0, python intepreter retrievess the object.\n",
    "5. When the object is not needed, the object is deleted immediately.\n"
   ]
  },
  {
   "cell_type": "code",
   "execution_count": 1,
   "id": "829ee468",
   "metadata": {},
   "outputs": [
    {
     "name": "stdout",
     "output_type": "stream",
     "text": [
      "<__main__.obj object at 0x107ff3010>\n"
     ]
    }
   ],
   "source": [
    "class obj:\n",
    "    pass\n",
    "def f(x):\n",
    "    print(x)\n",
    "\n",
    "a=obj() #assigning the variable: Reference Count 1\n",
    "f(a) #passing to a function: Reference inside the function 2\n",
    "#Completed function: Reference Count 1\n",
    "a=None #stop assigning: Reference Count 0"
   ]
  },
  {
   "cell_type": "code",
   "execution_count": null,
   "id": "146dabd9",
   "metadata": {},
   "outputs": [],
   "source": [
    "a=obj()\n",
    "b=obj()\n",
    "c=obj()\n",
    "\n",
    "a.b=b\n",
    "b.c=c\n",
    "\n",
    "a=b=c=None"
   ]
  },
  {
   "cell_type": "markdown",
   "id": "cbd0d89f",
   "metadata": {},
   "source": [
    "When a=b=c=None is executed, reference count changes like the following image.  \n",
    "<img src=\"image/step17.jpeg\"><br><br>"
   ]
  },
  {
   "cell_type": "markdown",
   "id": "73ec4a4f",
   "metadata": {},
   "source": [
    "## 17.3 Circular Reference"
   ]
  },
  {
   "cell_type": "code",
   "execution_count": 2,
   "id": "bee8d0af",
   "metadata": {},
   "outputs": [],
   "source": [
    "a=obj()\n",
    "b=obj()\n",
    "c=obj()\n",
    "\n",
    "a.b=b\n",
    "b.c=c\n",
    "c.a=a\n",
    "\n",
    "a=b=c=None"
   ]
  },
  {
   "cell_type": "markdown",
   "id": "01184af3",
   "metadata": {},
   "source": [
    "<img src=\"image/step17_1.jpeg\">"
   ]
  },
  {
   "cell_type": "markdown",
   "id": "01afda28",
   "metadata": {},
   "source": [
    "In the above situation, user cannot approach neither one of the objects.<br>\n",
    "However, the reference count is not 0, so using the method of reference counting won't delete the memory. "
   ]
  },
  {
   "cell_type": "markdown",
   "id": "e50f9e4a",
   "metadata": {},
   "source": [
    "This is why we need Garbage Collection (GC)."
   ]
  },
  {
   "cell_type": "markdown",
   "id": "5d00ff2f",
   "metadata": {},
   "source": [
    "## 17.4 weakref Module"
   ]
  },
  {
   "cell_type": "markdown",
   "id": "15d844c0",
   "metadata": {},
   "source": [
    "__Weak reference__ is assigning the reference while it is not incrementing the reference count. "
   ]
  },
  {
   "cell_type": "code",
   "execution_count": 16,
   "id": "deecf9b0",
   "metadata": {},
   "outputs": [
    {
     "name": "stdout",
     "output_type": "stream",
     "text": [
      "<weakref at 0x1090c2340; to 'numpy.ndarray' at 0x107f5b2d0>\n"
     ]
    }
   ],
   "source": [
    "import weakref\n",
    "import numpy as np\n",
    "\n",
    "a=np.array([1,2,3])\n",
    "b=weakref.ref(a)\n",
    "print(b)"
   ]
  },
  {
   "cell_type": "code",
   "execution_count": 17,
   "id": "83c48e41",
   "metadata": {},
   "outputs": [
    {
     "data": {
      "text/plain": [
       "array([1, 2, 3])"
      ]
     },
     "execution_count": 17,
     "metadata": {},
     "output_type": "execute_result"
    }
   ],
   "source": [
    "b()"
   ]
  },
  {
   "cell_type": "code",
   "execution_count": 19,
   "id": "82056e39",
   "metadata": {},
   "outputs": [
    {
     "data": {
      "text/plain": [
       "<weakref at 0x1090c2340; to 'numpy.ndarray' at 0x107f5b2d0>"
      ]
     },
     "execution_count": 19,
     "metadata": {},
     "output_type": "execute_result"
    }
   ],
   "source": [
    "a=None\n",
    "b"
   ]
  },
  {
   "cell_type": "markdown",
   "id": "cc94e3c5",
   "metadata": {},
   "source": [
    "<img src=\"image/step17_2.png\">"
   ]
  },
  {
   "cell_type": "markdown",
   "id": "c70092f1",
   "metadata": {},
   "source": [
    "Appeared dead in the terminal"
   ]
  },
  {
   "cell_type": "markdown",
   "id": "c0ce460c",
   "metadata": {},
   "source": [
    "### Applying in the DeZero"
   ]
  },
  {
   "cell_type": "markdown",
   "id": "575b12de",
   "metadata": {},
   "source": [
    "By using __weakref__ we can solve the circular reference problem."
   ]
  },
  {
   "cell_type": "code",
   "execution_count": 22,
   "id": "9de698cd",
   "metadata": {},
   "outputs": [],
   "source": [
    "\n",
    "import numpy as np\n",
    "import weakref\n",
    "\n",
    "class Variable:\n",
    "    def __init__(self, data):\n",
    "        if data is not None:\n",
    "            if not isinstance(data, np.ndarray):\n",
    "                raise TypeError('{} is not supported'.format(type(data)))\n",
    "\n",
    "        self.data = data\n",
    "        self.grad = None\n",
    "        self.creator = None\n",
    "        self.generation=0 #number of generations\n",
    "\n",
    "    def set_creator(self, func): #everytime the set_creator function is called, +1 to the num. of gen.\n",
    "        self.creator = func\n",
    "        self.generation= func.generation+1 #parent_generation+1\n",
    "\n",
    "    def backward(self):\n",
    "        if self.grad is None:\n",
    "            self.grad = np.ones_like(self.data)\n",
    "\n",
    "        funcs = []\n",
    "        seen_set=set()\n",
    "        \n",
    "        def add_func(f):\n",
    "            if f not in seen_set:\n",
    "                funcs.append(f)\n",
    "                seen_set.add(f)\n",
    "                funcs.sort(key=lambda x: x.generation)\n",
    "        add_func(self.creator)\n",
    "        \n",
    "        while funcs:\n",
    "            f = funcs.pop()\n",
    "            gys = [output().grad for output in f.outputs] #prev: gys = [output.grad for output in f.outputs] \n",
    "            gxs = f.backward(*gys) \n",
    "            if not isinstance(gxs, tuple): \n",
    "                gxs=(gxs, )\n",
    "            for x, gx in zip(f.inputs, gxs): \n",
    "                if x.grad is None:\n",
    "                    x.grad=gx\n",
    "                else:\n",
    "                    x.grad=x.grad+gx \n",
    "            \n",
    "                if x.creator is not None:\n",
    "                    add_func(x.creator)\n",
    "    def cleargrad(self):\n",
    "        self.grad=None\n",
    "\n",
    "def as_array(x):\n",
    "    if np.isscalar(x):\n",
    "        return np.array(x)\n",
    "    return x\n",
    "\n",
    "class Function:\n",
    "    def __call__(self, *inputs):\n",
    "        xs = [x.data for x in inputs]\n",
    "        ys = self.forward(*xs)\n",
    "        if not isinstance(ys, tuple):\n",
    "            ys = (ys,)\n",
    "        outputs = [Variable(as_array(y)) for y in ys]\n",
    "        \n",
    "        self.generation=max([x.generation for x in inputs]) \n",
    "\n",
    "        \n",
    "        for output in outputs:\n",
    "            output.set_creator(self)\n",
    "        self.inputs = inputs\n",
    "        self.outputs = outputs\n",
    "        self.outputs=[weakref.ref(output) for output in outputs] #added\n",
    "        return outputs if len(outputs) > 1 else outputs[0]\n",
    "\n",
    "    def forward(self, xs):\n",
    "        raise NotImplementedError()\n",
    "\n",
    "    def backward(self, gys):\n",
    "        raise NotImplementedError()\n",
    "        \n",
    "class Add(Function):\n",
    "    def forward(self, x0, x1):\n",
    "        y=x0+x1\n",
    "        return y\n",
    "    def backward(self, gy):\n",
    "        return gy, gy\n",
    "\n",
    "def add(x0, x1):\n",
    "    return Add()(x0, x1)    \n",
    "    \n",
    "class Square(Function):\n",
    "    def forward(self, x):\n",
    "        y=x**2\n",
    "        return y\n",
    "    def backward(self, gy):\n",
    "        x=self.inputs[0].data # prev: x=self.input.data\n",
    "        gx=2*x*gy\n",
    "        return gx\n",
    "    \n",
    "\n",
    "def square(x):\n",
    "    return Square()(x)"
   ]
  },
  {
   "cell_type": "markdown",
   "id": "0a6de576",
   "metadata": {},
   "source": [
    "## 17.5 Check"
   ]
  },
  {
   "cell_type": "code",
   "execution_count": 24,
   "id": "07255d0a",
   "metadata": {},
   "outputs": [],
   "source": [
    "for i in range(10):\n",
    "    x=Variable(np.random.randn(10000)) # big data\n",
    "    y=square(square(square(x))) # Complex computation "
   ]
  }
 ],
 "metadata": {
  "kernelspec": {
   "display_name": "Python 3 (ipykernel)",
   "language": "python",
   "name": "python3"
  },
  "language_info": {
   "codemirror_mode": {
    "name": "ipython",
    "version": 3
   },
   "file_extension": ".py",
   "mimetype": "text/x-python",
   "name": "python",
   "nbconvert_exporter": "python",
   "pygments_lexer": "ipython3",
   "version": "3.10.1"
  }
 },
 "nbformat": 4,
 "nbformat_minor": 5
}
