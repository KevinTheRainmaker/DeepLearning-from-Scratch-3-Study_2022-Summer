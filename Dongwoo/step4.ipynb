{
 "cells": [
  {
   "cell_type": "markdown",
   "id": "af1b7122",
   "metadata": {},
   "source": [
    "# Step 4 Numerical Differentiation\n",
    "## 4.2 How to implement Numerical Differentiation"
   ]
  },
  {
   "cell_type": "markdown",
   "id": "79eb153b",
   "metadata": {},
   "source": [
    "Derivative f'(x) can be defined as the following equation.<br>\n",
    "<img src=\"image/4_1.png\">"
   ]
  },
  {
   "cell_type": "markdown",
   "id": "e79d4321",
   "metadata": {},
   "source": [
    "1. centered difference : calculating the gradient with f(x+h) and f(x-h) instead of f(x) and f(x+h) -> divide by 2h not h\n",
    "2. forward difference : calculating the gradient with f(x) and f(x+h)\n"
   ]
  },
  {
   "cell_type": "markdown",
   "id": "8a616500",
   "metadata": {},
   "source": [
    "Say that we are implementing function numerical_diff(f, x, eps= 1e-4) that calculates numerical difference"
   ]
  },
  {
   "cell_type": "code",
   "execution_count": 7,
   "id": "4e585d9b",
   "metadata": {},
   "outputs": [],
   "source": [
    "def numerical_diff(f,x,eps=1e-4):\n",
    "    x0 = Variable(x.data - eps)\n",
    "    x1 = Variable(x.data + eps)\n",
    "    y0 = f(x0)\n",
    "    y1 = f(x1)\n",
    "    return (y1.data - y0.data)/(2*eps)"
   ]
  },
  {
   "cell_type": "code",
   "execution_count": 10,
   "id": "9801474a",
   "metadata": {},
   "outputs": [],
   "source": [
    "class Variable:\n",
    "    def __init__(self, data):\n",
    "        self.data=data\n",
    "        \n",
    "class Function:\n",
    "    def __call__(self, input):\n",
    "        x=input.data\n",
    "        y=self.forward(x)\n",
    "        output=Variable(y)\n",
    "        return output\n",
    "    \n",
    "    def forward(self, x):\n",
    "        raise NotImplementedError()\n",
    "\n",
    "class Square(Function):\n",
    "    def forward(self, x):\n",
    "        return x**2\n",
    "    \n",
    "class Exp(Function):\n",
    "    def forward(self, x):\n",
    "        return np.exp(x)"
   ]
  },
  {
   "cell_type": "code",
   "execution_count": 11,
   "id": "1fcfe088",
   "metadata": {},
   "outputs": [
    {
     "name": "stdout",
     "output_type": "stream",
     "text": [
      "4.000000000004\n"
     ]
    }
   ],
   "source": [
    "import numpy as np\n",
    "\n",
    "f= Square()\n",
    "x=Variable(np.array(2.0))\n",
    "dy=numerical_diff(f,x)\n",
    "print(dy)"
   ]
  },
  {
   "cell_type": "markdown",
   "id": "089289cf",
   "metadata": {},
   "source": [
    "## 4.3 Chain rule"
   ]
  },
  {
   "cell_type": "markdown",
   "id": "b9e9a57c",
   "metadata": {},
   "source": [
    "Calculating dy/dx, derivative of y=$(e^{x^{2}})^{2}$ is as done following.<br>\n",
    "Then f(x) automatically calculates the numerical difference!"
   ]
  },
  {
   "cell_type": "code",
   "execution_count": 13,
   "id": "79f44dd6",
   "metadata": {},
   "outputs": [
    {
     "name": "stdout",
     "output_type": "stream",
     "text": [
      "3.2974426293330694\n"
     ]
    }
   ],
   "source": [
    "def f(x):\n",
    "    A=Square()\n",
    "    B=Exp()\n",
    "    C=Square()\n",
    "    return C(B(A(x)))\n",
    "\n",
    "x= Variable(np.array(0.5))\n",
    "dy= numerical_diff(f,x)\n",
    "print(dy)"
   ]
  },
  {
   "cell_type": "markdown",
   "id": "28b537a0",
   "metadata": {},
   "source": [
    "## 4.4 Problem of Numerical Differentiation"
   ]
  },
  {
   "cell_type": "markdown",
   "id": "372ac55c",
   "metadata": {},
   "source": [
    "If there are more variables, each variable has to be differentiated, which contains lot of calculations resulting in serious problems. "
   ]
  },
  {
   "cell_type": "markdown",
   "id": "97def96c",
   "metadata": {},
   "source": [
    "However, it is true that numerical differentiation is precise and easy to implement. "
   ]
  },
  {
   "cell_type": "code",
   "execution_count": null,
   "id": "2a0bc453",
   "metadata": {},
   "outputs": [],
   "source": []
  }
 ],
 "metadata": {
  "kernelspec": {
   "display_name": "Python 3 (ipykernel)",
   "language": "python",
   "name": "python3"
  },
  "language_info": {
   "codemirror_mode": {
    "name": "ipython",
    "version": 3
   },
   "file_extension": ".py",
   "mimetype": "text/x-python",
   "name": "python",
   "nbconvert_exporter": "python",
   "pygments_lexer": "ipython3",
   "version": "3.10.1"
  }
 },
 "nbformat": 4,
 "nbformat_minor": 5
}
