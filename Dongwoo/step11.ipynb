{
 "cells": [
  {
   "cell_type": "markdown",
   "id": "79c69304",
   "metadata": {},
   "source": [
    "# Step 11 "
   ]
  },
  {
   "cell_type": "markdown",
   "id": "b5683508",
   "metadata": {},
   "source": [
    "## 11.1 Improving Function Class"
   ]
  },
  {
   "cell_type": "code",
   "execution_count": 26,
   "id": "5f5a9b53",
   "metadata": {},
   "outputs": [],
   "source": [
    "from Codes.step11 import Variable"
   ]
  },
  {
   "cell_type": "markdown",
   "id": "3c0bb01e",
   "metadata": {},
   "source": [
    "Replace the single instance to a list of variables, in order to deal with variable-length instance. "
   ]
  },
  {
   "cell_type": "markdown",
   "id": "bf68c2ed",
   "metadata": {},
   "source": [
    "__list comprehension__ : xs=[x.data for x in inputs]"
   ]
  },
  {
   "cell_type": "code",
   "execution_count": 39,
   "id": "8106bffb",
   "metadata": {},
   "outputs": [],
   "source": [
    "import import_ipynb\n",
    "from Codes.step11 import Variable\n",
    "\n",
    "\n",
    "class Function:\n",
    "    def __call__(self, inputs):\n",
    "        xs=[x.data for x in inputs]\n",
    "        ys=self.forward(xs)\n",
    "        outputs=[Variable(as_array(y)) for y in ys]\n",
    "        \n",
    "        for output in outputs:\n",
    "            output.set_creator(self)\n",
    "        self.inputs=inputs\n",
    "        self.outputs=outputs\n",
    "        return outputs\n",
    "    \n",
    "    def forward(self, xs):\n",
    "        raise NotImplementedError()\n",
    "    def backward(self, gys):\n",
    "        raise NotImplementedError()\n",
    "    \n",
    "\n",
    "    "
   ]
  },
  {
   "cell_type": "markdown",
   "id": "b1723902",
   "metadata": {},
   "source": [
    "## 11.2 Implementing Add Class"
   ]
  },
  {
   "cell_type": "code",
   "execution_count": 40,
   "id": "c4f65f63",
   "metadata": {},
   "outputs": [],
   "source": [
    "class Add(Function):\n",
    "    def forward(self, xs):\n",
    "        x0, x1=xs\n",
    "        y=x0+x1\n",
    "        return (y,)"
   ]
  },
  {
   "cell_type": "code",
   "execution_count": 41,
   "id": "0443ab20",
   "metadata": {},
   "outputs": [
    {
     "name": "stdout",
     "output_type": "stream",
     "text": [
      "5\n"
     ]
    }
   ],
   "source": [
    "import numpy as np\n",
    "xs=[Variable(np.array(2)), Variable(np.array(3))]\n",
    "f=Add()\n",
    "ys=f(xs)\n",
    "y=ys[0]\n",
    "print(y.data)"
   ]
  },
  {
   "cell_type": "code",
   "execution_count": null,
   "id": "d9ce70e0",
   "metadata": {},
   "outputs": [],
   "source": []
  }
 ],
 "metadata": {
  "kernelspec": {
   "display_name": "Python 3 (ipykernel)",
   "language": "python",
   "name": "python3"
  },
  "language_info": {
   "codemirror_mode": {
    "name": "ipython",
    "version": 3
   },
   "file_extension": ".py",
   "mimetype": "text/x-python",
   "name": "python",
   "nbconvert_exporter": "python",
   "pygments_lexer": "ipython3",
   "version": "3.10.1"
  }
 },
 "nbformat": 4,
 "nbformat_minor": 5
}
