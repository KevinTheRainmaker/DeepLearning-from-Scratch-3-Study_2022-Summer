{
 "cells": [
  {
   "cell_type": "code",
   "execution_count": 1,
   "id": "b6877e8f",
   "metadata": {},
   "outputs": [],
   "source": [
    "def _dot_var(v, verbose=False): # underbar in the function name indicates that the function is only used locally(inside another function)\n",
    "    dot_var='{} [label=\"{}\", color=orange, style=filled]\\n'\n",
    "    \n",
    "    name='' if v.name is None else v.name\n",
    "    if verbose and v.data is not None:\n",
    "        if v.name is not None:\n",
    "            name+=':'\n",
    "        name+= str(v.shape)+' '+str(v.dtype)\n",
    "    return dot_var.format(id(v),name)\n",
    "            \n",
    "def _dot_func(f):\n",
    "    dot_func='{} [label=\"{}\", color=lightblue, style=filled, shape=box]\\n'\n",
    "    txt= dot_func.format(id(f), f.__class__.__name__)\n",
    "    \n",
    "    dot_edge='{}->{}\\n'\n",
    "    for x in f.inputs:\n",
    "        txt+=dot_edge.format(id(x), id(f))\n",
    "    for y in f.inputs:\n",
    "        txt+=dot_edge.format(id(x), id(f))\n",
    "        "
   ]
  },
  {
   "cell_type": "code",
   "execution_count": 5,
   "id": "afceda9e",
   "metadata": {},
   "outputs": [
    {
     "name": "stdout",
     "output_type": "stream",
     "text": [
      "4844735600 [label=\"x\", color=orange, style=filled]\n",
      "\n",
      "4844735600 [label=\"x:(2, 3) float64\", color=orange, style=filled]\n",
      "\n"
     ]
    }
   ],
   "source": [
    "from core_simple import *\n",
    "x=Variable(np.random.randn(2,3))\n",
    "x.name='x'\n",
    "print(_dot_var(x))\n",
    "print(_dot_var(x, verbose=True))"
   ]
  }
 ],
 "metadata": {
  "kernelspec": {
   "display_name": "Python 3.10.1 64-bit",
   "language": "python",
   "name": "python3101jvsc74a57bd0aee8b7b246df8f9039afb4144a1f6fd8d2ca17a180786b69acc140d282b71a49"
  },
  "language_info": {
   "codemirror_mode": {
    "name": "ipython",
    "version": 3
   },
   "file_extension": ".py",
   "mimetype": "text/x-python",
   "name": "python",
   "nbconvert_exporter": "python",
   "pygments_lexer": "ipython3",
   "version": "3.10.1"
  }
 },
 "nbformat": 4,
 "nbformat_minor": 5
}
