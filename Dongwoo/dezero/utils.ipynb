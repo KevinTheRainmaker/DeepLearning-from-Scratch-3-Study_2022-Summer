{
 "cells": [
  {
   "cell_type": "code",
   "execution_count": 1,
   "id": "518ca706",
   "metadata": {},
   "outputs": [],
   "source": [
    "def _dot_var(v, verbose=False): # underbar in the function name indicates that the function is only used locally(inside another function)\n",
    "    dot_var='{} [label=\"{}\", color=orange, style=filled]\\n'\n",
    "    \n",
    "    name='' if v.name is None else v.name\n",
    "    if verbose and v.data is not None:\n",
    "        if v.name is not None:\n",
    "            name+=':'\n",
    "        name+= str(v.shape)+' '+str(v.dtype)\n",
    "    return dot_var.format(id(v),name)\n",
    "            \n",
    "def _dot_func(f):\n",
    "    dot_func='{} [label=\"{}\", color=lightblue, style=filled, shape=box]\\n'\n",
    "    txt= dot_func.format(id(f), f.__class__.__name__)\n",
    "    \n",
    "    dot_edge='{}->{}\\n'\n",
    "    for x in f.inputs:\n",
    "        txt+=dot_edge.format(id(x), id(f))\n",
    "    for y in f.outputs:\n",
    "        txt+=dot_edge.format(id(x), id(y())) #y is weakref\n",
    "    return txt\n",
    "        "
   ]
  },
  {
   "cell_type": "code",
   "execution_count": 2,
   "id": "fb616c91",
   "metadata": {},
   "outputs": [
    {
     "name": "stdout",
     "output_type": "stream",
     "text": [
      "4365115040 [label=\"x\", color=orange, style=filled]\n",
      "\n",
      "4365115040 [label=\"x:(2, 3) float64\", color=orange, style=filled]\n",
      "\n"
     ]
    }
   ],
   "source": [
    "from core_simple import *\n",
    "x=Variable(np.random.randn(2,3))\n",
    "x.name='x'\n",
    "print(_dot_var(x))\n",
    "print(_dot_var(x, verbose=True))"
   ]
  },
  {
   "cell_type": "code",
   "execution_count": 3,
   "id": "23dab5fb",
   "metadata": {},
   "outputs": [
    {
     "ename": "TypeError",
     "evalue": "unsupported operand type(s) for +: 'Variable' and 'Variable'",
     "output_type": "error",
     "traceback": [
      "\u001b[0;31m---------------------------------------------------------------------------\u001b[0m",
      "\u001b[0;31mTypeError\u001b[0m                                 Traceback (most recent call last)",
      "Input \u001b[0;32mIn [3]\u001b[0m, in \u001b[0;36m<module>\u001b[0;34m\u001b[0m\n\u001b[1;32m      1\u001b[0m x0\u001b[38;5;241m=\u001b[39mVariable(np\u001b[38;5;241m.\u001b[39marray(\u001b[38;5;241m1.0\u001b[39m))\n\u001b[1;32m      2\u001b[0m x1\u001b[38;5;241m=\u001b[39mVariable(np\u001b[38;5;241m.\u001b[39marray(\u001b[38;5;241m1.0\u001b[39m))\n\u001b[0;32m----> 3\u001b[0m y\u001b[38;5;241m=\u001b[39m\u001b[43mx0\u001b[49m\u001b[38;5;241;43m+\u001b[39;49m\u001b[43mx1\u001b[49m\n\u001b[1;32m      4\u001b[0m txt\u001b[38;5;241m=\u001b[39m_dot_func(y\u001b[38;5;241m.\u001b[39mcreator)\n\u001b[1;32m      5\u001b[0m \u001b[38;5;28mprint\u001b[39m(txt)\n",
      "\u001b[0;31mTypeError\u001b[0m: unsupported operand type(s) for +: 'Variable' and 'Variable'"
     ]
    }
   ],
   "source": [
    "x0=Variable(np.array(1.0))\n",
    "x1=Variable(np.array(1.0))\n",
    "y=x0+x1\n",
    "txt=_dot_func(y.creator)\n",
    "print(txt)"
   ]
  },
  {
   "cell_type": "code",
   "execution_count": null,
   "id": "4577cbf8",
   "metadata": {},
   "outputs": [],
   "source": []
  }
 ],
 "metadata": {
  "kernelspec": {
   "display_name": "Python 3.10.1 64-bit",
   "language": "python",
   "name": "python3101jvsc74a57bd0aee8b7b246df8f9039afb4144a1f6fd8d2ca17a180786b69acc140d282b71a49"
  },
  "language_info": {
   "codemirror_mode": {
    "name": "ipython",
    "version": 3
   },
   "file_extension": ".py",
   "mimetype": "text/x-python",
   "name": "python",
   "nbconvert_exporter": "python",
   "pygments_lexer": "ipython3",
   "version": "3.10.1"
  }
 },
 "nbformat": 4,
 "nbformat_minor": 5
}
