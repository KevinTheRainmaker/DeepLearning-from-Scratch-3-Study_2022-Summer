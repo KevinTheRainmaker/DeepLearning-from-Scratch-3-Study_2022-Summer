{
 "cells": [
  {
   "cell_type": "markdown",
   "metadata": {},
   "source": [
    "## Step19: 변수 사용성 개선"
   ]
  },
  {
   "cell_type": "markdown",
   "metadata": {},
   "source": [
    "이번 단계에서는 Variable 클래스를 더욱 쉽게 사용할 수 있도록 해보겠다."
   ]
  },
  {
   "cell_type": "markdown",
   "metadata": {},
   "source": [
    "### 19.1 변수 이름 지정"
   ]
  },
  {
   "cell_type": "markdown",
   "metadata": {},
   "source": [
    "기존 Variable 클래스는 변수에 별도 이름을 지정하지 못하고 다른 변수에 할당하는 식으로 사용했다.\n",
    "\n",
    "하지만 앞으로 우리는 수많은 변수를 처리하게 될 것이고, 이를 위해서는 각 변수를 효과적으로 구분할 수 있어야 한다.\n",
    "\n",
    "따라서 다음과 같이 Variable 클래스에 name이라는 인스턴스 변수를 추가해보겠다."
   ]
  },
  {
   "cell_type": "markdown",
   "metadata": {},
   "source": [
    "```python\n",
    "class Variable:\n",
    "    def __init__(self, data, name=None):\n",
    "        if data is not None:\n",
    "            if not isinstance(data, np.ndarray):\n",
    "                raise TypeError(f'{type(data)} type is not supported.')\n",
    "\n",
    "        self.data = data\n",
    "        self.name = name # name 인스턴스 변수 추가\n",
    "        self.grad = None\n",
    "        self.creator = None\n",
    "        self.generation = 0\n",
    "```"
   ]
  },
  {
   "cell_type": "markdown",
   "metadata": {},
   "source": [
    "\\_\\_init__ 메서드에 초기화 인수 name=None을 추가하고, 그 값을 새로운 인스턴스 변수 name에 설정해 주었다. name의 default 값이 None이므로 별도로 설정해주지 않으면 해당 변수의 이름은 None이 된다."
   ]
  },
  {
   "cell_type": "markdown",
   "metadata": {},
   "source": [
    "### 19.2 ndarray 인스턴스 변수"
   ]
  },
  {
   "cell_type": "markdown",
   "metadata": {},
   "source": [
    "Variable은 데이터를 담는 역할을 한다. 그러나 사용하는 사람 입장에서는 그 안에 담겨있는 데이터가 중요하므로, Variable이 데이터처럼 보이게 하는 장치를 추가하겠다."
   ]
  },
  {
   "cell_type": "markdown",
   "metadata": {},
   "source": [
    "넘파이의 ndarray 인스턴스에는 다차원 배열용 인스턴스 변수가 몇 가지 제공된다. 이 중 대표적인 것이 shape 인스턴스 변수로, 다차원 배열의 형상을 알려준다."
   ]
  },
  {
   "cell_type": "markdown",
   "metadata": {},
   "source": [
    "```python\n",
    "import numpy as np\n",
    "x = np.array([[1,2,3],[4,5,6]])\n",
    "print(x.shape)\n",
    "```\n",
    "\\> (2, 3)"
   ]
  },
  {
   "cell_type": "markdown",
   "metadata": {},
   "source": [
    "위 작업을 Variable 인스턴스에서도 바로 수행할 수 있도록 해보자."
   ]
  },
  {
   "cell_type": "markdown",
   "metadata": {},
   "source": [
    "```python\n",
    "class Variable:\n",
    "    ...\n",
    "    @property\n",
    "    def shape(self):\n",
    "        return self.data.shape\n",
    "```"
   ]
  },
  {
   "cell_type": "markdown",
   "metadata": {},
   "source": [
    "shape라는 메서드를 추가한 후 데이터의 shape를 반환하도록 하였다. 이때 @property 데코레이터를 이용하여 shape 메서드를 인스턴스 변수처럼 사용할 수 있게 한 점이다."
   ]
  },
  {
   "cell_type": "markdown",
   "metadata": {},
   "source": [
    "```python\n",
    "x = Variable(np.array([[1,2,3],[4,5,6]]))\n",
    "print(x.shape) # @property 덕에 x.shape() 대신 x.shape로 호출 가능\n",
    "```\n",
    "\\> (2, 3)"
   ]
  },
  {
   "cell_type": "markdown",
   "metadata": {},
   "source": [
    "이와 같이 메서드 호출이 아닌 인스턴스 변수로 데이터의 형상을 얻을 수 있다. 같은 방법으로 ndarray의 다른 인스턴스 변수들을 Variable에 추가할 수 있다."
   ]
  },
  {
   "cell_type": "markdown",
   "metadata": {},
   "source": [
    "```python\n",
    "class Variable:\n",
    "    ...\n",
    "    @property\n",
    "    def ndim(self):\n",
    "        return self.data.ndim\n",
    "    \n",
    "    @property\n",
    "    def size(self):\n",
    "        return self.data.size\n",
    "    \n",
    "    @property\n",
    "    def dtype(self):\n",
    "        return self.data.dtype\n",
    "```"
   ]
  },
  {
   "cell_type": "markdown",
   "metadata": {},
   "source": [
    "### 19.3 len 함수와 print 함수"
   ]
  },
  {
   "cell_type": "markdown",
   "metadata": {},
   "source": [
    "이어서 Variable 클래스를 더 확장하여 파이썬 len 함수와도 함께 사용할 수 있도록 하겠다."
   ]
  },
  {
   "cell_type": "markdown",
   "metadata": {},
   "source": [
    "len 함수는 객체 수를 알려주는 파이썬 표준 함수로, 그 안에 포함된 원소 수를 반환한다. ndarray 인스턴스라면 첫 번째 차원의 원소 수를 반환한다."
   ]
  },
  {
   "cell_type": "markdown",
   "metadata": {},
   "source": [
    "```python\n",
    "class Variable:\n",
    "    ...\n",
    "    def __len__(self):\n",
    "        return len(self.data)\n",
    "```"
   ]
  },
  {
   "cell_type": "markdown",
   "metadata": {},
   "source": [
    "이와 같이 \\_\\_len__이라는 특수 메서드를 구현하면 Variable 인스턴스에 대해서도 len 함수를 사용할 수 있게 된다. "
   ]
  },
  {
   "cell_type": "markdown",
   "metadata": {},
   "source": [
    "이번엔 Variable의 내용을 쉽게 확인할 수 있는 print 기능을 추가하자."
   ]
  },
  {
   "cell_type": "markdown",
   "metadata": {},
   "source": [
    "```python\n",
    "class Variable:\n",
    "    ...\n",
    "    def __len__(self):\n",
    "        return len(self.data)\n",
    "    \n",
    "    def __repr__(self):\n",
    "        if self.data is None:\n",
    "            return 'variable(None)'\n",
    "        p = str(self.data).replace('\\n', '\\n' + ' '*9)\n",
    "        return 'variable(' + p + ')'\n",
    "```"
   ]
  },
  {
   "cell_type": "markdown",
   "metadata": {},
   "source": [
    "위처럼 \\_\\_repr__ 메서드를 재정의하면 print 함수의 출력 형태를 임의로 정의할 수 있다."
   ]
  }
 ],
 "metadata": {
  "kernelspec": {
   "display_name": "Python 3.9.12 64-bit",
   "language": "python",
   "name": "python3"
  },
  "language_info": {
   "name": "python",
   "version": "3.9.12"
  },
  "orig_nbformat": 4,
  "vscode": {
   "interpreter": {
    "hash": "b0fa6594d8f4cbf19f97940f81e996739fb7646882a419484c72d19e05852a7e"
   }
  }
 },
 "nbformat": 4,
 "nbformat_minor": 2
}
