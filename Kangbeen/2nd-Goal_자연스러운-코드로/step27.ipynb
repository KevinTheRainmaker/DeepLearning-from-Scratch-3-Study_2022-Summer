{
 "cells": [
  {
   "cell_type": "markdown",
   "metadata": {},
   "source": [
    "## Step 27: 테일러 급수 미분"
   ]
  },
  {
   "cell_type": "markdown",
   "metadata": {},
   "source": [
    "sin 함수의 미분을 테일러 급수를 이용해 계산해보자."
   ]
  },
  {
   "cell_type": "markdown",
   "metadata": {},
   "source": [
    "### 27.1 sin 함수 구현"
   ]
  },
  {
   "cell_type": "markdown",
   "metadata": {},
   "source": [
    "$$\n",
    "y = sin(x)\n",
    "$$\n",
    "$$\n",
    "{\\delta y \\over \\delta x} = cos(x)\n",
    "$$"
   ]
  },
  {
   "cell_type": "markdown",
   "metadata": {},
   "source": [
    "```python\n",
    "# step27.py\n",
    "import numpy as np\n",
    "from dezero import Function\n",
    "\n",
    "\n",
    "class Sin(Function):\n",
    "    def forward(self, x):\n",
    "        y = np.sin(x)\n",
    "        return y\n",
    "\n",
    "    def backward(self, gy):\n",
    "        x = self.inputs[0].data\n",
    "        gx = gy * np.cos(x)\n",
    "        return gx\n",
    "\n",
    "\n",
    "def sin(x):\n",
    "    return Sin()(x)\n",
    "```"
   ]
  },
  {
   "cell_type": "markdown",
   "metadata": {},
   "source": [
    "```python\n",
    "from dezero import Variable\n",
    "\n",
    "x = Variable(np.array(np.pi/4))\n",
    "y = sin(x)\n",
    "y.backward()\n",
    "\n",
    "print(y.data)\n",
    "print(x.grad)\n",
    "```"
   ]
  },
  {
   "cell_type": "markdown",
   "metadata": {},
   "source": [
    "\\> 0.7071067811865475\n",
    "\n",
    "\\> 0.7071067811865476"
   ]
  },
  {
   "cell_type": "markdown",
   "metadata": {},
   "source": [
    "### 27.2 테일러 급수 이론"
   ]
  },
  {
   "cell_type": "markdown",
   "metadata": {},
   "source": [
    "테일러 급수: 어떤 함수를 다항식으로 근사하는 방법"
   ]
  },
  {
   "cell_type": "markdown",
   "metadata": {},
   "source": [
    "점 $a$에서 $f(x)$의 테일러 급수 식은 다음과 같다.\n",
    "$$\n",
    "f(x) = f(a) + f'(a)(x-a) + {1\\over 2!}f''(a)(x-a)^2 + {1\\over 3!}f'''(a)(x-a)^3 + ...\n",
    "$$"
   ]
  },
  {
   "cell_type": "markdown",
   "metadata": {},
   "source": [
    "$a=0$일 때의 테일러 급수를 매클로린 전개(Maclaurin's series)라고 한다.\n",
    "$$\n",
    "f(x) = f(0) + f'(0)x + {1\\over 2!}f''(0)x^2 + {1\\over 3!}f'''(0)x^3 + ...\n",
    "$$"
   ]
  },
  {
   "cell_type": "markdown",
   "metadata": {},
   "source": [
    "sin(0) = 0, cos(0) = 1이므로 sin(x)에 매클로린 전개를 적용하면 다음과 같은 식을 도출할 수 있다.\n",
    "$$\n",
    "sin(x) = \\Sigma^\\infty_{i=0}(-1)^i{x^{2i+1}\\over(2i+1)^2!}\n",
    "$$"
   ]
  },
  {
   "cell_type": "markdown",
   "metadata": {},
   "source": [
    "### 27.3 테일러 급수 구현"
   ]
  },
  {
   "cell_type": "markdown",
   "metadata": {},
   "source": [
    "```python\n",
    "import math\n",
    "\n",
    "def my_sin(x, threshold=0.0001):\n",
    "    y = 0\n",
    "    for i in range(100_000):\n",
    "        c = (-1) ** i / math.factorial(2 * i + 1)\n",
    "        t = c * x ** (2 * i + 1)\n",
    "        y = y + t\n",
    "\n",
    "        if abs(t.data) < threshold:\n",
    "            break\n",
    "    return y\n",
    "```"
   ]
  },
  {
   "cell_type": "markdown",
   "metadata": {},
   "source": [
    "threshold가 작을수록 정밀도가 높아진다."
   ]
  },
  {
   "cell_type": "markdown",
   "metadata": {},
   "source": [
    "```python\n",
    "x = Variable(np.array(np.pi/4))\n",
    "y = my_sin(x)\n",
    "y.backward()\n",
    "\n",
    "print(y.data)\n",
    "print(x.grad)\n",
    "```"
   ]
  },
  {
   "cell_type": "markdown",
   "metadata": {},
   "source": [
    "### 27.4 계산 그래프 시각화"
   ]
  },
  {
   "cell_type": "markdown",
   "metadata": {},
   "source": [
    "```python\n",
    "x = Variable(np.array(np.pi/4))\n",
    "y = my_sin(x)\n",
    "y.backward()\n",
    "\n",
    "x.name = 'x'\n",
    "y.name = 'y'\n",
    "plot_dot_graph(y, verbose=False, to_file='./Kangbeen/steps/step27-1.png')\n",
    "```"
   ]
  },
  {
   "cell_type": "markdown",
   "metadata": {},
   "source": [
    "#### threshold=0.0001일때\n",
    "![step27-1](https://user-images.githubusercontent.com/76294398/184317924-adc8c109-d93a-4628-ad61-8e78e550d5fd.png)\n"
   ]
  },
  {
   "cell_type": "markdown",
   "metadata": {},
   "source": [
    "#### threshold=1e-150일때\n",
    "![step27-2](https://user-images.githubusercontent.com/76294398/184318200-06087a0f-1d15-4563-9b91-c9bbfd3b4003.png)"
   ]
  }
 ],
 "metadata": {
  "kernelspec": {
   "display_name": "Python 3.9.12 64-bit",
   "language": "python",
   "name": "python3"
  },
  "language_info": {
   "name": "python",
   "version": "3.9.12"
  },
  "orig_nbformat": 4,
  "vscode": {
   "interpreter": {
    "hash": "b0fa6594d8f4cbf19f97940f81e996739fb7646882a419484c72d19e05852a7e"
   }
  }
 },
 "nbformat": 4,
 "nbformat_minor": 2
}
