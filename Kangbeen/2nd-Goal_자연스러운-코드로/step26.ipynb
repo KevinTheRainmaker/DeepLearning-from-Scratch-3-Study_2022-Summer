{
 "cells": [
  {
   "cell_type": "markdown",
   "metadata": {},
   "source": [
    "## Step 26: 계산 그래프 시각화 (2)"
   ]
  },
  {
   "cell_type": "markdown",
   "metadata": {},
   "source": [
    "DeZero에서 실행한 계산을 DOT 언어로 변환하는 기능을 구현해보자."
   ]
  },
  {
   "cell_type": "markdown",
   "metadata": {},
   "source": [
    "### 26.2 계산 그래프에서 DOT 언어로 변환하기"
   ]
  },
  {
   "cell_type": "markdown",
   "metadata": {},
   "source": [
    "```python\n",
    "# dezero/utils.py: var to dot\n",
    "def _dot_var(v, verbose=False):  # 로컬에서만 사용할 함수: 외부에서 부를 수 없다\n",
    "    dot_var = '{} [label=\"{}\", color=orange, style=filled]\\n'  # 변수 노드 프레임\n",
    "\n",
    "    name = '' if v.name is None else v.name\n",
    "\n",
    "    if verbose and v.data is not None:\n",
    "        if v.name is not None:\n",
    "            name += ': '\n",
    "        name += str(v.shape) + ' ' + str(v.dtype)\n",
    "    return dot_var.format(id(v), name)\n",
    "```\n"
   ]
  },
  {
   "cell_type": "markdown",
   "metadata": {},
   "source": [
    "사용 예시)\n",
    "```python\n",
    "x = Variable(np.random.randn(2,3))\n",
    "x.name = 'x'\n",
    "\n",
    "print(_dot_var(x))\n",
    "print(_dot_var(x, verbose=True))\n",
    "```"
   ]
  },
  {
   "cell_type": "markdown",
   "metadata": {},
   "source": [
    "변수 노드의 ID는 파이썬 내장함수 id()에 의해 고유하게 지정된다.\n",
    "\n",
    "verbose=True로 설정 시 name에 ndarray 인스턴스 shape와 type이 추가된다."
   ]
  },
  {
   "cell_type": "markdown",
   "metadata": {},
   "source": [
    "```python\n",
    "# dezero/utils.py: func to dot\n",
    "def _dot_func(f):\n",
    "    dot_func = '{} [label=\"{}\", color=lightblue, style=filled, shape=box]\\n'\n",
    "    txt = dot_func.format(id(f), f.__class__.__name__)  # 계산 함수 클래스명을 노드 name으로\n",
    "\n",
    "    dot_edge = '{} -> {}\\n'\n",
    "    for x in f.inputs:\n",
    "        txt += dot_edge.format(id(x), id(f))\n",
    "    for y in f.outputs:\n",
    "        txt += dot_edge.format(id(x), id(y()))  # y는 weakref\n",
    "    return txt\n",
    "```\n"
   ]
  },
  {
   "cell_type": "markdown",
   "metadata": {},
   "source": [
    "사용 예시)\n",
    "```python\n",
    "x0 = Variable(np.random.randn(1.0))\n",
    "x1 = Variable(np.random.randn(1.0))\n",
    "y = x0 + x1\n",
    "txt = _dot_func(y.creator)\n",
    "\n",
    "print(txt)\n",
    "```"
   ]
  },
  {
   "cell_type": "markdown",
   "metadata": {},
   "source": [
    "최종은 다음과 같다."
   ]
  },
  {
   "cell_type": "markdown",
   "metadata": {},
   "source": [
    "```python\n",
    "def get_dot_graph(output, verbose=True):\n",
    "    txt = ''\n",
    "    funcs = []\n",
    "    seen_set = set()\n",
    "\n",
    "    def add_func(f):\n",
    "        if f not in seen_set:\n",
    "            funcs.append(f)\n",
    "            funcs.sort(key=lambda x: x.generation)\n",
    "            seen_set.add(f)\n",
    "\n",
    "        add_func(output.creator)\n",
    "        txt += _dot_var(output, verbose)\n",
    "\n",
    "        while funcs:\n",
    "            func = funcs.pop()\n",
    "            txt += _dot_func(func)\n",
    "            for x in func.inputs:\n",
    "                txt += _dot_var(x, verbose)\n",
    "\n",
    "                if x.creator is not None:\n",
    "                    add_func(x.creator)\n",
    "        return 'digraph g{\\n' + txt + '}'\n",
    "```"
   ]
  },
  {
   "cell_type": "markdown",
   "metadata": {},
   "source": [
    "### 26.3 이미지 변환까지 한 번에"
   ]
  },
  {
   "cell_type": "markdown",
   "metadata": {},
   "source": [
    "위 함수로 계산 그래프를 DOT 언어로 표현하는 것까지 완료했으나, 지금은 이를 실행 후 따로 터미널에서 이미지 변환을 해주어야 한다. 따라서 이 과정까지 한 번에 할 수 있도록 하겠다."
   ]
  },
  {
   "cell_type": "markdown",
   "metadata": {},
   "source": [
    "```python\n",
    "def plot_dot_graph(output, verbose=True, to_file='graph.png'):\n",
    "    dot_graph = get_dot_graph(output, verbose)\n",
    "\n",
    "    # dot 데이터를 파일에 저장\n",
    "    tmp_dir = os.path.join(os.path.expanduser('~'), '.dezero')\n",
    "    if not os.path.exists(tmp_dir):\n",
    "        os.mkdir(tmp_dir)\n",
    "    graph_path = os.path.join(tmp_dir, 'tmp_graph.dot')\n",
    "\n",
    "    with open(graph_path, 'w') as f:\n",
    "        f.write(dot_graph)\n",
    "\n",
    "    # dot 명령 호출\n",
    "    extension = os.path.splitext(to_file)[1][1:]  # 확장자\n",
    "    cmd = f'dot {graph_path} -T {extension} -o {to_file}'\n",
    "    subprocess.run(cmd, shell=True)\n",
    "```"
   ]
  },
  {
   "cell_type": "markdown",
   "metadata": {},
   "source": [
    "### 26.4 동작 확인"
   ]
  },
  {
   "cell_type": "markdown",
   "metadata": {},
   "source": [
    "```python\n",
    "import numpy as np\n",
    "\n",
    "from dezero import Variable\n",
    "from dezero.utils import plot_dot_graph\n",
    "from dezero.utils import get_dot_graph\n",
    "\n",
    "from step24 import goldstein\n",
    "\n",
    "x = Variable(np.array(1.0))\n",
    "y = Variable(np.array(1.0))\n",
    "z = goldstein(x, y)\n",
    "z.backward()\n",
    "\n",
    "# print(get_dot_graph(z))\n",
    "\n",
    "x.name = 'x'\n",
    "y.name = 'y'\n",
    "z.name = 'z'\n",
    "plot_dot_graph(z, verbose=False,\n",
    "               to_file='./Kangbeen/steps/step26.png')\n",
    "\n",
    "```"
   ]
  },
  {
   "cell_type": "markdown",
   "metadata": {},
   "source": [
    "![step26](https://user-images.githubusercontent.com/76294398/183808954-efe75bca-08e8-4608-9ab6-6752d8b35751.png)"
   ]
  }
 ],
 "metadata": {
  "kernelspec": {
   "display_name": "Python 3.9.12 64-bit",
   "language": "python",
   "name": "python3"
  },
  "language_info": {
   "name": "python",
   "version": "3.9.12"
  },
  "orig_nbformat": 4,
  "vscode": {
   "interpreter": {
    "hash": "b0fa6594d8f4cbf19f97940f81e996739fb7646882a419484c72d19e05852a7e"
   }
  }
 },
 "nbformat": 4,
 "nbformat_minor": 2
}
