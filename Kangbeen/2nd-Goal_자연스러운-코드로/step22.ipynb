{
 "cells": [
  {
   "cell_type": "markdown",
   "metadata": {},
   "source": [
    "## Step 22: 연산자 오버로드 (3)"
   ]
  },
  {
   "cell_type": "markdown",
   "metadata": {},
   "source": [
    "앞서 우리는 연산자 +와 *에 대해서 오버로드를 진행했다. 이번에는 나머지에 대해서도 구현하도록 하겠다."
   ]
  },
  {
   "cell_type": "markdown",
   "metadata": {},
   "source": [
    "1. Function 클래스 상속하여 함수 클래스 구현\n",
    "2. 파이썬 함수로 사용할 수 있도록 변환\n",
    "3. Variable 클래스의 연산자 오버로드"
   ]
  },
  {
   "cell_type": "markdown",
   "metadata": {},
   "source": [
    "### 22.1 음수 (부호 변환)"
   ]
  },
  {
   "cell_type": "markdown",
   "metadata": {},
   "source": [
    "\\_\\_neg__(self): 부호 변환 단항 연산자"
   ]
  },
  {
   "cell_type": "markdown",
   "metadata": {},
   "source": [
    "$$\n",
    "y = -x\n",
    "$$\n",
    "$$\n",
    "{\\delta y \\over \\delta x} = -1\n",
    "$$"
   ]
  },
  {
   "cell_type": "markdown",
   "metadata": {},
   "source": [
    "```python\n",
    "# 1\n",
    "class Neg(Function):\n",
    "    def forward(self, x):\n",
    "        return -x\n",
    "    \n",
    "    def backward(self, gy):\n",
    "        return -gy\n",
    "\n",
    "# 2\n",
    "def neg(x):\n",
    "    return Neg()(x)\n",
    "\n",
    "# 3\n",
    "Variable.__neg__ = neg\n",
    "```"
   ]
  },
  {
   "cell_type": "markdown",
   "metadata": {},
   "source": [
    "### 22.2 뺄셈"
   ]
  },
  {
   "cell_type": "markdown",
   "metadata": {},
   "source": [
    "\\_\\_sub__(self, other) / \\_\\_rsub__(self, other): 첫 번째 인수 값에서 두 번째 인수 값을 빼는 이항 연산자"
   ]
  },
  {
   "cell_type": "markdown",
   "metadata": {},
   "source": [
    "$$\n",
    "y = x_0 - x_1\n",
    "$$\n",
    "$$\n",
    "{\\delta y \\over \\delta x_0} = 1\n",
    "$$\n",
    "$$\n",
    "{\\delta y \\over \\delta x_1} = -1\n",
    "$$"
   ]
  },
  {
   "cell_type": "markdown",
   "metadata": {},
   "source": [
    "```python\n",
    "class Sub(Function):\n",
    "    def forward(self, x0, x1):\n",
    "        y = x0 - x1\n",
    "        return y\n",
    "    \n",
    "    def backward(self, gy):\n",
    "        return gy, -gy\n",
    "\n",
    "def sub(x0, x1):\n",
    "    x1 = as_array(x1)\n",
    "    return Sub()(x0, x1)\n",
    "\n",
    "def rsub(x0, x1):\n",
    "    x1 = as_array(x1)\n",
    "    return Sub()(x1, x0)\n",
    "\n",
    "Variable.__sub__ = sub\n",
    "Variable.__rsub__ = rsub\n",
    "```"
   ]
  },
  {
   "cell_type": "markdown",
   "metadata": {},
   "source": [
    "### 22.3 나눗셈"
   ]
  },
  {
   "cell_type": "markdown",
   "metadata": {},
   "source": [
    "\\_\\_truediv__(self, other) / \\_\\_rtruediv__(self, other): 첫 번째 인수 값을 두 번째 인수 값으로 나누는 이항 연산자"
   ]
  },
  {
   "cell_type": "markdown",
   "metadata": {},
   "source": [
    "$$\n",
    "y = x_0 / x_1\n",
    "$$\n",
    "$$\n",
    "{\\delta y \\over \\delta x_0} = 1/x_1\n",
    "$$\n",
    "$$\n",
    "{\\delta y \\over \\delta x_1} = -x_0/(x_1)^2\n",
    "$$\n"
   ]
  },
  {
   "cell_type": "markdown",
   "metadata": {},
   "source": [
    "```python\n",
    "class Div(Function):\n",
    "    def forward(self, x0, x1):\n",
    "        y = x0 / x1\n",
    "        return y\n",
    "    \n",
    "    def backward(self, gy):\n",
    "        x0, x1 = self.inputs[0].data, self.inputs[1].data\n",
    "        gx0 = gy / x1\n",
    "        gx1 = gy * (-x0 / x1 ** 2)\n",
    "        return gx0, gx1\n",
    "\n",
    "def div(x0, x1):\n",
    "    x1 = as_array(x1)\n",
    "    return Div()(x0, x1)\n",
    "\n",
    "def rdiv(x0, x1):\n",
    "    x1 = as_array(x1)\n",
    "    return Div()(x1, x0)\n",
    "\n",
    "Variable.__truediv__ = div\n",
    "Variable.__rtruediv__ = rdiv\n",
    "```"
   ]
  },
  {
   "cell_type": "markdown",
   "metadata": {},
   "source": [
    "### 22.4 거듭제곱"
   ]
  },
  {
   "cell_type": "markdown",
   "metadata": {},
   "source": [
    "\\_\\_pow__: 첫 번째 인수를 두 번째 인수만큼 거듭 곱하는 이항 연산자"
   ]
  },
  {
   "cell_type": "markdown",
   "metadata": {},
   "source": [
    "$$\n",
    "y = x^c\n",
    "$$\n",
    "$$\n",
    "{\\delta y \\over \\delta x_0} = cx^{c-1}\n",
    "$$\n",
    "\n",
    "\\* ${\\delta y \\over \\delta x_c}$는 거의 사용되지 않으므로 생략"
   ]
  },
  {
   "cell_type": "markdown",
   "metadata": {},
   "source": [
    "```python\n",
    "class Pow(Function):\n",
    "    def __init__(self, c):\n",
    "        self.c = c\n",
    "    \n",
    "    def forward(self, x):\n",
    "        y = x ** self.c\n",
    "        return y\n",
    "\n",
    "    def backward(self, gy):\n",
    "        x = self.inputs[0].data\n",
    "        c = self.c\n",
    "        gx = c * x ** (c-1) * gy\n",
    "        return gx\n",
    "\n",
    "def pow(x, c):\n",
    "    return Pow(c)(x)\n",
    "\n",
    "Variable.__pow__ = pow\n",
    "```"
   ]
  }
 ],
 "metadata": {
  "kernelspec": {
   "display_name": "Python 3.9.12 64-bit",
   "language": "python",
   "name": "python3"
  },
  "language_info": {
   "codemirror_mode": {
    "name": "ipython",
    "version": 3
   },
   "file_extension": ".py",
   "mimetype": "text/x-python",
   "name": "python",
   "nbconvert_exporter": "python",
   "pygments_lexer": "ipython3",
   "version": "3.9.12"
  },
  "orig_nbformat": 4,
  "vscode": {
   "interpreter": {
    "hash": "b0fa6594d8f4cbf19f97940f81e996739fb7646882a419484c72d19e05852a7e"
   }
  }
 },
 "nbformat": 4,
 "nbformat_minor": 2
}
