{
 "cells": [
  {
   "cell_type": "markdown",
   "metadata": {},
   "source": [
    "## Step 23: 패키지로 정리"
   ]
  },
  {
   "cell_type": "markdown",
   "metadata": {},
   "source": [
    "- 모듈: 다른 파이썬 프로그램에서 import하여 사용할 것을 가정하고 만들어진 파이썬 파일\n",
    "- 패키지: 여러 모듈을 묶어 하나의 directory로 관리하는 것\n",
    "- 라이브러리: 여러 패키지를 묶은 것. 하나 이상의 디렉토리를 가짐. 패키지 $\\subseteq$ 라이브러리"
   ]
  },
  {
   "cell_type": "markdown",
   "metadata": {},
   "source": [
    "### 23.1 파일 구성"
   ]
  },
  {
   "cell_type": "markdown",
   "metadata": {},
   "source": [
    "- dezero\n",
    "    - \\_\\_init__.py\n",
    "    - core_simple.py\n",
    "    ...\n",
    "    - utils.py\n",
    "\n",
    "- steps\n",
    "    - step01.py\n",
    "    ...\n",
    "    - step60.py"
   ]
  },
  {
   "cell_type": "markdown",
   "metadata": {},
   "source": [
    "### 23.2 코어 클래스로 옮기기"
   ]
  },
  {
   "cell_type": "markdown",
   "metadata": {},
   "source": [
    "1) 클래스 복사\n",
    "- Config\n",
    "- Variable\n",
    "- Function\n",
    "- Add(Function)\n",
    "- Mul(Function)\n",
    "- Neg(Function)\n",
    "- Sub(Function)\n",
    "- Div(Function)\n",
    "- Pow(Function)"
   ]
  },
  {
   "cell_type": "markdown",
   "metadata": {},
   "source": [
    "2) 함수 복사\n",
    "- using_config\n",
    "- no_grad\n",
    "- as_array\n",
    "- as_variable\n",
    "- add\n",
    "- mul\n",
    "- neg\n",
    "- sub\n",
    "- rsub\n",
    "- div\n",
    "- rdiv\n",
    "- pow"
   ]
  },
  {
   "cell_type": "markdown",
   "metadata": {},
   "source": [
    "### 23.3 연산자 오버로드"
   ]
  },
  {
   "cell_type": "markdown",
   "metadata": {},
   "source": [
    "Variable의 연산자들을 오버로드해주는 함수 setup_variable\n",
    "\n",
    "모듈 임포트 시 가장 먼저 실행되는 파일인 \\_\\_init__.py에 호출해준다."
   ]
  },
  {
   "cell_type": "markdown",
   "metadata": {},
   "source": [
    "```python\n",
    "def setup_variable():\n",
    "    Variable.__mul__ = mul\n",
    "    Variable.__rmul__ = mul\n",
    "    Variable.__add__ = add\n",
    "    Variable.__radd__ = add\n",
    "    Variable.__neg__ = neg\n",
    "    Variable.__sub__ = sub\n",
    "    Variable.__rsub__ = rsub\n",
    "    Variable.__truediv__ = div\n",
    "    Variable.__rtruediv__ = rdiv\n",
    "    Variable.__pow__ = pow\n",
    "```"
   ]
  },
  {
   "cell_type": "markdown",
   "metadata": {},
   "source": [
    "```python\n",
    "# __init__.py\n",
    "from dezero.core_simple import Variable\n",
    "from dezero.core_simple import Function\n",
    "from dezero.core_simple import using_config\n",
    "from dezero.core_simple import no_grad\n",
    "from dezero.core_simple import as_array\n",
    "from dezero.core_simple import as_variable\n",
    "from dezero.core_simple import setup_variable\n",
    "\n",
    "setup_variable()\n",
    "```\n"
   ]
  },
  {
   "cell_type": "markdown",
   "metadata": {},
   "source": [
    "이로써 dezero 패키지에서 다양한 클래스를 바로 import 할 수 있다.\n",
    "\n",
    "```python\n",
    "from dezero.core_simple import Variable\n",
    "```\n",
    "$\\rightarrow$\n",
    "```python\n",
    "from dezero import Variable\n",
    "```"
   ]
  },
  {
   "cell_type": "markdown",
   "metadata": {},
   "source": [
    "### 23.4 실제 \\_\\_init__.py 파일"
   ]
  },
  {
   "cell_type": "markdown",
   "metadata": {},
   "source": [
    "33단계 이후 core_simple을 core로 바꾸고자 한다. 따라서 이를 설정할 수 있도록 해보겠다."
   ]
  },
  {
   "cell_type": "markdown",
   "metadata": {},
   "source": [
    "```python\n",
    "# __init__.py\n",
    "is_simple_core = True\n",
    "\n",
    "if is_simple_core:\n",
    "    from dezero.core_simple import Variable\n",
    "    from dezero.core_simple import Function\n",
    "    from dezero.core_simple import using_config\n",
    "    from dezero.core_simple import no_grad\n",
    "    from dezero.core_simple import as_array\n",
    "    from dezero.core_simple import as_variable\n",
    "    from dezero.core_simple import setup_variable\n",
    "else:\n",
    "    from dezero.core import Variable\n",
    "    from dezero.core import Function\n",
    "    from dezero.core import using_config\n",
    "    from dezero.core import no_grad\n",
    "    from dezero.core import as_array\n",
    "    from dezero.core import as_variable\n",
    "    from dezero.core import setup_variable \n",
    "\n",
    "setup_variable()\n",
    "```"
   ]
  },
  {
   "cell_type": "markdown",
   "metadata": {},
   "source": [
    "### 23.5 dezero 임포트하기"
   ]
  },
  {
   "cell_type": "markdown",
   "metadata": {},
   "source": [
    "```python\n",
    "if '__file__' in globals():\n",
    "    import os\n",
    "    import sys\n",
    "    sys.path.append(os.path.join(os.path.dirname(__file__), '..'))\n",
    "```"
   ]
  },
  {
   "cell_type": "markdown",
   "metadata": {},
   "source": [
    "위처럼 작성함으로써 상위 폴더 아래 어디서든 모듈을 불러올 수 있다."
   ]
  }
 ],
 "metadata": {
  "kernelspec": {
   "display_name": "Python 3.9.12 64-bit",
   "language": "python",
   "name": "python3"
  },
  "language_info": {
   "name": "python",
   "version": "3.9.12"
  },
  "orig_nbformat": 4,
  "vscode": {
   "interpreter": {
    "hash": "b0fa6594d8f4cbf19f97940f81e996739fb7646882a419484c72d19e05852a7e"
   }
  }
 },
 "nbformat": 4,
 "nbformat_minor": 2
}
