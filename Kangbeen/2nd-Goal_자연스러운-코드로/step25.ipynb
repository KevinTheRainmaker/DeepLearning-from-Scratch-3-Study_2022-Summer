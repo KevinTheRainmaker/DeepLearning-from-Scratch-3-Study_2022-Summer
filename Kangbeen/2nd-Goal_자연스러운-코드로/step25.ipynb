{
 "cells": [
  {
   "cell_type": "markdown",
   "metadata": {},
   "source": [
    "## Step 25: 계산 그래프 시각화(1)"
   ]
  },
  {
   "cell_type": "markdown",
   "metadata": {},
   "source": [
    "Graphviz는 DOT 언어 스크립트로 지정된 그래프 그리기를 위해 AT&T 랩스 리서치가 시작한 오픈 소스 도구 패키지이다. 응용 소프트웨어가 도구를 사용할 수 있도록 라이브러리 또한 제공한다. Graphviz는 이클립스 퍼블릭 라이선스에 의해 허가된 자유 소프트웨어이다."
   ]
  },
  {
   "cell_type": "markdown",
   "metadata": {},
   "source": [
    "### 25.1 Graphviz 설치하기"
   ]
  },
  {
   "cell_type": "markdown",
   "metadata": {},
   "source": [
    "```\n",
    "brew install graphviz\n",
    "dot -V\n",
    "```"
   ]
  },
  {
   "cell_type": "markdown",
   "metadata": {},
   "source": [
    "\\> dot - graphviz version 5.0.0 (20220707.1540)"
   ]
  },
  {
   "cell_type": "markdown",
   "metadata": {},
   "source": [
    "### 25.2 DOT 언어로 그래프 작성하기"
   ]
  },
  {
   "cell_type": "markdown",
   "metadata": {},
   "source": [
    "step25.dot을 다음과 같이 작성한다."
   ]
  },
  {
   "cell_type": "markdown",
   "metadata": {},
   "source": [
    "```dot\n",
    "digraph g{\n",
    "    x\n",
    "    y\n",
    "}\n",
    "```"
   ]
  },
  {
   "cell_type": "markdown",
   "metadata": {},
   "source": [
    "각 노드는 줄바꿈으로 구분한다."
   ]
  },
  {
   "cell_type": "markdown",
   "metadata": {},
   "source": [
    "```\n",
    "dot step25.dot -T png -o step25.png\n",
    "```"
   ]
  },
  {
   "cell_type": "markdown",
   "metadata": {},
   "source": [
    "![step25](https://user-images.githubusercontent.com/76294398/183790474-820247ed-48e8-4a71-8808-45981d32b832.png)"
   ]
  },
  {
   "cell_type": "markdown",
   "metadata": {},
   "source": [
    "### 25.3 노드에 속성 지정하기"
   ]
  },
  {
   "cell_type": "markdown",
   "metadata": {},
   "source": [
    "step25.dot을 다음과 같이 수정하면 노드에 색과 모양을 지정할 수 있다."
   ]
  },
  {
   "cell_type": "markdown",
   "metadata": {},
   "source": [
    "```\n",
    "digraph g {\n",
    "    1 [label=\"x\", color=orange, style=filled]\n",
    "    2 [label=\"y\", color=orange, style=filled]    \n",
    "    3 [label=\"Exp\", color=lightblue, style=filled, shape=box]    \n",
    "}\n",
    "```"
   ]
  },
  {
   "cell_type": "markdown",
   "metadata": {},
   "source": [
    "![step25-2](https://user-images.githubusercontent.com/76294398/183791401-a2dfebeb-062f-4d62-b829-e5bd86fc7333.png)"
   ]
  },
  {
   "cell_type": "markdown",
   "metadata": {},
   "source": [
    "변수는 오렌지색 타원, 함수는 연파랑색 사각형으로 표현했다."
   ]
  },
  {
   "cell_type": "markdown",
   "metadata": {},
   "source": [
    "### 25.4 노드 연결하기"
   ]
  },
  {
   "cell_type": "markdown",
   "metadata": {},
   "source": [
    "노드를 연결하려면 두 노드의 ID를 ->로 연결하면 된다."
   ]
  },
  {
   "cell_type": "markdown",
   "metadata": {},
   "source": [
    "```\n",
    "digraph g {\n",
    "    1 [label=\"x\", color=orange, style=filled]\n",
    "    2 [label=\"y\", color=orange, style=filled]    \n",
    "    3 [label=\"Exp\", color=lightblue, style=filled, shape=box]    \n",
    "    1 -> 3\n",
    "    3 -> 2\n",
    "}\n",
    "```"
   ]
  },
  {
   "cell_type": "markdown",
   "metadata": {},
   "source": [
    "![step25-3](https://user-images.githubusercontent.com/76294398/183791619-2ab37d3e-f4db-4417-ab3b-7fedcc39e34a.png)"
   ]
  }
 ],
 "metadata": {
  "kernelspec": {
   "display_name": "Python 3.9.12 64-bit",
   "language": "python",
   "name": "python3"
  },
  "language_info": {
   "name": "python",
   "version": "3.9.12"
  },
  "orig_nbformat": 4,
  "vscode": {
   "interpreter": {
    "hash": "b0fa6594d8f4cbf19f97940f81e996739fb7646882a419484c72d19e05852a7e"
   }
  }
 },
 "nbformat": 4,
 "nbformat_minor": 2
}
