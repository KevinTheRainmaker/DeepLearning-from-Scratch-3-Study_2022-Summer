{
 "cells": [
  {
   "cell_type": "markdown",
   "metadata": {},
   "source": [
    "## Step 3: 함수 연결"
   ]
  },
  {
   "cell_type": "markdown",
   "metadata": {},
   "source": [
    "### 3.1 Exp 함수 구현"
   ]
  },
  {
   "cell_type": "markdown",
   "metadata": {},
   "source": [
    "앞서 우리는 $y=x^2$를 계산하는 Square를 구현하였다. 이번 장에서는 $y = e^x$를 계산하는 Exp 함수를 구현하고, 여러 함수를 조합해 계산할 수 있도록 해보자."
   ]
  },
  {
   "cell_type": "markdown",
   "metadata": {},
   "source": [
    "```python\n",
    "# steps.step03.py\n",
    "class Exp(Function):\n",
    "    def forward(self, x):\n",
    "        return np.exp(x)\n",
    "```"
   ]
  },
  {
   "cell_type": "markdown",
   "metadata": {},
   "source": [
    "Square 클래스와 마찬가지로 Function 클래스를 상속해서 함수를 구현하였다. 해당 함수의 실질적 계산은 forward 메서드에서 실행되며 자세한 작동 방식은 numpy의 exp 메서드를 사용하여 구현하였다."
   ]
  },
  {
   "cell_type": "markdown",
   "metadata": {},
   "source": [
    "### 3.2 함수 연결"
   ]
  },
  {
   "cell_type": "markdown",
   "metadata": {},
   "source": [
    "Function 클래스 call 메서드는 입력과 출력이 모두 Variable 인스턴스이므로 서로 다른 함수들을 이어서 사용할 수 있다.\n",
    "\n",
    "Square 함수와 Exp 함수를 이어서 $y=(e^{x^2})^2$을 계산해보자."
   ]
  },
  {
   "cell_type": "markdown",
   "metadata": {},
   "source": [
    "```python\n",
    "# steps/step03.py\n",
    "A = Square()\n",
    "B = Exp()\n",
    "C = Square()\n",
    "\n",
    "x = Variable(np.array(0.5))\n",
    "a = A(x)\n",
    "b = B(a)\n",
    "y = C(b)\n",
    "\n",
    "print(y.data)\n",
    "```"
   ]
  },
  {
   "cell_type": "markdown",
   "metadata": {},
   "source": [
    "<img width=\"300\" alt=\"image\" src=\"https://user-images.githubusercontent.com/76294398/174428332-be357e06-9aec-4a26-b565-c5685c1113b6.png\">"
   ]
  },
  {
   "cell_type": "markdown",
   "metadata": {},
   "source": [
    "Square 함수와 Exp 함수 클래스를 불러와 각각 A, B, C 객체로 만들었고 이를 이용해 0.5에 대하여 $(e^{0.5^2})^2$을 계산하였다.\n",
    "\n",
    "앞서 언급한 것처럼 Function의 call 메서드는 인풋과 아웃풋이 모두 Variable이므로 x, a, b, y 모두 Variable 인스턴스이다."
   ]
  },
  {
   "cell_type": "markdown",
   "metadata": {},
   "source": [
    "이처럼, 확장성을 위해서는 메서드의 인풋과 아웃풋의 인스턴스를 동일하게 하는 것이 좋다."
   ]
  }
 ],
 "metadata": {
  "language_info": {
   "name": "python"
  },
  "orig_nbformat": 4
 },
 "nbformat": 4,
 "nbformat_minor": 2
}
