{
 "cells": [
  {
   "cell_type": "markdown",
   "metadata": {},
   "source": [
    "## Step 8: 재귀에서 반복문으로"
   ]
  },
  {
   "cell_type": "markdown",
   "metadata": {},
   "source": [
    "앞서 자동 미분을 구현하기 위해 우리는 Variable 클래스 내 backward 메서드에서 재귀적으로 계산을 수행하였다. 이번에는 처리 효율을 높이고 확장을 대비하기 위해 backward 메서드의 구현 방식을 반복문으로 바꿔보도록 하자."
   ]
  },
  {
   "cell_type": "markdown",
   "metadata": {},
   "source": [
    "### 8.1 현재의 Variable 클래스"
   ]
  },
  {
   "cell_type": "markdown",
   "metadata": {},
   "source": [
    "```python\n",
    "class Variable:\n",
    "   \n",
    "    ... # 생략\n",
    "\n",
    "    def backward(self):\n",
    "        f = self.creator\n",
    "        if f is not None:\n",
    "            x = f.input\n",
    "            x.grad = f.backward(self.grad)\n",
    "            x.backward()\n",
    "```"
   ]
  },
  {
   "cell_type": "markdown",
   "metadata": {},
   "source": [
    "위는 기존에 구현했던 Variable 클래스의 backward 메서드이다. 여기서 걸리는 부분은, backward 메서드에서 backward 메서드를 호출하는 과정이 계속된다는 점이다. 이는 계산 효율도 좋지 않을 뿐더러 확장 측면에서도 비효율적이다."
   ]
  },
  {
   "cell_type": "markdown",
   "metadata": {},
   "source": [
    "### 8.2 반복문을 이용한 구현"
   ]
  },
  {
   "cell_type": "markdown",
   "metadata": {},
   "source": [
    "```python\n",
    "class Variable:\n",
    "   \n",
    "    ... # 생략\n",
    "\n",
    "    def backward(self):\n",
    "        funcs = [self.creator]\n",
    "        while funcs:\n",
    "            f = funcs.pop() # 함수를 가져온다\n",
    "            x, y = f.input, f.output # 함수의 입출력을 가져온다\n",
    "            x.grad = f.backward(y.grad) # backward 메서드 호출\n",
    "\n",
    "            if x.creator is not None:\n",
    "                funcs.append(x.creator) # 이전 함수를 리스트에 추가\n",
    "```"
   ]
  },
  {
   "cell_type": "markdown",
   "metadata": {},
   "source": [
    "처리해야 할 함수들을 funcs라는 리스트에 차례로 집어넣고 while 반복문 내에서 funcs.pop()을 호출하여 처리할 함수 f를 꺼낸다. 이때 f.input과 f.output에서 함수의 입출력 변수를 얻어 f.backward 메서드를 호출함으로써 인수와 반환값을 올바르게 설정할 수 있다."
   ]
  },
  {
   "cell_type": "markdown",
   "metadata": {},
   "source": [
    "이를 통해 처리 효율이 개선되며, 복잡한 계산 그래프를 다루는 연산도 부드럽게 가능하다."
   ]
  }
 ],
 "metadata": {
  "kernelspec": {
   "display_name": "Python 3.9.12 64-bit",
   "language": "python",
   "name": "python3"
  },
  "language_info": {
   "name": "python",
   "version": "3.9.12"
  },
  "orig_nbformat": 4,
  "vscode": {
   "interpreter": {
    "hash": "b0fa6594d8f4cbf19f97940f81e996739fb7646882a419484c72d19e05852a7e"
   }
  }
 },
 "nbformat": 4,
 "nbformat_minor": 2
}
