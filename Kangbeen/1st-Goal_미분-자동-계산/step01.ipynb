{
 "cells": [
  {
   "cell_type": "markdown",
   "metadata": {},
   "source": [
    "## Step 1: 상자로서의 변수"
   ]
  },
  {
   "cell_type": "markdown",
   "metadata": {},
   "source": [
    "### 1.1 변수란"
   ]
  },
  {
   "cell_type": "markdown",
   "metadata": {},
   "source": [
    "'변수'란 데이터를 대입하거나 할당할 수 있는 공간.\n",
    "\n",
    "- 변수와 데이터는 별개이다.\n",
    "- 변수에는 데이터가 대입되거나 할당된다.\n",
    "- 변수를 통해 데이터를 참조할 수 있고, 이로써 데이터를 확인할 수 있다."
   ]
  },
  {
   "cell_type": "markdown",
   "metadata": {},
   "source": [
    "### 1.2 Variable 클래스 구현"
   ]
  },
  {
   "cell_type": "markdown",
   "metadata": {},
   "source": [
    "변수 개념을 Variable이라는 클래스로 구현해보자."
   ]
  },
  {
   "cell_type": "code",
   "execution_count": 4,
   "metadata": {},
   "outputs": [],
   "source": [
    "# steps/step01.py\n",
    "class Variable:\n",
    "    def __init__(self, data):\n",
    "        self.data = data"
   ]
  },
  {
   "cell_type": "markdown",
   "metadata": {},
   "source": [
    "초기화 함수 `__init__`에 주어진 인수를 인스턴스 변수 `data`에 대입했다.\n",
    "\n",
    "numpy의 다차원 배열을 위에서 만든 변수 클래스 Variable에 대입해보자."
   ]
  },
  {
   "cell_type": "code",
   "execution_count": 2,
   "metadata": {},
   "outputs": [
    {
     "name": "stdout",
     "output_type": "stream",
     "text": [
      "1.0\n"
     ]
    }
   ],
   "source": [
    "import numpy as np\n",
    "\n",
    "data = np.array(1.0)\n",
    "x = Variable(data)\n",
    "print(x.data)"
   ]
  },
  {
   "cell_type": "markdown",
   "metadata": {},
   "source": [
    "이때 `x`는 Variable 클래스의 인스턴스이며, 실제 데이터는 `x` 안에 담겨 있다. 이는 `x`가 데이터 자체가 아님을 의미한다."
   ]
  },
  {
   "cell_type": "markdown",
   "metadata": {},
   "source": [
    "머신러닝 시스템은 기본 데이터 구조로 다차원 배열을 사용하므로 우리의 Variable 클래스는 넘파이 다차원 배열만 취급할 것이다.\n",
    "\n",
    "넘파이의 다차원 배열 클래스는 `np.ndarray`로, 앞서 작성한 코드에서처럼 `np.array`로 생성 가능하다. "
   ]
  },
  {
   "cell_type": "code",
   "execution_count": 3,
   "metadata": {},
   "outputs": [
    {
     "name": "stdout",
     "output_type": "stream",
     "text": [
      "2.0\n"
     ]
    }
   ],
   "source": [
    "# 변수 데이터 덮어쓰기\n",
    "x.data = np.array(2.0)\n",
    "print(x.data)"
   ]
  },
  {
   "cell_type": "markdown",
   "metadata": {},
   "source": [
    "### 1.3 넘파이의 다차원 배열"
   ]
  },
  {
   "cell_type": "markdown",
   "metadata": {},
   "source": [
    "넘파이 다차원 배열에 대해 좀더 알아보자. 다차원 배열은 숫자 등의 원소가 일정하게 모여 있는 데이터 구조로, 원소 순서에 방향을 가진다. 이러한 방향을 차원(dimension) 혹은 축(axis)이라고 한다."
   ]
  },
  {
   "cell_type": "markdown",
   "metadata": {},
   "source": [
    "0차원 배열의 경우 스칼라(Scala), 1차원 배열은 벡터(Vector), 2차원 배열은 행렬(matrix)이라고 한다.\n",
    "\n",
    "스칼라는 단순히 하나의 수를 나타내며, 벡터는 하나의 축을 따라 숫자가 늘어서 있는, 방향성을 가진 배열이다. 행렬은 축이 두 개로 이루어진 배열이다.\n",
    "\n",
    "다차원 배열은 텐서(tensor)라고도 부르며, 이하에선 텐서로 표기하도록 하겠다."
   ]
  },
  {
   "cell_type": "markdown",
   "metadata": {},
   "source": [
    "넘파이의 `ndim` 인스턴스 변수를 사용하면 텐서의 차원 수를 확인할 수 있다."
   ]
  },
  {
   "cell_type": "code",
   "execution_count": 7,
   "metadata": {},
   "outputs": [
    {
     "name": "stdout",
     "output_type": "stream",
     "text": [
      "0\n",
      "1\n",
      "2\n"
     ]
    }
   ],
   "source": [
    "import numpy as np\n",
    "\n",
    "scala = np.array(1)\n",
    "print(scala.ndim)\n",
    "\n",
    "vector = np.array([1,2,3])\n",
    "print(vector.ndim)\n",
    "\n",
    "matrix = np.array([[1,2,3],\n",
    "                   [4,5,6]])\n",
    "print(matrix.ndim)"
   ]
  },
  {
   "cell_type": "markdown",
   "metadata": {},
   "source": [
    "벡터의 경우 차원을 이야기할 때 주의를 할 필요가 있다.\n",
    "\n",
    "[1,2,3]은 3개 원소를 가진 벡터로, 벡터의 차원 수를 이야기할 때는 '3차원 벡터'라고 부른다. 즉, 벡터의 차원은 백터 내 원소의 개수를 지칭하는 말이 된다.\n",
    "\n",
    "하지만 벡터는 그 원소의 개수와 무관하게 '1차원 배열'이다. 텐서의 차원 수는 축의 개수를 의미하기 때문이다."
   ]
  }
 ],
 "metadata": {
  "interpreter": {
   "hash": "b0fa6594d8f4cbf19f97940f81e996739fb7646882a419484c72d19e05852a7e"
  },
  "kernelspec": {
   "display_name": "Python 3.9.12 64-bit",
   "language": "python",
   "name": "python3"
  },
  "language_info": {
   "codemirror_mode": {
    "name": "ipython",
    "version": 3
   },
   "file_extension": ".py",
   "mimetype": "text/x-python",
   "name": "python",
   "nbconvert_exporter": "python",
   "pygments_lexer": "ipython3",
   "version": "3.9.12"
  },
  "orig_nbformat": 4
 },
 "nbformat": 4,
 "nbformat_minor": 2
}
