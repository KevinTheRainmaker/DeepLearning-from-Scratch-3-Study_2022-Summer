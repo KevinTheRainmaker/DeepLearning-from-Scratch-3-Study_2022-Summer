{
 "cells": [
  {
   "cell_type": "markdown",
   "metadata": {},
   "source": [
    "## Step 2: 변수를 낳는 함수"
   ]
  },
  {
   "cell_type": "markdown",
   "metadata": {},
   "source": [
    "### 2.1 함수란"
   ]
  },
  {
   "cell_type": "markdown",
   "metadata": {},
   "source": [
    "함수란 '어떤 변수로부터 다른 변수로의 대응 관계를 수식적으로 정한 것'이라고 할 수 있다. 예를 들어 'y는 x의 제곱이다'라는 문장은 변수 x와 y의 관계를 정의한 문장으로, 함수라고 할 수 있다."
   ]
  },
  {
   "cell_type": "markdown",
   "metadata": {},
   "source": [
    "```mermaid\n",
    "graph LR\n",
    "A(x) --> B[f]\n",
    "--> c(y)\n",
    "```"
   ]
  },
  {
   "cell_type": "markdown",
   "metadata": {},
   "source": [
    "\n",
    "위와 같이 도형으로 표현되는 노드들을 화살표 모양 엣지로 연결해 계산 과정을 표현한 그림을 계산 그래프(computational graph)라고 한다. 여기서 변수는 테두리가 둥근 사각형을, 함수는 각진 사각형을 사용해 나타내었다."
   ]
  },
  {
   "cell_type": "markdown",
   "metadata": {},
   "source": [
    "### 2.2 Function 클래스 구현"
   ]
  },
  {
   "cell_type": "markdown",
   "metadata": {},
   "source": [
    "앞서 구현한 Variable 인스턴스를 변수로 다룰 수 있는 함수 Function 클래스를 구현해보자.\n",
    "\n",
    "여기서 주의할 점 두 가지는 다음과 같다.\n",
    "\n",
    "- Function 클래스는 Variable 인스턴스를 입력 받아 Variable 인스턴스를 출력한다.\n",
    "- Variable 인스턴스의 실제 데이터는 인스턴스 변수인 data에 있다."
   ]
  },
  {
   "cell_type": "markdown",
   "metadata": {},
   "source": [
    "```python\n",
    "class Function:\n",
    "    def __call__(self, input):\n",
    "        x = input.data # 데이터 꺼내기\n",
    "        y = x ** 2 # 함수 정의\n",
    "        output = Variable(y) # Variable 형태로 되돌림\n",
    "        return output\n",
    "```"
   ]
  },
  {
   "cell_type": "markdown",
   "metadata": {},
   "source": [
    "`__call__` 메서드는 파이썬의 특수 메서드로 `f = Function()`의 형태로 함수의 인스턴스를 변수 f에 대입해두었다 필요 시 f(...)의 형태로 `__call__` 메서드를 호출할 수 있다."
   ]
  },
  {
   "cell_type": "markdown",
   "metadata": {},
   "source": [
    "대표적인 특수 메서드에는 `__init__`이 있다.\n",
    "\n",
    "특수 메서드에 대해서는 <a href='https://wikidocs.net/84418'>링크</a>를 참조하자."
   ]
  },
  {
   "cell_type": "markdown",
   "metadata": {},
   "source": [
    "`__call__` 메서드의 인수 input은 Variable 인스턴스라고 가정하므로 실제 데이터는 `input.data`에 존재한다. 데이터를 `input.data`에서 꺼내 x에 담은 후 함수 계산을 수행한다. 이렇게 계산된 값은 Variable에 담겨 `output` 형태로 출력된다."
   ]
  },
  {
   "cell_type": "markdown",
   "metadata": {},
   "source": [
    "### 2.3 Function 클래스 이용"
   ]
  },
  {
   "cell_type": "markdown",
   "metadata": {},
   "source": [
    "Variable 인스턴스인 `x`를 Function 인스턴스인 `f`에 입력해보자"
   ]
  },
  {
   "cell_type": "markdown",
   "metadata": {},
   "source": [
    "```python\n",
    "x = Variable(np.array(10))\n",
    "f = Function()\n",
    "y = f(x)\n",
    "\n",
    "print(type(y)) # <<class '__main__.Variable'>>\n",
    "print(y.data) # 100\n",
    "```"
   ]
  },
  {
   "cell_type": "markdown",
   "metadata": {},
   "source": [
    "`y`의 클래스는 Variable이며, 데이터는 `y.data`에 저장되어 있음을 확인할 수 있다."
   ]
  },
  {
   "cell_type": "markdown",
   "metadata": {},
   "source": [
    "위의 예시로 구현한 Function 함수는 제곱을 하는 함수이므로 Square이라고 명명하는 것이 더 바람직하다. 따라서 Function에는 모든 함수가 공통적으로 제공하는 기능만 남겨두고 Square 함수를 따로 만들도록 하겠다.\n",
    "\n",
    "Function 클래스가 작성되는 규칙은 다음과 같다.\n",
    "\n",
    "- Function 클래스는 기반 클래스(Base Class)로서, 모든 함수에 공통되는 기능을 구현한다.\n",
    "- 구체적인 함수(i.e. Square)는 Function 클래스를 상속한 클래스에서 구현한다."
   ]
  },
  {
   "cell_type": "code",
   "execution_count": 1,
   "metadata": {},
   "outputs": [],
   "source": [
    "# steps/step02.py\n",
    "class Variable:\n",
    "    def __init__(self, data):\n",
    "        self.data = data\n",
    "\n",
    "class Function:\n",
    "    def __call__(self, input):\n",
    "        x = input.data\n",
    "        y = self.forward(x) # 구체적인 계산은 forward에서 진행\n",
    "        output = Variable(y)\n",
    "        return output\n",
    "    \n",
    "    def forward(self, x):\n",
    "        raise NotImplementedError()"
   ]
  },
  {
   "cell_type": "markdown",
   "metadata": {},
   "source": [
    "`__call__`에서 기존에 임시로 제곱 계산을 수행하였던 부분을 수정하였고, 하위 메서드인 `forward`를 Function 클래스 안에 추가했다.\n",
    "\n",
    "`__call__` 메서드는 Variable에서 데이터를 가져오고 `forward`에 이를 넘겨주어 계산을 수행한 후 이 값을 다시 받아 Variable에 넘겨주어 output을 반환한다.\n",
    "\n",
    "이때 `forward` 메서드 안에는 `NotImplementedError`를 raise하게 하였는데, 이로써 Function 클래스의 `forward` 메서드를 직접 호출한 사람에게는 직접 호출이 아닌 상속 구현을 해야한다는 경고를 줄 수 있다."
   ]
  },
  {
   "cell_type": "code",
   "execution_count": 2,
   "metadata": {},
   "outputs": [],
   "source": [
    "# steps/step02.py\n",
    "class Square(Function): # Function 클래스 상속\n",
    "    def forward(self, x):\n",
    "        return x ** 2"
   ]
  },
  {
   "cell_type": "markdown",
   "metadata": {},
   "source": [
    "Square 클래스는 Function 클래스를 상속하기 때문에 `__call__` 메서드를 그대로 이어 받게 된다. 따라서 `forward` 메서드 부분만 오버라이딩(overriding)을 이용해 구체적으로 구현해주면 된다."
   ]
  },
  {
   "cell_type": "code",
   "execution_count": 4,
   "metadata": {},
   "outputs": [
    {
     "name": "stdout",
     "output_type": "stream",
     "text": [
      "<class '__main__.Variable'>\n",
      "100\n"
     ]
    }
   ],
   "source": [
    "import numpy as np\n",
    "\n",
    "x = Variable(np.array(10))\n",
    "f = Square()\n",
    "y = f(x)\n",
    "\n",
    "print(type(y))\n",
    "print(y.data)"
   ]
  }
 ],
 "metadata": {
  "interpreter": {
   "hash": "b0fa6594d8f4cbf19f97940f81e996739fb7646882a419484c72d19e05852a7e"
  },
  "kernelspec": {
   "display_name": "Python 3.9.12 64-bit",
   "language": "python",
   "name": "python3"
  },
  "language_info": {
   "codemirror_mode": {
    "name": "ipython",
    "version": 3
   },
   "file_extension": ".py",
   "mimetype": "text/x-python",
   "name": "python",
   "nbconvert_exporter": "python",
   "pygments_lexer": "ipython3",
   "version": "3.9.12"
  },
  "orig_nbformat": 4
 },
 "nbformat": 4,
 "nbformat_minor": 2
}
