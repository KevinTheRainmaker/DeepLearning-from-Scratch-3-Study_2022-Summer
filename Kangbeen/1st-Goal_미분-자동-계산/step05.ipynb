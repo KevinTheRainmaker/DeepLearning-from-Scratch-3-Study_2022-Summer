{
 "cells": [
  {
   "cell_type": "markdown",
   "metadata": {},
   "source": [
    "## Step 5: 역전파 이론"
   ]
  },
  {
   "cell_type": "markdown",
   "metadata": {},
   "source": [
    "수치 미분은 계산 비용과 정확도 측면에서 문제가 있다. 이러한 문제를 해결하는 방법론으로 등장한 것이 역전파(backpropagation)이다. 역전파를 이용하면 미분을 효율적으로 계산할 수 있고 결괏값의 오차도 더 작다."
   ]
  },
  {
   "cell_type": "markdown",
   "metadata": {},
   "source": [
    "### 5.1 연쇄 법칙"
   ]
  },
  {
   "cell_type": "markdown",
   "metadata": {},
   "source": [
    "연쇄 법칙(chain rule)은 말 그대로 함수를 사슬처럼 이어 붙여 계산하는 것을 의미한다. 연쇄 법칙에 따르면 합성 함수의 미분은 구성 함수 각각을 미분한 후 곱한 것과 같다."
   ]
  },
  {
   "cell_type": "markdown",
   "metadata": {},
   "source": [
    "$$\n",
    "{dy\\over dx}={dy\\over dy}{dy\\over db}{db\\over da}{da\\over dx}\n",
    "$$"
   ]
  },
  {
   "cell_type": "markdown",
   "metadata": {},
   "source": [
    "위 식은 y에 대한 x의 변화율, 즉 미분을 나타내는데, 이를 또 다른 변수 a와 b를 이용해 연쇄 법칙으로 나타낸 것이다. 여기서 맨 앞 $dy\\over dy$는 보통 생략하지만, 구현을 대비하여 포함시켰다."
   ]
  },
  {
   "cell_type": "markdown",
   "metadata": {},
   "source": [
    "### 5.2 역전파 원리 도출"
   ]
  },
  {
   "cell_type": "markdown",
   "metadata": {},
   "source": [
    "'역'전파라는 이름은 딥러닝의 기울기 소실(Gradient Vanishing) 문제를 해결하기 위한 방법으로, 출력부에서 입력부로 거슬러 올라가며 미분 계산을 수행하는 것을 의미한다. 따라서, 여기에서도 출력부에서 입력부 방향으로 계산해보도록 하겠다."
   ]
  },
  {
   "cell_type": "markdown",
   "metadata": {},
   "source": [
    "$$\n",
    "{dy\\over dx}=(({dy\\over dy}{dy\\over db}){db\\over da}){da\\over dx} \n",
    "= ({dy\\over db}{db\\over da}){da\\over dx}\n",
    "= {dy\\over da}{da\\over dx}\n",
    "= {dy\\over dx}\n",
    "$$"
   ]
  },
  {
   "cell_type": "markdown",
   "metadata": {},
   "source": [
    "위 식처럼, 출력 y에서 입력 x 방향으로 곱하면서 순서대로 미분하면 최종적으로 ${dy\\over dx}$가 계산된다. 이러한 방식을 '미분이 전파된다'라고 하며, 이때 방향이 출력에서 입력 방향으로 역순이므로 역전파라고 한다.\n",
    "\n",
    "이처럼 역순으로 계산하는 이유는 y의 미분값을 전파하기 위해서인데, 순전파(feedforward)에서는 x를 중요 요소로 하여 통상 계산을 수행하게 되고, 역전파에서는 y를 중요 요소로 하여 미분을 전파한다."
   ]
  },
  {
   "cell_type": "markdown",
   "metadata": {},
   "source": [
    "머신러닝은 주로 대량의 매개변수를 입력받아서 마지막에 손실 함수(loss function)를 거쳐 출력을 내는 형태로 진행하는데, 이때 손실 함수의 출력은 대부분 단일 스칼라 값이다."
   ]
  },
  {
   "cell_type": "markdown",
   "metadata": {},
   "source": [
    "손실 함수에 입력되는 매개변수가 중요 요소가 되며 손실 함수의 각 매개변수에 대해 미분이 계산된다."
   ]
  }
 ],
 "metadata": {
  "language_info": {
   "name": "python"
  },
  "orig_nbformat": 4
 },
 "nbformat": 4,
 "nbformat_minor": 2
}
