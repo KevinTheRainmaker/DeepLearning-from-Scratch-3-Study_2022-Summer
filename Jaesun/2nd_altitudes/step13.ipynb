{
 "cells": [
  {
   "cell_type": "code",
   "execution_count": 1,
   "metadata": {
    "collapsed": true
   },
   "outputs": [],
   "source": [
    "import numpy as np\n",
    "import sys\n",
    "sys.path.append('.')\n",
    "from step13_main import *"
   ]
  },
  {
   "cell_type": "markdown",
   "source": [
    "## 13. 가변 길이 인수 (역전파)\n",
    "### 13.1. 가변 길이 인수에 대응한 Add 클래스의 역전파\n",
    "덧셈에 대한 역전파는 gy를 그대로 위로 흘려 보내주면 된다는 컨셉을 이용해서 진행하면 된다.\n",
    "```python\n",
    "class Add(Function):\n",
    "    ...\n",
    "    def backward(self, gy):\n",
    "        return gy, gy\n",
    "```\n",
    "### 13.2. Variable 클래스 수정\n",
    "역전파에 대한 가변인수를 처리하기 위한 수정을 진행하면 된다!\n",
    " = *인자 형식으로 언팩 후 리스트 이용하기\n",
    "```python\n",
    "class Variable:\n",
    "    ...\n",
    "    def backward(self):\n",
    "        if self.grad is None:\n",
    "            self.grad = np.ones_like(self.data)\n",
    "\n",
    "        funcs = [self.creator]\n",
    "        while funcs:\n",
    "            f = funcs.pop()\n",
    "            gys = [output.grad for output in f.outputs] # 각 인수에서 grad(기울기) 추출\n",
    "            gxs = f.backward(*gys) # 언팩\n",
    "            if not isinstance(gxs, tuple): # 튜플 변환\n",
    "                gxs = (gxs,)\n",
    "\n",
    "            for x, gx in zip(f.inputs, gxs): # 각 역전파 결과값(다음 차례의 gy)에 대해서\n",
    "                x.grad = gx # gy 설정해주기\n",
    "\n",
    "                if x.creator is not None: # 초기 단계의 Var가 아닌 이상\n",
    "                    funcs.append(x.creator) # 다음 차례의 함수 붙여서 역전파 계속하기\n",
    "```\n",
    "### 13.3. Square 클래스 구현\n",
    "역전파에서 가변인수로 받으니 그 중에서 인덱스 0번을 가져오는 형태\n",
    "```python\n",
    "class Square(Function):\n",
    "    ...\n",
    "    def backward(self, gy):\n",
    "        x = self.inputs[0].data\n",
    "        gx = 2 * x * gy\n",
    "        return gx\n",
    "```"
   ],
   "metadata": {
    "collapsed": false,
    "pycharm": {
     "name": "#%% md\n"
    }
   }
  },
  {
   "cell_type": "code",
   "execution_count": null,
   "outputs": [],
   "source": [
    "x = Variable(np.array(2))\n",
    "y = Variable(np.array(3))\n",
    "\n",
    "z = add(square(x), square(y))"
   ],
   "metadata": {
    "collapsed": false,
    "pycharm": {
     "name": "#%%\n"
    }
   }
  },
  {
   "cell_type": "code",
   "execution_count": 3,
   "outputs": [
    {
     "name": "stdout",
     "output_type": "stream",
     "text": [
      "13\n",
      "4\n",
      "6\n"
     ]
    }
   ],
   "source": [
    "z.backward()\n",
    "print(z.data)\n",
    "print(x.grad)\n",
    "print(y.grad)\n",
    "\n",
    "\n",
    "\n"
   ],
   "metadata": {
    "collapsed": false,
    "pycharm": {
     "name": "#%%\n"
    }
   }
  }
 ],
 "metadata": {
  "kernelspec": {
   "display_name": "Python 3",
   "language": "python",
   "name": "python3"
  },
  "language_info": {
   "codemirror_mode": {
    "name": "ipython",
    "version": 2
   },
   "file_extension": ".py",
   "mimetype": "text/x-python",
   "name": "python",
   "nbconvert_exporter": "python",
   "pygments_lexer": "ipython2",
   "version": "2.7.6"
  }
 },
 "nbformat": 4,
 "nbformat_minor": 0
}