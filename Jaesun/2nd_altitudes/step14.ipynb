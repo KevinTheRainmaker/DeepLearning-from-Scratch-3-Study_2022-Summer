{
 "cells": [
  {
   "cell_type": "code",
   "execution_count": 1,
   "metadata": {
    "collapsed": true
   },
   "outputs": [],
   "source": [
    "import numpy as np\n",
    "import sys\n",
    "sys.path.append('.')\n",
    "from step14_main import *"
   ]
  },
  {
   "cell_type": "markdown",
   "source": [
    "## 14. 같은 변수 반복사용\n",
    "아래와 같이 될 경우 같은 변수를 입력값으로 사용했을 때 역전파가 올바르게 실행 될 수가 없다.\n",
    "```python\n",
    "class Variable:\n",
    "    ...\n",
    "    def backward(self):\n",
    "        ...\n",
    "            for x, gx in zip(f.inputs, gxs):\n",
    "                x.grad = gx\n",
    "```\n",
    "grad(기울기)값에 대한 초기값 설정과 이후의 갱신값 설정 방법에 대해서 다시 설정해주는 방법을 추가해준다!\n",
    "```python\n",
    "class Variable:\n",
    "    ...\n",
    "    def backward(self):\n",
    "        ...\n",
    "            for x, gx in zip(f.inputs, gxs):\n",
    "                if x.grad is None:\n",
    "                    x.grad = gx\n",
    "\n",
    "                else:\n",
    "                    x.grad = x.grad + gx\n",
    "```\n",
    "\n",
    "추가적으로 같은 변수로 새로운 계산을 적용하려 한다면 여기에 grad 초기화 함수도 추가해서 진행하자\n",
    "```python\n",
    "class Variable:\n",
    "    ...\n",
    "    def cleargrad(self):\n",
    "        self.grad = None\n",
    "```"
   ],
   "metadata": {
    "collapsed": false,
    "pycharm": {
     "name": "#%% md\n"
    }
   }
  },
  {
   "cell_type": "code",
   "execution_count": null,
   "outputs": [],
   "source": [
    "x = Variable(np.array(3.0))\n",
    "y = add(add(x, x), x)\n",
    "y.backward()\n",
    "print(x.grad)"
   ],
   "metadata": {
    "collapsed": false,
    "pycharm": {
     "name": "#%%\n"
    }
   }
  },
  {
   "cell_type": "code",
   "execution_count": 10,
   "outputs": [
    {
     "name": "stdout",
     "output_type": "stream",
     "text": [
      "2.0\n"
     ]
    }
   ],
   "source": [
    "x.cleargrad()\n",
    "y = add(x, x)\n",
    "y.backward()\n",
    "print(x.grad)"
   ],
   "metadata": {
    "collapsed": false,
    "pycharm": {
     "name": "#%%\n"
    }
   }
  },
  {
   "cell_type": "code",
   "execution_count": null,
   "outputs": [],
   "source": [
    "\n"
   ],
   "metadata": {
    "collapsed": false,
    "pycharm": {
     "name": "#%%\n"
    }
   }
  }
 ],
 "metadata": {
  "kernelspec": {
   "display_name": "Python 3",
   "language": "python",
   "name": "python3"
  },
  "language_info": {
   "codemirror_mode": {
    "name": "ipython",
    "version": 2
   },
   "file_extension": ".py",
   "mimetype": "text/x-python",
   "name": "python",
   "nbconvert_exporter": "python",
   "pygments_lexer": "ipython2",
   "version": "2.7.6"
  }
 },
 "nbformat": 4,
 "nbformat_minor": 0
}