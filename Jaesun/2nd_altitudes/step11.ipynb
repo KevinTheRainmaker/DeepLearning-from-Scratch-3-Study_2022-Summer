{
 "cells": [
  {
   "cell_type": "code",
   "execution_count": 1,
   "metadata": {
    "collapsed": true
   },
   "outputs": [],
   "source": [
    "import numpy as np\n",
    "import sys\n",
    "sys.path.append('.')\n",
    "from step11_main import *"
   ]
  },
  {
   "cell_type": "markdown",
   "source": [
    "## 11. 가변 길이 인수(순전파)\n",
    "여러 길이의 입출력이 가능하도록 인수를 넣고 출력할 수 있는 형태로 만들어보자!\n",
    "### 11.1. Function class 수정\n",
    "변수를 리스트에 담아 취급한다는 방법을 기억하기!\n",
    "```python\n",
    "class Function:\n",
    "    def __call__(self, inputs):\n",
    "        xs = [x.data for x in inputs]\n",
    "        ys = self.forward(xs)\n",
    "        outputs = [Variable(as_array(y)) for y in ys]\n",
    "\n",
    "        for output in outputs:\n",
    "            output.set_creator(self)\n",
    "        self.input = inputs\n",
    "        self.output = outputs\n",
    "        return outputs\n",
    "```\n",
    "\n",
    "### 11.2.Add class 구현\n",
    "```python\n",
    "class Add(Function):\n",
    "    def forward(self, xs):\n",
    "        x0, x1 = xs # 리스트 or 튜플에서 추출\n",
    "        y = x0 + x1\n",
    "        return (y,) # 결과 튜플로 저장\n",
    "```"
   ],
   "metadata": {
    "collapsed": false,
    "pycharm": {
     "name": "#%% md\n"
    }
   }
  },
  {
   "cell_type": "code",
   "execution_count": null,
   "outputs": [],
   "source": [
    "xs = [Variable(np.array(2)), Variable(np.array(3))]\n",
    "f = Add()\n",
    "ys = f(xs) # ys tuple\n",
    "y = ys[0]\n",
    "print(y.data)"
   ],
   "metadata": {
    "collapsed": false,
    "pycharm": {
     "name": "#%%\n"
    }
   }
  },
  {
   "cell_type": "code",
   "execution_count": null,
   "outputs": [],
   "source": [
    "\n"
   ],
   "metadata": {
    "collapsed": false,
    "pycharm": {
     "name": "#%%\n"
    }
   }
  }
 ],
 "metadata": {
  "kernelspec": {
   "display_name": "Python 3",
   "language": "python",
   "name": "python3"
  },
  "language_info": {
   "codemirror_mode": {
    "name": "ipython",
    "version": 2
   },
   "file_extension": ".py",
   "mimetype": "text/x-python",
   "name": "python",
   "nbconvert_exporter": "python",
   "pygments_lexer": "ipython2",
   "version": "2.7.6"
  }
 },
 "nbformat": 4,
 "nbformat_minor": 0
}