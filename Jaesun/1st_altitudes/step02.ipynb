{
 "cells": [
  {
   "cell_type": "markdown",
   "metadata": {
    "collapsed": true,
    "pycharm": {
     "name": "#%% md\n"
    }
   },
   "source": [
    "## Step 2 변수를 낳는 함수\n",
    "---\n",
    "### 2.1 함수란\n",
    "'어떤 변수로부터 다른 변수로의 대응 관계를 정한 것' -> y = f(x)\n",
    "아래의 표현방식을 계산 그래프(computational graph)\n",
    "x -> f -> y\n",
    "---\n",
    "### 2.2 Function class 구현\n",
    "+ Function class는 Variable를 받아 Variable를 인스턴스로 출력\n",
    "+ Variable의 실제 값은 그 상자 안의 데이터!\n",
    "\n",
    "```python\n",
    "class Function:\n",
    "    def __call__(self, input):\n",
    "        x = input.data\n",
    "        y = x ** 2\n",
    "        output = Variable(y)\n",
    "        return output\n",
    "```"
   ]
  },
  {
   "cell_type": "code",
   "execution_count": 3,
   "outputs": [],
   "source": [
    "# import step 01\n",
    "import numpy as np\n",
    "\n",
    "class Variable:\n",
    "    def __init__(self, data):\n",
    "        self.data = data"
   ],
   "metadata": {
    "collapsed": false,
    "pycharm": {
     "name": "#%%\n"
    }
   }
  },
  {
   "cell_type": "markdown",
   "source": [
    "### 2.3 Function class의 이용\n",
    "\n",
    "실제로는 class 내의 여러 method를 활용하여 계산을 진행하는 것이 바람직하다!\n",
    "+ Function class를 기반class로 둠으로써 모든 함수에 공통되는 기능을 구현하는 것이 목적\n",
    "+ 구체적은 함수는 Function class를 상속한 클래스에서 구현하는 것(class 상속)\n"
   ],
   "metadata": {
    "collapsed": false,
    "pycharm": {
     "name": "#%% md\n"
    }
   }
  },
  {
   "cell_type": "code",
   "execution_count": 4,
   "outputs": [],
   "source": [
    "class Function:\n",
    "    def __call__(self, input):\n",
    "        x = input.data\n",
    "        y  = self.forward(x)\n",
    "        output = Variable(y)\n",
    "        return output\n",
    "\n",
    "    def forward(self, x):\n",
    "        raise NotImplementedError()"
   ],
   "metadata": {
    "collapsed": false,
    "pycharm": {
     "name": "#%%\n"
    }
   }
  },
  {
   "cell_type": "markdown",
   "source": [
    "바로 Function class를 이용하는 사람은 forward 사용 시 에러가 발생되어 이 method는 상속해서 구현해야 한다는 사실을 알려줄 수 있다."
   ],
   "metadata": {
    "collapsed": false,
    "pycharm": {
     "name": "#%% md\n"
    }
   }
  },
  {
   "cell_type": "code",
   "execution_count": 5,
   "outputs": [],
   "source": [
    "class Square(Function):\n",
    "    def forward(self, x):\n",
    "        return x ** 2"
   ],
   "metadata": {
    "collapsed": false,
    "pycharm": {
     "name": "#%%\n"
    }
   }
  },
  {
   "cell_type": "markdown",
   "source": [
    "Square class는 상속된 것임으로 \\__call\\__ method가 계승된다.\n",
    "따라서 forward와 관련된 구체적인 계산 로직을 작성해 넣는 것만으로 구현은 끝이 난다."
   ],
   "metadata": {
    "collapsed": false,
    "pycharm": {
     "name": "#%% md\n"
    }
   }
  },
  {
   "cell_type": "code",
   "execution_count": 6,
   "outputs": [
    {
     "name": "stdout",
     "output_type": "stream",
     "text": [
      "<class '__main__.Variable'>\n",
      "100\n"
     ]
    }
   ],
   "source": [
    "x = Variable(np.array(10))\n",
    "f = Square()\n",
    "y = f(x)\n",
    "print(type(y))\n",
    "print(y.data)"
   ],
   "metadata": {
    "collapsed": false,
    "pycharm": {
     "name": "#%%\n"
    }
   }
  },
  {
   "cell_type": "markdown",
   "source": [
    "여기서 call 함수를 통해서 Variable class의 객체를 출력했기 때문에 y는 Variable class이다!"
   ],
   "metadata": {
    "collapsed": false,
    "pycharm": {
     "name": "#%% md\n"
    }
   }
  }
 ],
 "metadata": {
  "kernelspec": {
   "display_name": "Python 3",
   "language": "python",
   "name": "python3"
  },
  "language_info": {
   "codemirror_mode": {
    "name": "ipython",
    "version": 2
   },
   "file_extension": ".py",
   "mimetype": "text/x-python",
   "name": "python",
   "nbconvert_exporter": "python",
   "pygments_lexer": "ipython2",
   "version": "2.7.6"
  }
 },
 "nbformat": 4,
 "nbformat_minor": 0
}