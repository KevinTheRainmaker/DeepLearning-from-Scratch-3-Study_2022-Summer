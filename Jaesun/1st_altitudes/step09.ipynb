{
 "cells": [
  {
   "cell_type": "code",
   "execution_count": 1,
   "metadata": {
    "collapsed": true
   },
   "outputs": [],
   "source": [
    "import numpy as np\n",
    "import sys\n",
    "sys.path.append('.')\n",
    "from step09_main import *"
   ]
  },
  {
   "cell_type": "markdown",
   "source": [
    "## 9. 함수를 더 편리하게\n",
    "### 9.1. 파이썬 함수로 이용하기\n",
    "```python\n",
    "def square(x):\n",
    "    f = Square()\n",
    "    return f(x)\n",
    "\n",
    "\n",
    "def exp(x):\n",
    "    f = Exp()\n",
    "    return f(x)\n",
    "```\n",
    "파이썬 함수 사용과 같은 표현으로 사용할 수 있다!"
   ],
   "metadata": {
    "collapsed": false,
    "pycharm": {
     "name": "#%% md\n"
    }
   }
  },
  {
   "cell_type": "code",
   "execution_count": null,
   "outputs": [],
   "source": [
    "x = Variable(np.array(0.5))\n",
    "a = square(x)\n",
    "b = exp(a)\n",
    "y = square(b)\n",
    "\n",
    "y.grad = np.array(1.0)\n",
    "y.backward()\n",
    "print(x.grad)"
   ],
   "metadata": {
    "collapsed": false,
    "pycharm": {
     "name": "#%%\n"
    }
   }
  },
  {
   "cell_type": "markdown",
   "source": [
    "### 9.2 backward 메소드 간소화\n",
    "\n",
    "역전파시 y.grad 값 초기화 등 귀찮은 부분이 좀 많다! 생략해버리자!\n",
    "```python\n",
    "class Variable:\n",
    "    ...\n",
    "    def backward(self):\n",
    "        if self.grad is None:\n",
    "            self.grad = np.ones_like(self.data) # grad 가 초기에 설정되지 않았다면 1로 초기화\n",
    "\n",
    "        ...\n",
    "```"
   ],
   "metadata": {
    "collapsed": false,
    "pycharm": {
     "name": "#%% md\n"
    }
   }
  },
  {
   "cell_type": "code",
   "execution_count": 3,
   "outputs": [
    {
     "name": "stdout",
     "output_type": "stream",
     "text": [
      "3.297442541400256\n"
     ]
    }
   ],
   "source": [
    "x = Variable(np.array(0.5))\n",
    "y = square(exp(square(x)))\n",
    "y.backward()\n",
    "print(x.grad)"
   ],
   "metadata": {
    "collapsed": false,
    "pycharm": {
     "name": "#%%\n"
    }
   }
  },
  {
   "cell_type": "markdown",
   "source": [
    "### 9.3 ndarray만 취급하기\n",
    "\n",
    "Variable이라는 상자에 numpy값만 받을 수 있도록 조정\n",
    "\n",
    "```python\n",
    "class Variable:\n",
    "    def __init__(self, data):\n",
    "        if data is not None:\n",
    "            if not isinstance(data, np.ndarray):\n",
    "                raise TypeError('{}은(는) 지원하지 않습니다.'.format(type(data)))\n",
    "\n",
    "# ndarray로 바꿔주는 함수 제작하여 Func 클래스에서 적용(오류 방지)\n",
    "def as_array(x):\n",
    "    if np.isscalar(x):\n",
    "        return np.array(x)\n",
    "    return x\n",
    "\n",
    "\n",
    "class Function:\n",
    "    def __call__(self, input):\n",
    "        ...\n",
    "        output = Variable(as_array(y))\n",
    "```"
   ],
   "metadata": {
    "collapsed": false,
    "pycharm": {
     "name": "#%% md\n"
    }
   }
  }
 ],
 "metadata": {
  "kernelspec": {
   "display_name": "Python 3",
   "language": "python",
   "name": "python3"
  },
  "language_info": {
   "codemirror_mode": {
    "name": "ipython",
    "version": 2
   },
   "file_extension": ".py",
   "mimetype": "text/x-python",
   "name": "python",
   "nbconvert_exporter": "python",
   "pygments_lexer": "ipython2",
   "version": "2.7.6"
  }
 },
 "nbformat": 4,
 "nbformat_minor": 0
}