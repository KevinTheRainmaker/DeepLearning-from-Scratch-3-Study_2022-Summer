{
 "cells": [
  {
   "cell_type": "markdown",
   "metadata": {
    "collapsed": true,
    "pycharm": {
     "name": "#%% md\n"
    }
   },
   "source": [
    "## Step 1. 상자로서의 변수\n",
    "---\n",
    "### 1.1 변수란\n",
    "데이터 -> 상자 => 상자를 변수라고 지칭\n",
    "+ 상자와 데이터는 별개\n",
    "+ 상자에는 데이터가 할당\n",
    "+ 상자를 참조하면 데이터를 알 수 있다\n",
    "---\n",
    "### 1.2 Variable 클래스 구현\n",
    "Variable class = 상자 구현해보기"
   ]
  },
  {
   "cell_type": "code",
   "execution_count": 1,
   "outputs": [],
   "source": [
    "# Variable 이라는 상자 규격을 정의\n",
    "\n",
    "class Variable:\n",
    "    def __init__(self, data):\n",
    "        self.data = data"
   ],
   "metadata": {
    "collapsed": false,
    "pycharm": {
     "name": "#%%\n"
    }
   }
  },
  {
   "cell_type": "code",
   "execution_count": 3,
   "outputs": [
    {
     "name": "stdout",
     "output_type": "stream",
     "text": [
      "1.0\n"
     ]
    }
   ],
   "source": [
    "# X 라는 이름의 Variable 상자를 생성해서 1.0을 부여해서 출력\n",
    "\n",
    "import numpy as np\n",
    "\n",
    "data = np.array(1.0)\n",
    "x = Variable(data)\n",
    "print(x.data)"
   ],
   "metadata": {
    "collapsed": false,
    "pycharm": {
     "name": "#%%\n"
    }
   }
  },
  {
   "cell_type": "code",
   "source": [
    "# 새로운 data를 대입하여 다시 출력\n",
    "\n",
    "x.data = np.array(2.0)\n",
    "print(x.data)"
   ],
   "metadata": {
    "collapsed": false,
    "pycharm": {
     "name": "#%%\n"
    }
   },
   "execution_count": 4,
   "outputs": [
    {
     "name": "stdout",
     "output_type": "stream",
     "text": [
      "2.0\n"
     ]
    }
   ]
  },
  {
   "cell_type": "markdown",
   "source": [
    "---\n",
    "### 1.3 [보충] 넘파이의 다차원 배열\n",
    "1  -> scalar (0d)\n",
    "\n",
    "123 -> vector (1d)\n",
    "\n",
    "123\n",
    "456 -> matrix (2d)\n",
    "ndim으로 차원 수 표현"
   ],
   "metadata": {
    "collapsed": false,
    "pycharm": {
     "name": "#%% md\n"
    }
   }
  },
  {
   "cell_type": "code",
   "execution_count": 6,
   "outputs": [
    {
     "name": "stdout",
     "output_type": "stream",
     "text": [
      "0\n",
      "1\n",
      "2\n"
     ]
    }
   ],
   "source": [
    "x = np.array(1)\n",
    "print(x.ndim)\n",
    "x = np.array([1, 2, 3])\n",
    "print(x.ndim)\n",
    "x = np.array([[1, 2, 3], [4, 5, 6]])\n",
    "print(x.ndim)\n"
   ],
   "metadata": {
    "collapsed": false,
    "pycharm": {
     "name": "#%%\n"
    }
   }
  }
 ],
 "metadata": {
  "kernelspec": {
   "display_name": "Python 3",
   "language": "python",
   "name": "python3"
  },
  "language_info": {
   "codemirror_mode": {
    "name": "ipython",
    "version": 2
   },
   "file_extension": ".py",
   "mimetype": "text/x-python",
   "name": "python",
   "nbconvert_exporter": "python",
   "pygments_lexer": "ipython2",
   "version": "2.7.6"
  }
 },
 "nbformat": 4,
 "nbformat_minor": 0
}