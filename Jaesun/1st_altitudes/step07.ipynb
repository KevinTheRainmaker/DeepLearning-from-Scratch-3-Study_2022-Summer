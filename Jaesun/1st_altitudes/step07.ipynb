{
 "cells": [
  {
   "cell_type": "markdown",
   "metadata": {
    "collapsed": true,
    "pycharm": {
     "name": "#%% md\n"
    }
   },
   "source": [
    "## 7. 역전파 자동화\n",
    "계산 그래프의 순서를 리스트화 하여 자동으로 역전파를 출력할 수 있는 시스템을 구축해보자!\n",
    "\n",
    "```python\n",
    "class Variable:\n",
    "    def __init__(self, data):\n",
    "        ...\n",
    "        self.creator = None #변수에 대한 생성자 추가!\n",
    "\n",
    "    def set_creator(self, func):\n",
    "        self.creator = func #생성자 추가함수\n",
    "\n",
    "\n",
    "class Function:\n",
    "    def __call__(self, input):\n",
    "        ...\n",
    "        output.set_creator(self) # 출력 변수 Variable 클래스 안의 함수 사용하여 생성자 함수 저장\n",
    "        ...\n",
    "        self.output = output # 출력을 저장하여 역전파 자동화할 때 입력값으로 사용할 예정\n",
    "```"
   ]
  },
  {
   "cell_type": "code",
   "execution_count": 1,
   "outputs": [],
   "source": [
    "import numpy as np\n",
    "import sys\n",
    "sys.path.append('.')\n",
    "from step07_main import Variable, Function, Square, Exp\n"
   ],
   "metadata": {
    "collapsed": false,
    "pycharm": {
     "name": "#%%\n"
    }
   }
  },
  {
   "cell_type": "code",
   "execution_count": 2,
   "outputs": [],
   "source": [
    "A = Square()\n",
    "B = Exp()\n",
    "C = Square()\n",
    "\n",
    "x = Variable(np.array(0.5))\n",
    "a = A(x)\n",
    "b = B(a)\n",
    "y = C(b)"
   ],
   "metadata": {
    "collapsed": false,
    "pycharm": {
     "name": "#%%\n"
    }
   }
  },
  {
   "cell_type": "code",
   "execution_count": 3,
   "outputs": [],
   "source": [
    "# 노드 관계 확인\n",
    "assert y.creator == C\n",
    "assert y.creator.input == b\n",
    "assert y.creator.input.creator == B\n",
    "assert y.creator.input.creator.input == a\n",
    "assert y.creator.input.creator.input.creator == A\n",
    "assert y.creator.input.creator.input.creator.input == x\n",
    "# 오류 없음!"
   ],
   "metadata": {
    "collapsed": false,
    "pycharm": {
     "name": "#%%\n"
    }
   }
  },
  {
   "cell_type": "markdown",
   "source": [
    "### 7.3. backward method 추가\n",
    "```python\n",
    "class Variable:\n",
    "    ...\n",
    "\n",
    "    def backward(self): # backward method 추가\n",
    "        f = self.creator\n",
    "        if f is not None:\n",
    "            x = f.input\n",
    "            x.grad = f.backward(self.grad)\n",
    "            x.backward() # 재귀함수 식으로 self.creator가 존재하면 계속해서 역전파 진행\n",
    "```\n"
   ],
   "metadata": {
    "collapsed": false,
    "pycharm": {
     "name": "#%% md\n"
    }
   }
  },
  {
   "cell_type": "code",
   "execution_count": null,
   "outputs": [],
   "source": [
    "# 아래 형식으로 거슬러 올라가기\n",
    "\n",
    "\"\"\"\n",
    "y.grad = np.array(1.0)\n",
    "\n",
    "C = y.creator\n",
    "b = C.input\n",
    "b.grad = C.backward(y.grad)\n",
    "\n",
    "....\n",
    "\n",
    "x.grad = A.backward(a.grad)\n",
    "\"\"\"\n",
    "\n",
    "# Variable 수정후\n",
    "y.grad = np.array(1.0)\n",
    "y.backward() # x.gard까지 자동으로 계산!\n",
    "print(x.grad)"
   ],
   "metadata": {
    "collapsed": false,
    "pycharm": {
     "name": "#%%\n"
    }
   }
  },
  {
   "cell_type": "code",
   "execution_count": null,
   "outputs": [],
   "source": [
    "\n"
   ],
   "metadata": {
    "collapsed": false,
    "pycharm": {
     "name": "#%%\n"
    }
   }
  }
 ],
 "metadata": {
  "kernelspec": {
   "display_name": "Python 3",
   "language": "python",
   "name": "python3"
  },
  "language_info": {
   "codemirror_mode": {
    "name": "ipython",
    "version": 2
   },
   "file_extension": ".py",
   "mimetype": "text/x-python",
   "name": "python",
   "nbconvert_exporter": "python",
   "pygments_lexer": "ipython2",
   "version": "2.7.6"
  }
 },
 "nbformat": 4,
 "nbformat_minor": 0
}